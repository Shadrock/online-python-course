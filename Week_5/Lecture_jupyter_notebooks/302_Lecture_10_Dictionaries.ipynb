{
  "nbformat": 4,
  "nbformat_minor": 0,
  "metadata": {
    "colab": {
      "name": "302_Lecture_10_Dictionaries.ipynb",
      "provenance": [],
      "collapsed_sections": [
        "CetSmN0FHauZ",
        "hhfBOZUPICZo",
        "A8PeUoEvIG2c",
        "qbGfjP-tJWmi",
        "U3py1HWtKCMx",
        "31j_1jo_KlJu",
        "pJ62hUvJL3KE",
        "sLDHD92aT2C0",
        "m7nfaSOuWCz0",
        "GQZrJzVtXfDs",
        "tF7nB_paYBuU"
      ],
      "authorship_tag": "ABX9TyM8ckQqNcSvubZOGJDKbc3d",
      "include_colab_link": true
    },
    "kernelspec": {
      "name": "python3",
      "display_name": "Python 3"
    }
  },
  "cells": [
    {
      "cell_type": "markdown",
      "metadata": {
        "id": "view-in-github",
        "colab_type": "text"
      },
      "source": [
        "<a href=\"https://colab.research.google.com/github/Shadrock/online-python-course/blob/master/Week_5/Lecture_jupyter_notebooks/302_Lecture_10_Dictionaries.ipynb\" target=\"_parent\"><img src=\"https://colab.research.google.com/assets/colab-badge.svg\" alt=\"Open In Colab\"/></a>"
      ]
    },
    {
      "cell_type": "markdown",
      "metadata": {
        "id": "CetSmN0FHauZ",
        "colab_type": "text"
      },
      "source": [
        "# Revisiting Lists\n",
        "A few warm-up problems on lists. \n"
      ]
    },
    {
      "cell_type": "markdown",
      "metadata": {
        "id": "hhfBOZUPICZo",
        "colab_type": "text"
      },
      "source": [
        "## List Exercise 1\n",
        "using the list below, write a `for` loop to print the square of each number in the list. "
      ]
    },
    {
      "cell_type": "code",
      "metadata": {
        "id": "RXiDKbA2HWx6",
        "colab_type": "code",
        "colab": {}
      },
      "source": [
        "prime_nums = [2,3,5,7,11,13,17,19,23,29]\n"
      ],
      "execution_count": null,
      "outputs": []
    },
    {
      "cell_type": "markdown",
      "metadata": {
        "id": "A8PeUoEvIG2c",
        "colab_type": "text"
      },
      "source": [
        "### Exercise 1 Answer"
      ]
    },
    {
      "cell_type": "code",
      "metadata": {
        "id": "mFYwSDEsIGdl",
        "colab_type": "code",
        "colab": {}
      },
      "source": [
        "for num in prime_nums:\n",
        "  print(num**2)"
      ],
      "execution_count": null,
      "outputs": []
    },
    {
      "cell_type": "markdown",
      "metadata": {
        "id": "qbGfjP-tJWmi",
        "colab_type": "text"
      },
      "source": [
        "## List Exercise 2\n",
        "Write a function to print all the elements in a list: use the following structure. \n",
        "\n",
        "- Define a function that accepts a list as an argument. \n",
        "- for each element in the list\n",
        "- print the element\n",
        "  -- then\n",
        "- Call the function by **creating** a list as an argument. \n",
        "- Create a variable and list and pass the variable as an argument. "
      ]
    },
    {
      "cell_type": "markdown",
      "metadata": {
        "id": "U3py1HWtKCMx",
        "colab_type": "text"
      },
      "source": [
        "### Exercise 2 Answer"
      ]
    },
    {
      "cell_type": "code",
      "metadata": {
        "id": "CA3Zt3-LKAtU",
        "colab_type": "code",
        "colab": {}
      },
      "source": [
        "def dosomething(thelist):\n",
        "  for element in thelist:\n",
        "    print(element)\n",
        "\n",
        "dosomething([1,2,3,4])  # Creating a list as an argument\n",
        "\n",
        "alist = ['red', 'green', 'blue'] # Creating a new variable and list\n",
        "dosomething(alist) # Passing new variable and list as an argument\n"
      ],
      "execution_count": null,
      "outputs": []
    },
    {
      "cell_type": "markdown",
      "metadata": {
        "id": "31j_1jo_KlJu",
        "colab_type": "text"
      },
      "source": [
        "## Exercise 3\n",
        "Write a function that takes a list and returns a new list with unique elements of the first list. This is a common \"data munging\" problem. Use the list of country codes provided below. "
      ]
    },
    {
      "cell_type": "code",
      "metadata": {
        "id": "kE8EDtIzKdGB",
        "colab_type": "code",
        "colab": {}
      },
      "source": [
        "countrylist = ['UGA', 'KEN', 'TZA', 'KEN', 'KEN', 'SDN', 'TZA', 'UGA']"
      ],
      "execution_count": null,
      "outputs": []
    },
    {
      "cell_type": "markdown",
      "metadata": {
        "id": "9TZgwwHbLYGi",
        "colab_type": "text"
      },
      "source": [
        "Suggested structure of your code: \n",
        "- Define a function to accept a list as an argument.\n",
        "- Initialize a new, null list (list with nothing in it). \n",
        "- traverse all teh elements so that, for each element in an existing list\n",
        "- append the null list with the element (remember `.append()`)\n",
        "- for element in null list\n",
        "- print element. "
      ]
    },
    {
      "cell_type": "markdown",
      "metadata": {
        "id": "pJ62hUvJL3KE",
        "colab_type": "text"
      },
      "source": [
        "### Exercise 3 Answer"
      ]
    },
    {
      "cell_type": "code",
      "metadata": {
        "id": "qUKp7SEeLW69",
        "colab_type": "code",
        "colab": {}
      },
      "source": [
        "# This function takes a list as an input and prints a list of only the unique elements of that list. \n",
        "def unique(list1):\n",
        "  unique_values = []\n",
        "  for element in list1:\n",
        "    if element not in unique_values:\n",
        "      unique_values.append(element)\n",
        "  for element in unique_values:\n",
        "    print(element)\n",
        "\n",
        "unique(countrylist)"
      ],
      "execution_count": null,
      "outputs": []
    },
    {
      "cell_type": "markdown",
      "metadata": {
        "id": "YKkUaXABNGMZ",
        "colab_type": "text"
      },
      "source": [
        "# Refresh on compound data types\n",
        "- Strings: made up of small pieces (characters) - `'hello world!'`\n",
        "- Lists: made up of small pieces (elements) - `['Hello', 'World!']`\n",
        "- Dictionaries: made up of key/value pairs - `{'word1':'Hello', 'word2', 'World'}`\n",
        "\n",
        "Lists store objects in an ordered sequence you access via an index. Dictionaries use \"key-value\" pairing instead. Dictionaries therefore **cannot** be sorted: they are an **un-ordered** way to store objects. \n"
      ]
    },
    {
      "cell_type": "markdown",
      "metadata": {
        "id": "P1G_EakYOWe9",
        "colab_type": "text"
      },
      "source": [
        "# Dictionaries & Use Cases\n",
        "Okay, so why should we use them? \n",
        "\n",
        "Dictionaries are flexible about the data types they can hold: integers, floats, lists, other dictionaries. \n",
        "Use dictionaries to retrieve a value **without** needing to know its exact location (index). For example, a dictionary is a good choice to store data pulled from a user on social media: \n",
        "\n",
        "`user_info = {'name':'John', 'surname':'Smithy', 'age':29}`\n",
        "\n",
        "As always, the integer doesn't need quote marks, while the strings do.\n",
        "\n",
        "In this example, I've used the key names to provide a bit more information about the data: we know that the value `'John'` is a name and that the value `'Smithy'` is a last name. \n",
        "\n",
        "Another use-case might be survey responses: this example contains the answers to four survey questions: one of which is a Boolean expression. \n",
        "\n",
        "`Pat = {'question1':'sometimes', 'question2':'Cincinatti', 'question3':1984, 'online':'True'}`\n",
        "\n",
        "I could keep a collection of Latin tree names: \n",
        "\n",
        "`tree_names_latin = {'broad_maple':'acer_amplum', 'white_oak':'quercus_alba'}`\n",
        "\n"
      ]
    },
    {
      "cell_type": "markdown",
      "metadata": {
        "id": "Fv6_f2MeQeA-",
        "colab_type": "text"
      },
      "source": [
        "# Creating Dictionaries\n",
        "***Method 1***: create a dictionary by providing a list of key-value pairs. "
      ]
    },
    {
      "cell_type": "code",
      "metadata": {
        "id": "TbgrpQTXOVtR",
        "colab_type": "code",
        "colab": {
          "base_uri": "https://localhost:8080/",
          "height": 35
        },
        "outputId": "8b96e22d-b2b6-4055-a1c5-c11ce8f3fc60"
      },
      "source": [
        "price_lookup = {'rice':1.99, 'oil':1.99, 'chicken':4.89}\n",
        "print(price_lookup) # What's the output? \n"
      ],
      "execution_count": null,
      "outputs": [
        {
          "output_type": "stream",
          "text": [
            "{'rice': 1.99, 'oil': 1.99, 'chicken': 4.89}\n"
          ],
          "name": "stdout"
        }
      ]
    },
    {
      "cell_type": "code",
      "metadata": {
        "id": "DWLB6CXqQ8X3",
        "colab_type": "code",
        "colab": {}
      },
      "source": [
        "print(price_lookup['oil']) # What's the output?"
      ],
      "execution_count": null,
      "outputs": []
    },
    {
      "cell_type": "markdown",
      "metadata": {
        "id": "GMWwl9qCSlMA",
        "colab_type": "text"
      },
      "source": [
        "Given a dictionary `d` and a key `k`, it is easy to find the corresponding value `v = d[k]`. This operation is called a lookup.\n",
        "\n",
        "But what if you have v and you want to find k? You have two problems: first, there might be more than one key that maps to the value v. Depending on the application, you might be able to pick one, or you might have to make a list that contains all of them. Second, there is no simple syntax to do a reverse lookup; you have to search. [Reverse lookups can be found in the textbook](http://greenteapress.com/thinkpython2/html/thinkpython2012.html#sec133). "
      ]
    },
    {
      "cell_type": "markdown",
      "metadata": {
        "id": "0aMnj2qlQ8Bz",
        "colab_type": "text"
      },
      "source": [
        "***Method 2***: create an empty dictionary and then add elements. "
      ]
    },
    {
      "cell_type": "code",
      "metadata": {
        "id": "TUJAD-UYRKm1",
        "colab_type": "code",
        "colab": {}
      },
      "source": [
        "# Initialize an empty dictionary to translate English to French\n",
        "eng2fr = {}\n",
        "\n",
        "# Add key value pairs\n",
        "eng2fr['one'] = 'une'\n",
        "eng2fr['two'] = 'deux'\n",
        "eng2fr['three'] = 'trois'\n",
        "\n",
        "print(eng2fr)"
      ],
      "execution_count": null,
      "outputs": []
    },
    {
      "cell_type": "code",
      "metadata": {
        "id": "oI3UAC42RgJA",
        "colab_type": "code",
        "colab": {}
      },
      "source": [
        "print(eng2fr['three'])"
      ],
      "execution_count": null,
      "outputs": []
    },
    {
      "cell_type": "markdown",
      "metadata": {
        "id": "DzVwbEwLR-a0",
        "colab_type": "text"
      },
      "source": [
        "What happens when we replace a key/value pair???"
      ]
    },
    {
      "cell_type": "code",
      "metadata": {
        "id": "7-ZQJPE8RkDO",
        "colab_type": "code",
        "colab": {}
      },
      "source": [
        "eng2fr = {'four':'quatre', 'five':'cinq', 'four':'four'}"
      ],
      "execution_count": null,
      "outputs": []
    },
    {
      "cell_type": "code",
      "metadata": {
        "id": "2DG3C1y5TmYF",
        "colab_type": "code",
        "colab": {}
      },
      "source": [
        "print(eng2fr) # What's the output? "
      ],
      "execution_count": null,
      "outputs": []
    },
    {
      "cell_type": "markdown",
      "metadata": {
        "id": "MTXbg95bfv3y",
        "colab_type": "text"
      },
      "source": [
        "# Checking key-value Pairs\n",
        "Write a script to check whether a given key already exists in a dictionary. For a dictionary use:\n",
        "\n",
        "`d = {1: \"Nairobi\", 2: \"Denver\", 3: \"Jakarta\", 4: \"Austin\", 5: \"Dubai\", 6: \"Montreal\"}`\n"
      ]
    },
    {
      "cell_type": "markdown",
      "metadata": {
        "id": "u-e8OvDzgdW4",
        "colab_type": "text"
      },
      "source": [
        "## Answer"
      ]
    },
    {
      "cell_type": "code",
      "metadata": {
        "id": "L7r5EI4Lf57Q",
        "colab_type": "code",
        "colab": {}
      },
      "source": [
        "d = {1: \"Nairobi\", 2: \"Denver\", 3: \"Jakarta\", 4: \"Austin\", 5: \"Dubai\", 6: \"Montreal\"}\n",
        "\n",
        "def is_key_present(x):\n",
        "  if x in d:\n",
        "      print('Key is present in the dictionary')\n",
        "  else:\n",
        "      print('Key is not present in the dictionary')\n",
        "\n",
        "is_key_present(4)\n"
      ],
      "execution_count": null,
      "outputs": []
    },
    {
      "cell_type": "markdown",
      "metadata": {
        "id": "sLDHD92aT2C0",
        "colab_type": "text"
      },
      "source": [
        "# Dictionary Operations"
      ]
    },
    {
      "cell_type": "markdown",
      "metadata": {
        "id": "Avi8hj1XT4ej",
        "colab_type": "text"
      },
      "source": [
        "Create a dictionary called 'inventory'; delete one of the key value pairs; then check the length of the dictionary. This is a good trick for checking data. If you conducted 30 surveys, but only hav a `len` of 29 key value pairs: you know you're missing something!"
      ]
    },
    {
      "cell_type": "code",
      "metadata": {
        "id": "LnTFSLHdTn2O",
        "colab_type": "code",
        "colab": {}
      },
      "source": [
        "inventory = {'tents':430, 'stoves': 312, 'beds': 217}\n",
        "print(inventory) # Check to make sure our dictionary is working. "
      ],
      "execution_count": null,
      "outputs": []
    },
    {
      "cell_type": "code",
      "metadata": {
        "id": "keIq_zh4UQdE",
        "colab_type": "code",
        "colab": {}
      },
      "source": [
        "del inventory['stoves']"
      ],
      "execution_count": null,
      "outputs": []
    },
    {
      "cell_type": "code",
      "metadata": {
        "id": "YUKVw8ueUWlA",
        "colab_type": "code",
        "colab": {}
      },
      "source": [
        "len(inventory) # If you're working in shell/script you may need to use print(len(inventory))"
      ],
      "execution_count": null,
      "outputs": []
    },
    {
      "cell_type": "markdown",
      "metadata": {
        "id": "pwXblrgbUnD5",
        "colab_type": "text"
      },
      "source": [
        "You can also use `.keys()` and `.values()` methods to list all the elements of a dictionary... but what data type do these output? "
      ]
    },
    {
      "cell_type": "code",
      "metadata": {
        "id": "TIEDnpH9UY3d",
        "colab_type": "code",
        "colab": {}
      },
      "source": [
        "inventory.keys() # In shell/script use print(inventory.keys())"
      ],
      "execution_count": null,
      "outputs": []
    },
    {
      "cell_type": "code",
      "metadata": {
        "id": "L8cibK1wU0Br",
        "colab_type": "code",
        "colab": {}
      },
      "source": [
        "inventory.values()  # In shell/script use print(inventory.keys())"
      ],
      "execution_count": null,
      "outputs": []
    },
    {
      "cell_type": "markdown",
      "metadata": {
        "id": "eBJe3AWyVDHg",
        "colab_type": "text"
      },
      "source": [
        "What's the output for... "
      ]
    },
    {
      "cell_type": "code",
      "metadata": {
        "id": "wqUx_FRdVEjf",
        "colab_type": "code",
        "colab": {}
      },
      "source": [
        "inventory.items() # Hint, we'll talk about it in the next class. "
      ],
      "execution_count": null,
      "outputs": []
    },
    {
      "cell_type": "markdown",
      "metadata": {
        "id": "B2QZsrLEVNTw",
        "colab_type": "text"
      },
      "source": [
        "...and you can clear out your dictionary with:\n"
      ]
    },
    {
      "cell_type": "code",
      "metadata": {
        "id": "SJTSBis0VGq3",
        "colab_type": "code",
        "colab": {}
      },
      "source": [
        "dict.clear(inventory)"
      ],
      "execution_count": null,
      "outputs": []
    },
    {
      "cell_type": "code",
      "metadata": {
        "id": "KgrULDiAVR2X",
        "colab_type": "code",
        "colab": {
          "base_uri": "https://localhost:8080/",
          "height": 35
        },
        "outputId": "cda1255a-ed8d-4086-8353-b130168b21d1"
      },
      "source": [
        "print(inventory) # What's the output?"
      ],
      "execution_count": null,
      "outputs": [
        {
          "output_type": "stream",
          "text": [
            "{}\n"
          ],
          "name": "stdout"
        }
      ]
    },
    {
      "cell_type": "markdown",
      "metadata": {
        "id": "m7nfaSOuWCz0",
        "colab_type": "text"
      },
      "source": [
        "# Dictionary Comprehension\n",
        "This is an elegant and concise way to create a new dictionary from an iterable in Python. \n",
        "The syntax for this is a variable that is an expression inside curly braces `{}`; that includes a `(key:value)` pair followed by a `for` statement that uses `range`. [Go here if you need a refresher on `range`](https://docs.python.org/3/library/stdtypes.html#typesseq-range). Example: "
      ]
    },
    {
      "cell_type": "code",
      "metadata": {
        "id": "YNpzb-MrVS-j",
        "colab_type": "code",
        "colab": {}
      },
      "source": [
        "# This code creates a dictionary for all squares (number times itself) in a range from 0-5. \n",
        "squares = {x:x*x for x in range(7)}"
      ],
      "execution_count": null,
      "outputs": []
    },
    {
      "cell_type": "code",
      "metadata": {
        "id": "HzRRQx32W5yc",
        "colab_type": "code",
        "colab": {
          "base_uri": "https://localhost:8080/",
          "height": 35
        },
        "outputId": "c751ed3b-93d8-432c-9dc8-93f0fe9ccdf2"
      },
      "source": [
        "print(squares)"
      ],
      "execution_count": null,
      "outputs": [
        {
          "output_type": "stream",
          "text": [
            "{0: 0, 1: 1, 2: 4, 3: 9, 4: 16, 5: 25, 6: 36}\n"
          ],
          "name": "stdout"
        }
      ]
    },
    {
      "cell_type": "markdown",
      "metadata": {
        "id": "s7oEl0aFW9oP",
        "colab_type": "text"
      },
      "source": [
        "What's the output? How did indexing play a role here?"
      ]
    },
    {
      "cell_type": "markdown",
      "metadata": {
        "id": "GQZrJzVtXfDs",
        "colab_type": "text"
      },
      "source": [
        "# Traversing a Dictionary\n",
        "Create the following dictionary for a map legend and write a function that will take a dictionary for an argument and print each item (key/value pair). Instead of setting counters and indexing, remember that you can simpley use a `for` statement with `.items()`. "
      ]
    },
    {
      "cell_type": "code",
      "metadata": {
        "id": "_sSjb94NW7Va",
        "colab_type": "code",
        "colab": {}
      },
      "source": [
        "legend = {0:'no value', 1:'deciduous', 2:'conifers', 3:'industrial', 4:'residential', 5:'water bodies', 6:'agricultural'}"
      ],
      "execution_count": null,
      "outputs": []
    },
    {
      "cell_type": "markdown",
      "metadata": {
        "id": "tF7nB_paYBuU",
        "colab_type": "text"
      },
      "source": [
        "## Answer"
      ]
    },
    {
      "cell_type": "code",
      "metadata": {
        "id": "ZT6rqYUKX32r",
        "colab_type": "code",
        "colab": {
          "base_uri": "https://localhost:8080/",
          "height": 145
        },
        "outputId": "bdc95f2d-e084-4869-8b9a-daed4ba08309"
      },
      "source": [
        "def printDictionary(dicInput):\n",
        "  for (x, y) in dicInput.items():\n",
        "    print(x, y)\n",
        "\n",
        "printDictionary(legend)"
      ],
      "execution_count": null,
      "outputs": [
        {
          "output_type": "stream",
          "text": [
            "0 no value\n",
            "1 deciduous\n",
            "2 conifers\n",
            "3 industrial\n",
            "4 residential\n",
            "5 water bodies\n",
            "6 agricultural\n"
          ],
          "name": "stdout"
        }
      ]
    },
    {
      "cell_type": "markdown",
      "metadata": {
        "id": "2YhwhgKSYuB5",
        "colab_type": "text"
      },
      "source": [
        "Using this exact same structure, together with methods mentioned earlier, how would we list only keys and only values? "
      ]
    },
    {
      "cell_type": "code",
      "metadata": {
        "id": "tMeVV4bzYzmc",
        "colab_type": "code",
        "colab": {
          "base_uri": "https://localhost:8080/",
          "height": 55
        },
        "outputId": "f7296d6d-f611-414e-e431-baad2555c202"
      },
      "source": [
        "legend.items()\n"
      ],
      "execution_count": null,
      "outputs": [
        {
          "output_type": "execute_result",
          "data": {
            "text/plain": [
              "dict_items([(0, 'no value'), (1, 'deciduous'), (2, 'conifers'), (3, 'industrial'), (4, 'residential'), (5, 'water bodies'), (6, 'agricultural')])"
            ]
          },
          "metadata": {
            "tags": []
          },
          "execution_count": 23
        }
      ]
    }
  ]
}