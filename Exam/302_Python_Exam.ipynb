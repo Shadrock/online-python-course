{
  "nbformat": 4,
  "nbformat_minor": 0,
  "metadata": {
    "colab": {
      "name": "302_Python_Exam.ipynb",
      "provenance": [],
      "collapsed_sections": [],
      "authorship_tag": "ABX9TyMCM5V6USH3Kj0l0LANBLLI",
      "include_colab_link": true
    },
    "kernelspec": {
      "name": "python3",
      "display_name": "Python 3"
    }
  },
  "cells": [
    {
      "cell_type": "markdown",
      "metadata": {
        "id": "view-in-github",
        "colab_type": "text"
      },
      "source": [
        "<a href=\"https://colab.research.google.com/github/Shadrock/online-python-course/blob/master/Exam/302_Python_Exam.ipynb\" target=\"_parent\"><img src=\"https://colab.research.google.com/assets/colab-badge.svg\" alt=\"Open In Colab\"/></a>"
      ]
    },
    {
      "cell_type": "markdown",
      "metadata": {
        "id": "skgUaXy85OqL",
        "colab_type": "text"
      },
      "source": [
        "Each question is worth one point unless otherwise noted. As stated in the Github README: this is generaly delivered as a *printed exam sheet*. I want them to be able to think through code with a pencil and paper and have a good enough undersanding of these concepts to be able to do them without staring at the screen. "
      ]
    },
    {
      "cell_type": "markdown",
      "metadata": {
        "id": "h0-Z2lzg21nm",
        "colab_type": "text"
      },
      "source": [
        "# 1. What is the output of the following code?"
      ]
    },
    {
      "cell_type": "code",
      "metadata": {
        "id": "giXFbtCV2xGx",
        "colab_type": "code",
        "colab": {}
      },
      "source": [
        "print ('4' + '2')"
      ],
      "execution_count": null,
      "outputs": []
    },
    {
      "cell_type": "markdown",
      "metadata": {
        "id": "KId1d6g_3A-m",
        "colab_type": "text"
      },
      "source": [
        "# 2. What is the output of the following code?"
      ]
    },
    {
      "cell_type": "code",
      "metadata": {
        "id": "31UbSOyy26M8",
        "colab_type": "code",
        "colab": {}
      },
      "source": [
        "for i in range(3):\n",
        "  print(\"I love Python!\")"
      ],
      "execution_count": null,
      "outputs": []
    },
    {
      "cell_type": "markdown",
      "metadata": {
        "id": "dLgXfc693R0P",
        "colab_type": "text"
      },
      "source": [
        "# 3. What is the output of the following code? "
      ]
    },
    {
      "cell_type": "code",
      "metadata": {
        "id": "ERObDsid3UN9",
        "colab_type": "code",
        "colab": {}
      },
      "source": [
        "for i in range(4):\n",
        "  print (i)"
      ],
      "execution_count": null,
      "outputs": []
    },
    {
      "cell_type": "markdown",
      "metadata": {
        "id": "Aogsie163bYk",
        "colab_type": "text"
      },
      "source": [
        "# 4. What is the output of the following code?"
      ]
    },
    {
      "cell_type": "code",
      "metadata": {
        "id": "bw6ZO4Mk3aIa",
        "colab_type": "code",
        "colab": {}
      },
      "source": [
        "n=3\n",
        "for x in [2,5,8]:\n",
        "  n = n+x\n",
        "print(n)"
      ],
      "execution_count": null,
      "outputs": []
    },
    {
      "cell_type": "markdown",
      "metadata": {
        "id": "bE2ImuxO34xe",
        "colab_type": "text"
      },
      "source": [
        "# 5. What is the output of the following code?"
      ]
    },
    {
      "cell_type": "code",
      "metadata": {
        "id": "Wn_iV42e397A",
        "colab_type": "code",
        "colab": {}
      },
      "source": [
        "for i in [3,5,8,9]:\n",
        "  print (i-1)"
      ],
      "execution_count": null,
      "outputs": []
    },
    {
      "cell_type": "markdown",
      "metadata": {
        "id": "qAIwqzMV37wZ",
        "colab_type": "text"
      },
      "source": [
        "# 6. Write the first line of code for a function called \"some_function\" that takes an integer for an argument. \n",
        "\n",
        "\n"
      ]
    },
    {
      "cell_type": "markdown",
      "metadata": {
        "id": "xk_PxC1X7S1r",
        "colab_type": "text"
      },
      "source": [
        "**Answer:**\n",
        "```\n",
        " def some_function(x): \n",
        "```\n",
        "Where 'x' is generic but they must have something. Half credit if they forgot the colon.\n"
      ]
    },
    {
      "cell_type": "markdown",
      "metadata": {
        "id": "2UbJmhDD4U45",
        "colab_type": "text"
      },
      "source": [
        "# 7. What is a Boolean expression"
      ]
    },
    {
      "cell_type": "markdown",
      "metadata": {
        "id": "KycqBfdL7gKr",
        "colab_type": "text"
      },
      "source": [
        "**Answer:**\n",
        "An expression that is either true or false."
      ]
    },
    {
      "cell_type": "markdown",
      "metadata": {
        "id": "LZabxwtU4XpU",
        "colab_type": "text"
      },
      "source": [
        "# 8. Given the following variable, which is a URL, how would you select and print only the word \"google\"?\n",
        "\n",
        "\n",
        "```\n",
        "url = 'https://www.google.com/maps/@42.2509428,-71.8249939,17z.'\n",
        "```\n",
        "\n"
      ]
    },
    {
      "cell_type": "markdown",
      "metadata": {
        "id": "Tz1vCiIr7zVU",
        "colab_type": "text"
      },
      "source": [
        "**Answer:**\n",
        "```\n",
        "print(url[12:18])\n",
        "```\n",
        "This uses slicing at the index points. \n"
      ]
    },
    {
      "cell_type": "markdown",
      "metadata": {
        "id": "zTP9_tgx4xG4",
        "colab_type": "text"
      },
      "source": [
        "# 9. How can you access \"Nairobi\" in the following list? \n",
        "\n",
        "\n",
        "```\n",
        "cities = [\"Jakarta\", \"Mumbai\", \"Nairobi\"]\n",
        "```\n",
        "\n"
      ]
    },
    {
      "cell_type": "markdown",
      "metadata": {
        "id": "r8qqOxPT8EGk",
        "colab_type": "text"
      },
      "source": [
        "**Answer:**\n",
        "```\n",
        "cities[2]\n",
        "```\n",
        "I also give credit for:\n",
        "```\n",
        "print(cities[2])\n",
        "```\n",
        "\n",
        "\n"
      ]
    },
    {
      "cell_type": "markdown",
      "metadata": {
        "id": "JzPecFuh4-sZ",
        "colab_type": "text"
      },
      "source": [
        "# 10. What is the Boolean expression for the following code? \n",
        "\n",
        "\n",
        "```\n",
        "5 == 6\n",
        "```\n",
        "\n"
      ]
    },
    {
      "cell_type": "markdown",
      "metadata": {
        "id": "ymAb-ehl8Qk4",
        "colab_type": "text"
      },
      "source": [
        "**Answer:** False!"
      ]
    },
    {
      "cell_type": "markdown",
      "metadata": {
        "id": "WXOZdkbv5HZi",
        "colab_type": "text"
      },
      "source": [
        "# 11. Short Answer - 4 points:\n",
        "**Part A** What is execution flow and why is it important to understand? \n"
      ]
    },
    {
      "cell_type": "markdown",
      "metadata": {
        "id": "2VYlJYjG5qfP",
        "colab_type": "text"
      },
      "source": [
        "**Part B** Below is a code block. Write out the execution flow for this block. "
      ]
    },
    {
      "cell_type": "code",
      "metadata": {
        "id": "wjT-4Rlz3tZw",
        "colab_type": "code",
        "colab": {}
      },
      "source": [
        "def WorkdayHours():\n",
        "  print(\"Mon-Fri: 9-9\")\n",
        "def WeekendHours():\n",
        "  print(\"Weekends: 11-5\")\n",
        "def ShopHours():\n",
        "  WorkdayHours()\n",
        "  WeekendHours()\n",
        "\n",
        "ShopHours()"
      ],
      "execution_count": null,
      "outputs": []
    },
    {
      "cell_type": "markdown",
      "metadata": {
        "id": "I5BoDr5v6LoB",
        "colab_type": "text"
      },
      "source": [
        "# 12. Short Answer - 4 points. Describe what a \"string\" is, in Python, and give an example of a string with the variable name \"string.\"\n",
        "\n",
        "**Answer**: A: string is a sequence of characters such as a word, sentence, etc. Example can be ```string = “anything”``` or ```string = ‘anything’``` where “anything” is a word, sentence, etc. "
      ]
    },
    {
      "cell_type": "markdown",
      "metadata": {
        "id": "WqXcxLxP6We_",
        "colab_type": "text"
      },
      "source": [
        "# 13. Short Answer - 4 points. Describe what a 'list' is, in Python and give an example of a list with the variable name \"list\" that contains a string, a float, and an integer. \n",
        "\n",
        "**Answer:** a list is a sequence of values. In a string, the values are characters; in a list, they can be any type. The values in a list are called elements or sometimes items. Example can be some variant of \n",
        "```\n",
        "list = [‘anything’, 2.432, 5]```\n",
        " Will also accept some variant of ```list = [“anything”, 2.432, 5]```"
      ]
    },
    {
      "cell_type": "markdown",
      "metadata": {
        "id": "-N3XMJYX6jG3",
        "colab_type": "text"
      },
      "source": [
        "# 14. Short Answer - 4 points. Describe what a 'dictionary' is, in Python and give an example of a dictionary called \"country codes\" containing 3 country names and some random number. \n",
        "\n",
        "**Answer:** A dictionary is like a list, but more general. In a list, the indices have to be integers; in a dictionary they can be (almost) any type. You can think of a dictionary as a mapping between a set of indices (which are called keys) and a set of values. Each key maps to a value. The association of a key and a value is called a key-value pair or sometimes an item. Example can be some variant of ```countrycodes = {'USA': 123, 'France': 456, 'Indonesia': 789}``` Will also accept some variant of ```countrycodes = {“USA”: 123, “France”: 456, “Indonesia”: 789}```"
      ]
    },
    {
      "cell_type": "markdown",
      "metadata": {
        "id": "K168v2PD6vTe",
        "colab_type": "text"
      },
      "source": [
        "# 15. Short Answer - 4 points. Explain what a comment code is and why it is important in programming. "
      ]
    },
    {
      "cell_type": "code",
      "metadata": {
        "id": "NkRj_gRN6DgF",
        "colab_type": "code",
        "colab": {}
      },
      "source": [
        ""
      ],
      "execution_count": null,
      "outputs": []
    }
  ]
}