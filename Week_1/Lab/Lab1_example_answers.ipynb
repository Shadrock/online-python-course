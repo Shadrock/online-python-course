{
  "nbformat": 4,
  "nbformat_minor": 0,
  "metadata": {
    "kernelspec": {
      "display_name": "Python 3",
      "language": "python",
      "name": "python3"
    },
    "language_info": {
      "codemirror_mode": {
        "name": "ipython",
        "version": 3
      },
      "file_extension": ".py",
      "mimetype": "text/x-python",
      "name": "python",
      "nbconvert_exporter": "python",
      "pygments_lexer": "ipython3",
      "version": "3.6.6"
    },
    "colab": {
      "name": "Lab1_example_answers.ipynb",
      "provenance": [],
      "collapsed_sections": [],
      "include_colab_link": true
    }
  },
  "cells": [
    {
      "cell_type": "markdown",
      "metadata": {
        "id": "view-in-github",
        "colab_type": "text"
      },
      "source": [
        "<a href=\"https://colab.research.google.com/github/Shadrock/online-python-course/blob/master/Week_2/Lab/Lab1_example_answers.ipynb\" target=\"_parent\"><img src=\"https://colab.research.google.com/assets/colab-badge.svg\" alt=\"Open In Colab\"/></a>"
      ]
    },
    {
      "cell_type": "markdown",
      "metadata": {
        "id": "IaFECxKaSOlm",
        "colab_type": "text"
      },
      "source": [
        "# **Lab 1: Calculating agricultural land and rain runoff in Kenya** "
      ]
    },
    {
      "cell_type": "markdown",
      "metadata": {
        "id": "BbGpm4WHSOlo",
        "colab_type": "text"
      },
      "source": [
        "### Concepts from Chapter 2: Variables, expressions, and statements"
      ]
    },
    {
      "cell_type": "markdown",
      "metadata": {
        "id": "PECpwFwpSOlp",
        "colab_type": "text"
      },
      "source": [
        "#### Points:\n",
        "\n",
        "#### Due Date: \n",
        "\n",
        "#### Submit via: Github\n",
        "----------"
      ]
    },
    {
      "cell_type": "markdown",
      "metadata": {
        "id": "FXxqHlj9SOlq",
        "colab_type": "text"
      },
      "source": [
        "### The Problem We’re Solving:"
      ]
    },
    {
      "cell_type": "markdown",
      "metadata": {
        "id": "tJ57eHi3SOlr",
        "colab_type": "text"
      },
      "source": [
        "When agricultural land is paved over, rainwater cannot be absorbed as easily, resulting in runoff of rainwater. In some cases, this runoff can lead to increases in flooding or landslides. The runoff also presents an opportunity to capture and/or recycle it. We’re going to write a short script to calculate the amount of rain run off of a single plot of land (50 feet by 20 feet) in Kenya during a very small rain storm. You may be as astonished as we were to learn how much it is. Take a guess: what is the volume of water that runs off a 1,000 square foot plot of paved land during a 1 inch rain storm? 20 gallons? 50 gallons? 100 gallons? 1000 gallons?\n",
        "\n",
        "To calculate the runoff from any given rainfall:\n",
        "\n",
        "Start by writing your script to include variables and values for the length, width, and area of the plot of land. You may want to put a comment tag to show what this section of script is for. Take the dimensions of the footprint of the land and convert them to inches, because the rainwater is measured in inches and we will need to convert to gallons. Then create descriptive variables with these values and use them to calculate the area. Note: you only need to calculate to the second decimal place, or hundredths.\n",
        "Next create include variables and values for the amount of rainfall, which equals: length times width times the number of inches of rainfall to get the cubic inches of water.\n",
        "Once you’ve done that, you’ll need to convert the number of cubic inches to gallons.\n",
        "\n",
        "\n",
        "Finally, make sure that the script will print out the following text, along with the values you used. It should look something like this:\n",
        "> - plot_length is:  ____________ (whatever values you used)\n",
        "- plot_width is:  ____________ (whatever values you used)\n",
        "- rainfall_inches is:  ____________ (whatever values you used)\n",
        "- runoff_gallons is:  ____________ (whatever values you used)\n",
        "\n",
        "----------"
      ]
    },
    {
      "cell_type": "markdown",
      "metadata": {
        "id": "Xs6PXhd_SOls",
        "colab_type": "text"
      },
      "source": [
        "### _Possible Solutions_"
      ]
    },
    {
      "cell_type": "code",
      "metadata": {
        "id": "otlhMBxBSOlt",
        "colab_type": "code",
        "colab": {
          "base_uri": "https://localhost:8080/",
          "height": 85
        },
        "outputId": "391ef822-3111-4f8c-b1f8-19e4b1d2ab08"
      },
      "source": [
        "#Converting feet to inches\n",
        "length= 50*12\n",
        "width= 20*12\n",
        "rainfall = 1\n",
        "\n",
        "#Calculating Area of Plot in inches\n",
        "plot_area = length*width\n",
        "\n",
        "#Calculating number of inches of rainfall in cubic inches of water\n",
        "rainfall_inches = (plot_area*rainfall)\n",
        "\n",
        "#Converting cubic inches to gallons\n",
        "runoff_gallons = (rainfall_inches / 231)\n",
        "\n",
        "#Final Outputs\n",
        "print('plot_length is:',length,'in')\n",
        "print('plot_width is:',width,'in')\n",
        "print('rainfall_inches is:',rainfall_inches,'in^3')\n",
        "print('runoff_gallons is:',runoff_gallons,'in')"
      ],
      "execution_count": null,
      "outputs": [
        {
          "output_type": "stream",
          "text": [
            "plot_length is: 600 in\n",
            "plot_width is: 240 in\n",
            "rainfall_inches is: 144000 in^3\n",
            "runoff_gallons is: 623.3766233766233 in\n"
          ],
          "name": "stdout"
        }
      ]
    },
    {
      "cell_type": "code",
      "metadata": {
        "id": "463QizFJSOl1",
        "colab_type": "code",
        "colab": {
          "base_uri": "https://localhost:8080/",
          "height": 85
        },
        "outputId": "51006238-e48d-4d9a-a9ce-156f315ceaf0"
      },
      "source": [
        "plot_length = 50  #Length of plot area in ft\n",
        "plot_width = 20  #Width of plot area in ft\n",
        "area = plot_length*plot_width  #Area in ft\n",
        "areain = (plot_length*12)* (plot_width*12)  #Area in inches\n",
        "rainfall=1  #Amount of recorded rainfall in inches\n",
        "rainfall_inches = areain*rainfall  #Volume of rainfall in certain area (inches cubed)\n",
        "runoff_gallons = rainfall_inches*0.004329 #Volume of rainfall in area (gallons)\n",
        "\n",
        "print(\"Plot_length is:\", (plot_length), \"ft\")\n",
        "print(\"Plot_width is:\", (plot_width), \"ft\")\n",
        "print(\"Rainfall_inches is:\",(rainfall_inches), \"in^3\")\n",
        "print(\"Runoff_gallons is:\", (runoff_gallons), \"gal\")"
      ],
      "execution_count": null,
      "outputs": [
        {
          "output_type": "stream",
          "text": [
            "Plot_length is: 50 ft\n",
            "Plot_width is: 20 ft\n",
            "Rainfall_inches is: 144000 in^3\n",
            "Runoff_gallons is: 623.3760000000001 gal\n"
          ],
          "name": "stdout"
        }
      ]
    }
  ]
}