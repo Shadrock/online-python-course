{
  "nbformat": 4,
  "nbformat_minor": 0,
  "metadata": {
    "colab": {
      "name": "302_Lecture_6_Common_Errors_in_Python.ipynb",
      "provenance": [],
      "collapsed_sections": [
        "PcSJz976m2V3",
        "R5GGQzahoCl4",
        "Ph9KCJ0ZnLGM",
        "hnZU8HOQqPrd",
        "M9q8vtRnnJmS",
        "0GkwShGqoI1W",
        "pI6mMuGXnIC9",
        "to0w_DgeoGXf",
        "OdPvb1gIm-6a",
        "XjGP06HqnQ8W",
        "gDKNxBm5nFyV",
        "V8Wx4CMaoEGo",
        "H-gJ3UwhuY3Q",
        "bOhgAiVquuz9",
        "JARk7E7dnNfk",
        "JqhHexaToNgu"
      ],
      "include_colab_link": true
    },
    "kernelspec": {
      "name": "python3",
      "display_name": "Python 3"
    }
  },
  "cells": [
    {
      "cell_type": "markdown",
      "metadata": {
        "id": "view-in-github",
        "colab_type": "text"
      },
      "source": [
        "<a href=\"https://colab.research.google.com/github/Shadrock/online-python-course/blob/master/Week_3/Lecture_jupyter_notebooks/302_Lecture_6_Common_Errors_in_Python.ipynb\" target=\"_parent\"><img src=\"https://colab.research.google.com/assets/colab-badge.svg\" alt=\"Open In Colab\"/></a>"
      ]
    },
    {
      "cell_type": "markdown",
      "metadata": {
        "id": "UNE-Y1xzS9Bf",
        "colab_type": "text"
      },
      "source": [
        "Below are a series of code snippets that contains common errors: figure out the error and fix the code!"
      ]
    },
    {
      "cell_type": "markdown",
      "metadata": {
        "id": "PcSJz976m2V3",
        "colab_type": "text"
      },
      "source": [
        "# What's the error? \n"
      ]
    },
    {
      "cell_type": "code",
      "metadata": {
        "id": "ws8ZWkqXPjzd",
        "colab_type": "code",
        "colab": {
          "base_uri": "https://localhost:8080/",
          "height": 129
        },
        "outputId": "75fd6452-5b39-434a-a520-d247e2f8b328"
      },
      "source": [
        "# Python program to demostrate errors\n",
        "\n",
        "def Age(num):\n",
        "if num>25:\n",
        "  print(\"The person is allowed inside\")\n",
        "else:\n",
        "  print(\"The person is not allowed inside\")\n",
        "\n",
        "Age(25)"
      ],
      "execution_count": null,
      "outputs": [
        {
          "output_type": "error",
          "ename": "SyntaxError",
          "evalue": "ignored",
          "traceback": [
            "\u001b[0;36m  File \u001b[0;32m\"<ipython-input-14-97bc406693e8>\"\u001b[0;36m, line \u001b[0;32m5\u001b[0m\n\u001b[0;31m    else:\u001b[0m\n\u001b[0m       ^\u001b[0m\n\u001b[0;31mSyntaxError\u001b[0m\u001b[0;31m:\u001b[0m invalid syntax\n"
          ]
        }
      ]
    },
    {
      "cell_type": "markdown",
      "metadata": {
        "id": "R5GGQzahoCl4",
        "colab_type": "text"
      },
      "source": [
        "## Answer"
      ]
    },
    {
      "cell_type": "markdown",
      "metadata": {
        "id": "71EN1x5-oSZZ",
        "colab_type": "text"
      },
      "source": [
        "**Indentation error** – You have used a mixture of tabs and spaces. You haven’t intended all lines in a block equally."
      ]
    },
    {
      "cell_type": "markdown",
      "metadata": {
        "id": "Ph9KCJ0ZnLGM",
        "colab_type": "text"
      },
      "source": [
        "# What's the error? "
      ]
    },
    {
      "cell_type": "code",
      "metadata": {
        "id": "9kbmJUcSe24v",
        "colab_type": "code",
        "colab": {
          "base_uri": "https://localhost:8080/",
          "height": 129
        },
        "outputId": "d524e809-99d4-4312-b4a9-038d23069154"
      },
      "source": [
        "# Python program to demostrate errors\n",
        "\n",
        "print \"hello\""
      ],
      "execution_count": null,
      "outputs": [
        {
          "output_type": "error",
          "ename": "SyntaxError",
          "evalue": "ignored",
          "traceback": [
            "\u001b[0;36m  File \u001b[0;32m\"<ipython-input-15-97072e50aa3a>\"\u001b[0;36m, line \u001b[0;32m2\u001b[0m\n\u001b[0;31m    print \"hello\"\u001b[0m\n\u001b[0m                ^\u001b[0m\n\u001b[0;31mSyntaxError\u001b[0m\u001b[0;31m:\u001b[0m Missing parentheses in call to 'print'. Did you mean print(\"hello\")?\n"
          ]
        }
      ]
    },
    {
      "cell_type": "markdown",
      "metadata": {
        "id": "hnZU8HOQqPrd",
        "colab_type": "text"
      },
      "source": [
        "## Answer"
      ]
    },
    {
      "cell_type": "markdown",
      "metadata": {
        "id": "O2Eqjx-9qTgw",
        "colab_type": "text"
      },
      "source": [
        "**Syntax Error** – You’ve forgotten the quotes around the string, you’ve forgotten to put a colon at the end of def/if/for line, our you’ve different number of open and close brackets in a statement. "
      ]
    },
    {
      "cell_type": "markdown",
      "metadata": {
        "id": "M9q8vtRnnJmS",
        "colab_type": "text"
      },
      "source": [
        "# What's the error? "
      ]
    },
    {
      "cell_type": "code",
      "metadata": {
        "id": "XlTICVJran48",
        "colab_type": "code",
        "colab": {
          "base_uri": "https://localhost:8080/",
          "height": 129
        },
        "outputId": "da79d56c-cf89-4dce-fb2a-b095d92b8186"
      },
      "source": [
        "# Python program to demostrate errors\n",
        "len('hello') = 5"
      ],
      "execution_count": null,
      "outputs": [
        {
          "output_type": "error",
          "ename": "SyntaxError",
          "evalue": "ignored",
          "traceback": [
            "\u001b[0;36m  File \u001b[0;32m\"<ipython-input-18-6f7fd6add487>\"\u001b[0;36m, line \u001b[0;32m1\u001b[0m\n\u001b[0;31m    len('hello') = 5\u001b[0m\n\u001b[0m                    ^\u001b[0m\n\u001b[0;31mSyntaxError\u001b[0m\u001b[0;31m:\u001b[0m can't assign to function call\n"
          ]
        }
      ]
    },
    {
      "cell_type": "markdown",
      "metadata": {
        "id": "0GkwShGqoI1W",
        "colab_type": "text"
      },
      "source": [
        "## Answer"
      ]
    },
    {
      "cell_type": "markdown",
      "metadata": {
        "id": "hFoNLR28p2VF",
        "colab_type": "text"
      },
      "source": [
        "**Syntax Error** – You’ve forgotten the quotes around the string, you’ve forgotten to put a colon at the end of def/if/for line, and You’ve different number of open and close brackets in a statement. "
      ]
    },
    {
      "cell_type": "markdown",
      "metadata": {
        "id": "pI6mMuGXnIC9",
        "colab_type": "text"
      },
      "source": [
        "# What's the error? "
      ]
    },
    {
      "cell_type": "code",
      "metadata": {
        "id": "oBV1kPIYZHH3",
        "colab_type": "code",
        "colab": {
          "base_uri": "https://localhost:8080/",
          "height": 34
        },
        "outputId": "bd9d0550-986c-4fec-e348-13e65b23184b"
      },
      "source": [
        "# Python program to demostrate errors\n",
        "\n",
        "def Age(num):\n",
        "  if num>25:\n",
        "    print(\"The person is allowed inside\")\n",
        "  else:\n",
        "    print(\"The person is not allowed inside\")\n",
        "\n",
        "Age(25)"
      ],
      "execution_count": null,
      "outputs": [
        {
          "output_type": "stream",
          "text": [
            "The person is not allowed inside\n"
          ],
          "name": "stdout"
        }
      ]
    },
    {
      "cell_type": "markdown",
      "metadata": {
        "id": "to0w_DgeoGXf",
        "colab_type": "text"
      },
      "source": [
        "## Answer"
      ]
    },
    {
      "cell_type": "markdown",
      "metadata": {
        "id": "44XmlYQtpaUo",
        "colab_type": "text"
      },
      "source": [
        "**Name Error** – You’ve misspelt a variable, function, or method name. You’ve forgotten to import a module, you’ve forgotten to define a variable, your code uses the variable outside the scope where it’s defined, your code calls a function before it’s defined, and you’re trying to print a single word and have forgotten the quotes."
      ]
    },
    {
      "cell_type": "markdown",
      "metadata": {
        "id": "OdPvb1gIm-6a",
        "colab_type": "text"
      },
      "source": [
        "# What's the error? \n"
      ]
    },
    {
      "cell_type": "code",
      "metadata": {
        "id": "rEvalnGRL7ma",
        "colab_type": "code",
        "colab": {
          "base_uri": "https://localhost:8080/",
          "height": 197
        },
        "outputId": "52cfb1de-5c01-4589-d47d-d4a2572fb08c"
      },
      "source": [
        "# Python program to demostrate errors\n",
        "  \n",
        "X = 10\n",
        "  \n",
        "# Raises an AttributeError \n",
        "X.append(6)"
      ],
      "execution_count": null,
      "outputs": [
        {
          "output_type": "error",
          "ename": "AttributeError",
          "evalue": "ignored",
          "traceback": [
            "\u001b[0;31m---------------------------------------------------------------------------\u001b[0m",
            "\u001b[0;31mAttributeError\u001b[0m                            Traceback (most recent call last)",
            "\u001b[0;32m<ipython-input-21-bd3e10ee5187>\u001b[0m in \u001b[0;36m<module>\u001b[0;34m()\u001b[0m\n\u001b[1;32m      3\u001b[0m \u001b[0;34m\u001b[0m\u001b[0m\n\u001b[1;32m      4\u001b[0m \u001b[0;31m# Raises an AttributeError\u001b[0m\u001b[0;34m\u001b[0m\u001b[0;34m\u001b[0m\u001b[0;34m\u001b[0m\u001b[0m\n\u001b[0;32m----> 5\u001b[0;31m \u001b[0mX\u001b[0m\u001b[0;34m.\u001b[0m\u001b[0mappend\u001b[0m\u001b[0;34m(\u001b[0m\u001b[0;36m6\u001b[0m\u001b[0;34m)\u001b[0m\u001b[0;34m\u001b[0m\u001b[0;34m\u001b[0m\u001b[0m\n\u001b[0m",
            "\u001b[0;31mAttributeError\u001b[0m: 'int' object has no attribute 'append'"
          ]
        }
      ]
    },
    {
      "cell_type": "markdown",
      "metadata": {
        "id": "XjGP06HqnQ8W",
        "colab_type": "text"
      },
      "source": [
        "## Answer\n"
      ]
    },
    {
      "cell_type": "markdown",
      "metadata": {
        "id": "Rkan6ij5n6z4",
        "colab_type": "text"
      },
      "source": [
        "**Attribute error** – Calling a method on the wrong type of object. In this case, `append` adds its argument as a single element to the end of a list we'll get into lists later). The length of the list increases by one. See it in action below!"
      ]
    },
    {
      "cell_type": "code",
      "metadata": {
        "id": "haHPlmBTnvUg",
        "colab_type": "code",
        "colab": {
          "base_uri": "https://localhost:8080/",
          "height": 34
        },
        "outputId": "5e2acfb8-035e-488a-e6f1-3064e765e65a"
      },
      "source": [
        "my_list = ['geeks', 'for'] \n",
        "my_list.append('geeks') \n",
        "print (my_list) \n"
      ],
      "execution_count": null,
      "outputs": [
        {
          "output_type": "stream",
          "text": [
            "['geeks', 'for', 'geeks']\n"
          ],
          "name": "stdout"
        }
      ]
    },
    {
      "cell_type": "markdown",
      "metadata": {
        "id": "gDKNxBm5nFyV",
        "colab_type": "text"
      },
      "source": [
        "# What's the error? "
      ]
    },
    {
      "cell_type": "code",
      "metadata": {
        "id": "2ohURoQCX-T3",
        "colab_type": "code",
        "colab": {
          "base_uri": "https://localhost:8080/",
          "height": 180
        },
        "outputId": "1db745ed-40dc-4d61-a527-43f35869604c"
      },
      "source": [
        "# Python program to demostrate errors\n",
        "\n",
        "file=open(\"raw.csv\")"
      ],
      "execution_count": null,
      "outputs": [
        {
          "output_type": "error",
          "ename": "FileNotFoundError",
          "evalue": "ignored",
          "traceback": [
            "\u001b[0;31m---------------------------------------------------------------------------\u001b[0m",
            "\u001b[0;31mFileNotFoundError\u001b[0m                         Traceback (most recent call last)",
            "\u001b[0;32m<ipython-input-23-faba0259a71a>\u001b[0m in \u001b[0;36m<module>\u001b[0;34m()\u001b[0m\n\u001b[1;32m      1\u001b[0m \u001b[0;34m\u001b[0m\u001b[0m\n\u001b[0;32m----> 2\u001b[0;31m \u001b[0mfile\u001b[0m\u001b[0;34m=\u001b[0m\u001b[0mopen\u001b[0m\u001b[0;34m(\u001b[0m\u001b[0;34m\"raw.csv\"\u001b[0m\u001b[0;34m)\u001b[0m\u001b[0;34m\u001b[0m\u001b[0;34m\u001b[0m\u001b[0m\n\u001b[0m",
            "\u001b[0;31mFileNotFoundError\u001b[0m: [Errno 2] No such file or directory: 'raw.csv'"
          ]
        }
      ]
    },
    {
      "cell_type": "markdown",
      "metadata": {
        "id": "V8Wx4CMaoEGo",
        "colab_type": "text"
      },
      "source": [
        "## Answer"
      ]
    },
    {
      "cell_type": "markdown",
      "metadata": {
        "id": "2DIszUuYpOc_",
        "colab_type": "text"
      },
      "source": [
        "**IO Error** – You’re trying to open a file that doesn’t exist, or you have an incorrect path name. "
      ]
    },
    {
      "cell_type": "markdown",
      "metadata": {
        "id": "H-gJ3UwhuY3Q",
        "colab_type": "text"
      },
      "source": [
        "# What's the error? "
      ]
    },
    {
      "cell_type": "code",
      "metadata": {
        "id": "8GFazEV-fWCV",
        "colab_type": "code",
        "colab": {
          "base_uri": "https://localhost:8080/",
          "height": 180
        },
        "outputId": "ae2c4abe-664d-4784-9361-ed5e6af4c09e"
      },
      "source": [
        "# Python program to demostrate \n",
        "# TypeError\n",
        "\n",
        "len(42)"
      ],
      "execution_count": null,
      "outputs": [
        {
          "output_type": "error",
          "ename": "TypeError",
          "evalue": "ignored",
          "traceback": [
            "\u001b[0;31m---------------------------------------------------------------------------\u001b[0m",
            "\u001b[0;31mTypeError\u001b[0m                                 Traceback (most recent call last)",
            "\u001b[0;32m<ipython-input-24-036c0bc35390>\u001b[0m in \u001b[0;36m<module>\u001b[0;34m()\u001b[0m\n\u001b[1;32m      1\u001b[0m \u001b[0;34m\u001b[0m\u001b[0m\n\u001b[0;32m----> 2\u001b[0;31m \u001b[0mlen\u001b[0m\u001b[0;34m(\u001b[0m\u001b[0;36m42\u001b[0m\u001b[0;34m)\u001b[0m\u001b[0;34m\u001b[0m\u001b[0;34m\u001b[0m\u001b[0m\n\u001b[0m",
            "\u001b[0;31mTypeError\u001b[0m: object of type 'int' has no len()"
          ]
        }
      ]
    },
    {
      "cell_type": "markdown",
      "metadata": {
        "id": "bOhgAiVquuz9",
        "colab_type": "text"
      },
      "source": [
        "## Answer"
      ]
    },
    {
      "cell_type": "markdown",
      "metadata": {
        "id": "uoXCUBH7u5de",
        "colab_type": "text"
      },
      "source": [
        "**Type Error** and **Value Error**– You’re trying to use the operator in the wrong type of objects, an object which you expect to have a value is actually `None`; you’ve a non-integer numbers in a list slice; or you’ve called a method or function with the wrong number or type of arguments."
      ]
    },
    {
      "cell_type": "markdown",
      "metadata": {
        "id": "BTGbCjE5vcIC",
        "colab_type": "text"
      },
      "source": [
        "If you write a function, and that function doesn't use an explicit `return` statement, `None` is returned instead. This makes programming with functions because a function always returns *something*, even if it is only that one `None` object."
      ]
    },
    {
      "cell_type": "markdown",
      "metadata": {
        "id": "M4gLPVByvebi",
        "colab_type": "text"
      },
      "source": [
        "We'll look at `none` soon, but know that it is just a value that commonly is used to signify 'empty', or 'no value here.'"
      ]
    },
    {
      "cell_type": "markdown",
      "metadata": {
        "id": "JARk7E7dnNfk",
        "colab_type": "text"
      },
      "source": [
        "# What's the error? "
      ]
    },
    {
      "cell_type": "code",
      "metadata": {
        "id": "yipz54qifwDN",
        "colab_type": "code",
        "colab": {
          "base_uri": "https://localhost:8080/",
          "height": 180
        },
        "outputId": "2d096517-e50d-4455-fbf0-fe5121e22fb9"
      },
      "source": [
        "# Python program to demostrate errors\n",
        "\n",
        "int('Hello')"
      ],
      "execution_count": null,
      "outputs": [
        {
          "output_type": "error",
          "ename": "ValueError",
          "evalue": "ignored",
          "traceback": [
            "\u001b[0;31m---------------------------------------------------------------------------\u001b[0m",
            "\u001b[0;31mValueError\u001b[0m                                Traceback (most recent call last)",
            "\u001b[0;32m<ipython-input-25-c0dfa86132da>\u001b[0m in \u001b[0;36m<module>\u001b[0;34m()\u001b[0m\n\u001b[1;32m      1\u001b[0m \u001b[0;34m\u001b[0m\u001b[0m\n\u001b[0;32m----> 2\u001b[0;31m \u001b[0mint\u001b[0m\u001b[0;34m(\u001b[0m\u001b[0;34m'Hello'\u001b[0m\u001b[0;34m)\u001b[0m\u001b[0;34m\u001b[0m\u001b[0;34m\u001b[0m\u001b[0m\n\u001b[0m",
            "\u001b[0;31mValueError\u001b[0m: invalid literal for int() with base 10: 'Hello'"
          ]
        }
      ]
    },
    {
      "cell_type": "markdown",
      "metadata": {
        "id": "JqhHexaToNgu",
        "colab_type": "text"
      },
      "source": [
        "## Answer"
      ]
    },
    {
      "cell_type": "markdown",
      "metadata": {
        "id": "2ujbTarSsT_4",
        "colab_type": "text"
      },
      "source": [
        "**Type Error** and **Value Error**– You’re trying to use the operator in the wrong type of objects, an object which you expect to have a value is actually `None`; you’ve a non-integer numbers in a list slice; or you’ve called a method or function with the wrong number or type of arguments. "
      ]
    },
    {
      "cell_type": "markdown",
      "metadata": {
        "id": "-Ey_s-OftYNx",
        "colab_type": "text"
      },
      "source": [
        "If you write a function, and that function doesn't use an explicit `return` statement, `None` is returned instead. This makes programming with functions because a function always returns *something*, even if it is only that one `None` object: it is just a value that is commonly used to signify 'empty', or 'no value here.'\n",
        "\n",
        "\n"
      ]
    }
  ]
}