{
  "nbformat": 4,
  "nbformat_minor": 0,
  "metadata": {
    "colab": {
      "name": "302_Lecture_4_conversion_modules_new_functions.ipynb",
      "provenance": [],
      "collapsed_sections": [
        "h_J_W-qrTSKb",
        "orgFxoU8W6wa",
        "GeP8TkckYcnE"
      ],
      "authorship_tag": "ABX9TyMcG3vj+U5bG1ww6PkBzuj6",
      "include_colab_link": true
    },
    "kernelspec": {
      "name": "python3",
      "display_name": "Python 3"
    }
  },
  "cells": [
    {
      "cell_type": "markdown",
      "metadata": {
        "id": "view-in-github",
        "colab_type": "text"
      },
      "source": [
        "<a href=\"https://colab.research.google.com/github/Shadrock/online-python-course/blob/master/Week_2/Lecture_jupyter_notebooks/302_Lecture_4_conversion_modules_new_functions.ipynb\" target=\"_parent\"><img src=\"https://colab.research.google.com/assets/colab-badge.svg\" alt=\"Open In Colab\"/></a>"
      ]
    },
    {
      "cell_type": "markdown",
      "metadata": {
        "id": "NIMkYnLgHCaa",
        "colab_type": "text"
      },
      "source": [
        "# **Type Conversion**"
      ]
    },
    {
      "cell_type": "markdown",
      "metadata": {
        "id": "kW5B1phWVHbD",
        "colab_type": "text"
      },
      "source": [
        "What's the difference between '15' and 15 without the quotes?\n"
      ]
    },
    {
      "cell_type": "code",
      "metadata": {
        "id": "rdJdpoCnIPar",
        "colab_type": "code",
        "colab": {}
      },
      "source": [
        "Rapinoe = 15 #Pronounced Rah-PEE-no.\n",
        "type(Rapinoe)"
      ],
      "execution_count": null,
      "outputs": []
    },
    {
      "cell_type": "code",
      "metadata": {
        "id": "jn0JfJacGscK",
        "colab_type": "code",
        "colab": {}
      },
      "source": [
        "float(32) # converts an integer into a float what's the result?"
      ],
      "execution_count": null,
      "outputs": []
    },
    {
      "cell_type": "code",
      "metadata": {
        "id": "KUoukXIXIWx7",
        "colab_type": "code",
        "colab": {}
      },
      "source": [
        ""
      ],
      "execution_count": null,
      "outputs": []
    },
    {
      "cell_type": "markdown",
      "metadata": {
        "id": "hJPOlnU8JJLY",
        "colab_type": "text"
      },
      "source": [
        "How might we convert the integer, 42, to a string? "
      ]
    },
    {
      "cell_type": "code",
      "metadata": {
        "id": "9QG2ME68JMrg",
        "colab_type": "code",
        "colab": {}
      },
      "source": [
        "a = str(42) # code here\n",
        "type(a)"
      ],
      "execution_count": null,
      "outputs": []
    },
    {
      "cell_type": "markdown",
      "metadata": {
        "id": "AXHZx7KUJY7z",
        "colab_type": "text"
      },
      "source": [
        "How about converting 3.14149 to a string? "
      ]
    },
    {
      "cell_type": "code",
      "metadata": {
        "id": "wVt9PmCKJfhl",
        "colab_type": "code",
        "colab": {}
      },
      "source": [
        "str(3.14)"
      ],
      "execution_count": null,
      "outputs": []
    },
    {
      "cell_type": "markdown",
      "metadata": {
        "id": "ruqiceaxJnhC",
        "colab_type": "text"
      },
      "source": [
        "Type conversion with expressions:\n"
      ]
    },
    {
      "cell_type": "code",
      "metadata": {
        "id": "KI-hvL-kJqk6",
        "colab_type": "code",
        "colab": {}
      },
      "source": [
        "59/60"
      ],
      "execution_count": null,
      "outputs": []
    },
    {
      "cell_type": "code",
      "metadata": {
        "id": "z49djo06Jsz8",
        "colab_type": "code",
        "colab": {}
      },
      "source": [
        "number = 59\n",
        "number / 60.0"
      ],
      "execution_count": null,
      "outputs": []
    },
    {
      "cell_type": "code",
      "metadata": {
        "id": "_sYgTS1lKOLy",
        "colab_type": "code",
        "colab": {}
      },
      "source": [
        "float(number) / 60 #converts to float for Python 2"
      ],
      "execution_count": null,
      "outputs": []
    },
    {
      "cell_type": "code",
      "metadata": {
        "id": "lPwmKzWwLCZV",
        "colab_type": "code",
        "colab": {}
      },
      "source": [
        ""
      ],
      "execution_count": null,
      "outputs": []
    },
    {
      "cell_type": "markdown",
      "metadata": {
        "id": "faGjLzbqLEW6",
        "colab_type": "text"
      },
      "source": [
        "# **Modules**"
      ]
    },
    {
      "cell_type": "code",
      "metadata": {
        "id": "JkjqE4NeLGtZ",
        "colab_type": "code",
        "colab": {}
      },
      "source": [
        "import math"
      ],
      "execution_count": null,
      "outputs": []
    },
    {
      "cell_type": "code",
      "metadata": {
        "id": "SHpkCI9gLPUr",
        "colab_type": "code",
        "colab": {}
      },
      "source": [
        "math.pi #what does this do? "
      ],
      "execution_count": null,
      "outputs": []
    },
    {
      "cell_type": "code",
      "metadata": {
        "id": "1zB6_0G3LReO",
        "colab_type": "code",
        "colab": {}
      },
      "source": [
        "help(math.log) #handy way to find out more about things you may not understand. Documentation is cool. "
      ],
      "execution_count": null,
      "outputs": []
    },
    {
      "cell_type": "markdown",
      "metadata": {
        "id": "wd35WjmgL-QP",
        "colab_type": "text"
      },
      "source": [
        "# **Defining New Functions**"
      ]
    },
    {
      "cell_type": "code",
      "metadata": {
        "id": "-UdopU_dMA6i",
        "colab_type": "code",
        "colab": {}
      },
      "source": [
        "#This function prints a string\n",
        "def print_strings():\n",
        "  print (\"Python Programming\") #Indent is important\n",
        "  print (\"Super Cool\")\n",
        "\n",
        "# Run - or \"call\" - the function\n",
        "print_strings()\n"
      ],
      "execution_count": null,
      "outputs": []
    },
    {
      "cell_type": "markdown",
      "metadata": {
        "id": "IRKQt6_2NMEv",
        "colab_type": "text"
      },
      "source": [
        "**Execution Flow**"
      ]
    },
    {
      "cell_type": "code",
      "metadata": {
        "id": "GLBmyDD2MDvl",
        "colab_type": "code",
        "colab": {}
      },
      "source": [
        "def WorkdayHours():\n",
        "  print(\"Mon-Fri: 9-9\")\n",
        "def WeekendHours():\n",
        "  print(\"Weekends: 11-5\")"
      ],
      "execution_count": null,
      "outputs": []
    },
    {
      "cell_type": "code",
      "metadata": {
        "id": "HmigdtWmNNqn",
        "colab_type": "code",
        "colab": {}
      },
      "source": [
        "# Call two previously defined functions\n",
        "def ShopHours():\n",
        "  WorkdayHours()\n",
        "  WeekendHours()"
      ],
      "execution_count": null,
      "outputs": []
    },
    {
      "cell_type": "code",
      "metadata": {
        "id": "fWvNg3RXNvRH",
        "colab_type": "code",
        "colab": {}
      },
      "source": [
        "# Call the function\n",
        "ShopHours()"
      ],
      "execution_count": null,
      "outputs": []
    },
    {
      "cell_type": "markdown",
      "metadata": {
        "id": "PjEX04jBQNfE",
        "colab_type": "text"
      },
      "source": [
        "**Function Arguments**"
      ]
    },
    {
      "cell_type": "code",
      "metadata": {
        "id": "Npi8XnDOQPM6",
        "colab_type": "code",
        "colab": {}
      },
      "source": [
        "def print_twice(bruce): # the name 'bruce' is only here as a placeholder to tell \n",
        "  print(bruce)\n",
        "  print(bruce)"
      ],
      "execution_count": null,
      "outputs": []
    },
    {
      "cell_type": "code",
      "metadata": {
        "id": "gA008WZBRNcF",
        "colab_type": "code",
        "colab": {}
      },
      "source": [
        "bruce #try running \"bruce\""
      ],
      "execution_count": null,
      "outputs": []
    },
    {
      "cell_type": "markdown",
      "metadata": {
        "id": "NT4NWNKFRhB3",
        "colab_type": "text"
      },
      "source": [
        "A *parameter* is a variable. Arguments are the *data* you pass into the parameter. These can be the same, or different. Think of an argument as a placeholder for the actual input of the argument. "
      ]
    },
    {
      "cell_type": "code",
      "metadata": {
        "id": "iUJ0KV9sR71j",
        "colab_type": "code",
        "colab": {}
      },
      "source": [
        "print_twice(42) "
      ],
      "execution_count": null,
      "outputs": []
    },
    {
      "cell_type": "markdown",
      "metadata": {
        "id": "qlldaHgeSJiC",
        "colab_type": "text"
      },
      "source": [
        "The code above (lines 21 & 23) prints whatever argument you pass, twice. Create a function, that calls this function to print the passed argument 4 times. "
      ]
    },
    {
      "cell_type": "code",
      "metadata": {
        "id": "HN41MrzfSxVr",
        "colab_type": "code",
        "colab": {}
      },
      "source": [
        "# Create a new function with a good name. \n",
        "# Perhaps call the previous function...\n",
        "# Call the new function with a new argument. "
      ],
      "execution_count": null,
      "outputs": []
    },
    {
      "cell_type": "markdown",
      "metadata": {
        "colab_type": "text",
        "id": "h_J_W-qrTSKb"
      },
      "source": [
        "# **Returned Values**\n",
        "What's the output and order of the following code? "
      ]
    },
    {
      "cell_type": "code",
      "metadata": {
        "id": "4Of41auJTRls",
        "colab_type": "code",
        "colab": {}
      },
      "source": [
        "def square(x):\n",
        "  y = x * x\n",
        "  return y\n",
        "  # Generally you want a hard return/space in your code before you call the function\n",
        "square(7)"
      ],
      "execution_count": null,
      "outputs": []
    },
    {
      "cell_type": "markdown",
      "metadata": {
        "id": "JX13Ym_hT6ab",
        "colab_type": "text"
      },
      "source": [
        "Can we simplify this code by one line: make it \"cleaner\"?"
      ]
    },
    {
      "cell_type": "code",
      "metadata": {
        "id": "8SLLG8e9TsBN",
        "colab_type": "code",
        "colab": {}
      },
      "source": [
        ""
      ],
      "execution_count": null,
      "outputs": []
    },
    {
      "cell_type": "markdown",
      "metadata": {
        "id": "q-gJQXQTUNGg",
        "colab_type": "text"
      },
      "source": [
        "What's the output and order of this code? (Hint, it uses the code above in line 26)"
      ]
    },
    {
      "cell_type": "code",
      "metadata": {
        "id": "sI0pWOyMUPdg",
        "colab_type": "code",
        "colab": {}
      },
      "source": [
        "toSquare = 10\n",
        "result = square(toSquare)\n",
        "print(\"The result of\", toSquare, \"squared is\", result)"
      ],
      "execution_count": null,
      "outputs": []
    },
    {
      "cell_type": "markdown",
      "metadata": {
        "id": "tfpZKs2XVW07",
        "colab_type": "text"
      },
      "source": [
        "# Exercise 1"
      ]
    },
    {
      "cell_type": "markdown",
      "metadata": {
        "id": "NqPhRElFVYsY",
        "colab_type": "text"
      },
      "source": [
        "Create and run a .py program to calculate the area of a circle. Formula for this is A = pi * r squared. So the function should take the radius as an input parameter and return area. Print the calculated area by calling the function."
      ]
    },
    {
      "cell_type": "code",
      "metadata": {
        "id": "A0WhlLH6VYFc",
        "colab_type": "code",
        "colab": {}
      },
      "source": [
        "# Comment about what the code is for.\n",
        "# Define a new function and give it a good name. It will take the radius for an argument. \n",
        "# Calculation for area (you can use math.pi instead of typing out the integer value of pi)\n",
        "# return a value\n",
        "\n",
        "#print statement contains the function call with an argument. "
      ],
      "execution_count": null,
      "outputs": []
    },
    {
      "cell_type": "markdown",
      "metadata": {
        "id": "orgFxoU8W6wa",
        "colab_type": "text"
      },
      "source": [
        "# Exercise 1 Answer\n",
        "\n"
      ]
    },
    {
      "cell_type": "code",
      "metadata": {
        "id": "rFQsqWpCW8Kz",
        "colab_type": "code",
        "colab": {}
      },
      "source": [
        "import math\n",
        "def circle_area(r):\n",
        "  # This function defines the area of a circle. Takes radius as the input. \n",
        "  a = r**2 * math.pi\n",
        "  return a\n",
        "\n",
        "print(circle_area(5))"
      ],
      "execution_count": null,
      "outputs": []
    },
    {
      "cell_type": "markdown",
      "metadata": {
        "id": "IBFJqZJYXxMw",
        "colab_type": "text"
      },
      "source": [
        "# Exercise 2"
      ]
    },
    {
      "cell_type": "markdown",
      "metadata": {
        "id": "EOun03YDX0fr",
        "colab_type": "text"
      },
      "source": [
        "Make your .py program interactive by using the `input` function. The syntax is `input()`.\n",
        "Using the previous code, create a line that makes the argument passed for \"r\" equal to input from the user.\n",
        "Exmple `r = input()`\n",
        "Use type conversion to make sure integers are converted to floats in case the user enters a whole number. "
      ]
    },
    {
      "cell_type": "code",
      "metadata": {
        "id": "qlm0zgo9XFKr",
        "colab_type": "code",
        "colab": {}
      },
      "source": [
        "# import math\n",
        "# user input for r here.\n",
        "\n",
        "#define the function:\n",
        "  # formula goes here. \n",
        "  # return formula result\n",
        "\n",
        "# print function name with paramter. "
      ],
      "execution_count": null,
      "outputs": []
    },
    {
      "cell_type": "markdown",
      "metadata": {
        "id": "GeP8TkckYcnE",
        "colab_type": "text"
      },
      "source": [
        "# Exercise 2 Answer"
      ]
    },
    {
      "cell_type": "markdown",
      "metadata": {
        "id": "HrdjIuVOmw_S",
        "colab_type": "text"
      },
      "source": [
        "This is one, possible, answer. "
      ]
    },
    {
      "cell_type": "code",
      "metadata": {
        "id": "GP5wlDkWYeHt",
        "colab_type": "code",
        "colab": {}
      },
      "source": [
        "import math\n",
        "r = float(input(\"Input the radius of the circle: \"))\n",
        "\n",
        "def circle_area_input (r):\n",
        "  # Function defines the area of a circle. \n",
        "  a = r**2 * math.pi\n",
        "  return a\n",
        "\n",
        "print(circle_area_input(r))"
      ],
      "execution_count": null,
      "outputs": []
    }
  ]
}