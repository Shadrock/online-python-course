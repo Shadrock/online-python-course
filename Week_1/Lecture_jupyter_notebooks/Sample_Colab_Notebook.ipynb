{
  "nbformat": 4,
  "nbformat_minor": 0,
  "metadata": {
    "colab": {
      "name": "Sample_Colab_Notebook.ipynb",
      "provenance": [],
      "collapsed_sections": [],
      "authorship_tag": "ABX9TyPeltYF/MKxu9F+fEwwntfT",
      "include_colab_link": true
    },
    "kernelspec": {
      "name": "python3",
      "display_name": "Python 3"
    }
  },
  "cells": [
    {
      "cell_type": "markdown",
      "metadata": {
        "id": "view-in-github",
        "colab_type": "text"
      },
      "source": [
        "<a href=\"https://colab.research.google.com/github/Shadrock/online-python-course/blob/master/Week_1/Lecture_jupyter_notebooks/Sample_Colab_Notebook.ipynb\" target=\"_parent\"><img src=\"https://colab.research.google.com/assets/colab-badge.svg\" alt=\"Open In Colab\"/></a>"
      ]
    },
    {
      "cell_type": "markdown",
      "metadata": {
        "id": "ykEF7brMFoS_"
      },
      "source": [
        "# **Notebook Structure & Comments Using Markdown**\n",
        "Notebooks are a great way to combine code, outputs, and other types of media. Read about why they are so cool in this [*Nature* Blog Post](https://www.nature.com/articles/d41586-018-07196-1). "
      ]
    },
    {
      "cell_type": "markdown",
      "metadata": {
        "id": "OANg3PhZP5HN"
      },
      "source": [
        "## Below is the code for Challenge 1 in Lab\n",
        "- Information about this code: \n",
        "- Created on January 1, 1911\n",
        "- Python Version 3\n",
        "The code takes a string and prints it out x number of times. "
      ]
    },
    {
      "cell_type": "code",
      "metadata": {
        "id": "E5rKjWs8Fk1k"
      },
      "source": [
        "# This code prints out something very important. \n",
        "for i in range(10):\n",
        "  print(\"Github + Colab will make me unstoppable.\")"
      ],
      "execution_count": null,
      "outputs": []
    },
    {
      "cell_type": "markdown",
      "metadata": {
        "id": "_TTRUSSRjG93"
      },
      "source": [
        "## Below is the code for Challenge 2 in Lab\n",
        "- Information about this code: \n",
        "- Created on January 1, 1911\n",
        "- Python Version 3\n",
        "This is a basic script to concatenate and display variables. "
      ]
    },
    {
      "cell_type": "code",
      "metadata": {
        "id": "ijn4XYrAjI2a"
      },
      "source": [
        "# Here is where documentation goes. \n",
        "x = 10\n",
        "y = 3\n",
        "z = x + y\n",
        "print (z)"
      ],
      "execution_count": null,
      "outputs": []
    },
    {
      "cell_type": "markdown",
      "metadata": {
        "id": "j9Kccwp4N9Vw"
      },
      "source": [
        "# **Python `.py` Script or Notebook Code Cell Structure Using Comments**\n",
        "Doing this *doesn't* require using Markdown."
      ]
    },
    {
      "cell_type": "code",
      "metadata": {
        "id": "PbARSyumOWdN"
      },
      "source": [
        "\"\"\"\n",
        "Code Created by Shadrock the Pugnacious \n",
        "Created on January 1, 1911\n",
        "Python Version 3\n",
        "\"\"\"\n",
        "\n",
        "# Code Challenge 1 - The code takes a string and prints it out x number of times. \n",
        "for i in range(10):\n",
        "  print(\"Github + Colab will make me unstoppable.\")\n",
        "\n",
        "\n",
        "# Code Challenge 2 - This is a basic script to concatenate and display variables.\n",
        "x = 10\n",
        "y = 3\n",
        "z = x + y\n",
        "print (z)"
      ],
      "execution_count": null,
      "outputs": []
    }
  ]
}