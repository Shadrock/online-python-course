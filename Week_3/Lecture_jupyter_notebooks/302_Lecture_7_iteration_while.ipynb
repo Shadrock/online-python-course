{
  "nbformat": 4,
  "nbformat_minor": 0,
  "metadata": {
    "colab": {
      "name": "302_Lecture_7_iteration_while.ipynb",
      "provenance": [],
      "collapsed_sections": [
        "UGj6gzncnn_Q",
        "CHdNMihBqJQT",
        "JMf8AoZmuZrl",
        "bRHRS5Q5v637",
        "zmd2Zs1txNLL",
        "rzrSYQLW0-mk"
      ],
      "authorship_tag": "ABX9TyNLwu9YiJGES1DkGCt8Gmkj",
      "include_colab_link": true
    },
    "kernelspec": {
      "name": "python3",
      "display_name": "Python 3"
    }
  },
  "cells": [
    {
      "cell_type": "markdown",
      "metadata": {
        "id": "view-in-github",
        "colab_type": "text"
      },
      "source": [
        "<a href=\"https://colab.research.google.com/github/Shadrock/online-python-course/blob/master/Week_3/Lecture_jupyter_notebooks/302_Lecture_7_iteration_while.ipynb\" target=\"_parent\"><img src=\"https://colab.research.google.com/assets/colab-badge.svg\" alt=\"Open In Colab\"/></a>"
      ]
    },
    {
      "cell_type": "markdown",
      "metadata": {
        "id": "UGj6gzncnn_Q",
        "colab_type": "text"
      },
      "source": [
        "#**Swapping Values** \n",
        "Values can change. We can swap values using a temporary variable to hold the value of `x`. "
      ]
    },
    {
      "cell_type": "code",
      "metadata": {
        "id": "1oo5wQoHnce6",
        "colab_type": "code",
        "colab": {
          "base_uri": "https://localhost:8080/",
          "height": 52
        },
        "outputId": "a126653f-c872-4c92-b7e4-ad7f8745cce5"
      },
      "source": [
        "intX = -128\n",
        "intY = 127\n",
        "print(intX)\n",
        "print(intY) #so far so good. "
      ],
      "execution_count": null,
      "outputs": [
        {
          "output_type": "stream",
          "text": [
            "-128\n",
            "127\n"
          ],
          "name": "stdout"
        }
      ]
    },
    {
      "cell_type": "code",
      "metadata": {
        "id": "fQIqlSKlopl5",
        "colab_type": "code",
        "colab": {
          "base_uri": "https://localhost:8080/",
          "height": 52
        },
        "outputId": "fe3bf1dc-41da-4f91-a6b2-1de90c231316"
      },
      "source": [
        "temp = intX #use a temporary variable to hold the original value of intX\n",
        "intX = intY # then put the value of intY into intX\n",
        "intY = temp # then put the value of temp into intY\n",
        "\n",
        "print(intX)\n",
        "print(intY)"
      ],
      "execution_count": null,
      "outputs": [
        {
          "output_type": "stream",
          "text": [
            "127\n",
            "-128\n"
          ],
          "name": "stdout"
        }
      ]
    },
    {
      "cell_type": "markdown",
      "metadata": {
        "id": "CHdNMihBqJQT",
        "colab_type": "text"
      },
      "source": [
        "#**While Statement** \n",
        "Another powerful form of iteration!\n",
        "Have a look at this code and explain what is happening. "
      ]
    },
    {
      "cell_type": "code",
      "metadata": {
        "id": "aGUK0Bc9qtBl",
        "colab_type": "code",
        "colab": {
          "base_uri": "https://localhost:8080/",
          "height": 121
        },
        "outputId": "3cb499ef-9725-4624-9001-d4c8c046502d"
      },
      "source": [
        "n = 5\n",
        "while n > 0:\n",
        "    print(n)\n",
        "    n = n - 1\n",
        "print(\"Blastoff!\")"
      ],
      "execution_count": null,
      "outputs": [
        {
          "output_type": "stream",
          "text": [
            "5\n",
            "4\n",
            "3\n",
            "2\n",
            "1\n",
            "Blastoff!\n"
          ],
          "name": "stdout"
        }
      ]
    },
    {
      "cell_type": "code",
      "metadata": {
        "id": "AzBS0JydqXcx",
        "colab_type": "code",
        "colab": {}
      },
      "source": [
        "def countdown(x):\n",
        "  while x > -1:\n",
        "    print(x)\n",
        "    x = x - 1 \n",
        "  print(\"Blastoff!\")\n",
        "\n",
        "countdown(10)"
      ],
      "execution_count": null,
      "outputs": []
    },
    {
      "cell_type": "markdown",
      "metadata": {
        "id": "HZn4dxYpsTPX",
        "colab_type": "text"
      },
      "source": [
        "How might I get the code above to countdown to `0` instead of `1` before Blastoff? \n",
        "\n",
        "The formal execution of a `while` statement: \n",
        "\n",
        "\n",
        "*   Determine whether a condition is `True` of `False`\n",
        "*   If `False`, exit the `while` statement and continue execution at the next statement. \n",
        "* If the condition is `True`, run the body of the code and go back to step one. \n",
        "\n"
      ]
    },
    {
      "cell_type": "markdown",
      "metadata": {
        "id": "PEvL_EY4Vik0",
        "colab_type": "text"
      },
      "source": [
        "**`while` versus `if`**\n",
        "\n",
        "So what is the difference between code using a `while` statement and code using `if`? The if statement checks *if* an expression is true or false, then runs the code inside the statement only if it is true: the code is only run once. A while statement is a loop: it *continues* to execute the code in a while statement for however long the expression is true. \n"
      ]
    },
    {
      "cell_type": "code",
      "metadata": {
        "id": "5eSad-jfss6A",
        "colab_type": "code",
        "colab": {}
      },
      "source": [
        ""
      ],
      "execution_count": null,
      "outputs": []
    },
    {
      "cell_type": "markdown",
      "metadata": {
        "id": "JMf8AoZmuZrl",
        "colab_type": "text"
      },
      "source": [
        "## `while` plus reassignment"
      ]
    },
    {
      "cell_type": "markdown",
      "metadata": {
        "id": "2pky7tQ7uXpk",
        "colab_type": "text"
      },
      "source": [
        "Write code that sums all numbers from 1 through 99."
      ]
    },
    {
      "cell_type": "code",
      "metadata": {
        "id": "UmUVTtNHujtw",
        "colab_type": "code",
        "colab": {
          "base_uri": "https://localhost:8080/",
          "height": 34
        },
        "outputId": "b7932f7b-0f6c-4a6f-bd56-792cab9842c5"
      },
      "source": [
        "n = 1               # We start at number one.\n",
        "sum = 0             # sum is a variable that will hold the sum of each loop\n",
        "while n <= 99:      # We're only going to sum through 99, so n needs to stop there. \n",
        "  sum = sum + n     # The sum variable gets updated with each pass through the loop. \n",
        "  n = n +1          # n also gets updated with each new pass. \n",
        "print(sum)"
      ],
      "execution_count": null,
      "outputs": [
        {
          "output_type": "stream",
          "text": [
            "4950\n"
          ],
          "name": "stdout"
        }
      ]
    },
    {
      "cell_type": "markdown",
      "metadata": {
        "id": "bRHRS5Q5v637",
        "colab_type": "text"
      },
      "source": [
        "# Excercise 1\n",
        "Write code that sums all *even* numbers from 1 - 99."
      ]
    },
    {
      "cell_type": "code",
      "metadata": {
        "id": "o65mRdhFwnnP",
        "colab_type": "code",
        "colab": {}
      },
      "source": [
        "n = 1\n",
        "sum = 0\n",
        "while n <= 99:\n",
        "  if n % 2 == 0:\n",
        "    sum = sum + n\n",
        "  n = n + 1\n",
        "print(sum)"
      ],
      "execution_count": null,
      "outputs": []
    },
    {
      "cell_type": "markdown",
      "metadata": {
        "id": "zmd2Zs1txNLL",
        "colab_type": "text"
      },
      "source": [
        "# **Breaks**"
      ]
    },
    {
      "cell_type": "markdown",
      "metadata": {
        "id": "rsjyEv7Yx_ez",
        "colab_type": "text"
      },
      "source": [
        "A `break` is a way to exit a loop."
      ]
    },
    {
      "cell_type": "code",
      "metadata": {
        "id": "1HMKScxzxb_l",
        "colab_type": "code",
        "colab": {
          "base_uri": "https://localhost:8080/",
          "height": 69
        },
        "outputId": "97f1e3e7-7185-43c6-b77b-a846e0f6e01d"
      },
      "source": [
        "while True:\n",
        "  line = str(input(\"Type here > \"))\n",
        "  if line == \"done\":\n",
        "    break\n",
        "  print(line)"
      ],
      "execution_count": null,
      "outputs": [
        {
          "output_type": "stream",
          "text": [
            "Type here > anything. \n",
            "anything. \n",
            "Type here > done\n"
          ],
          "name": "stdout"
        }
      ]
    },
    {
      "cell_type": "markdown",
      "metadata": {
        "id": "bCW2yOhlyJKu",
        "colab_type": "text"
      },
      "source": [
        "Notice that this starts off `while True`, which makes the loop condition always true... so it will run until it hits a break. "
      ]
    },
    {
      "cell_type": "markdown",
      "metadata": {
        "id": "rzrSYQLW0-mk",
        "colab_type": "text"
      },
      "source": [
        "# Excercise 2\n",
        "Write code that uses a `while` loop to sum all numbers from 1 - 20, that can be divided by 5."
      ]
    },
    {
      "cell_type": "code",
      "metadata": {
        "id": "YDtTcmmxxs-B",
        "colab_type": "code",
        "colab": {}
      },
      "source": [
        "n = 1\n",
        "sum = 0\n",
        "while n <= 20:  # Changed this to stop the loop at 20. \n",
        "  if n%5 == 0:  # Changed this to check for numbers divisible by 5. \n",
        "    sum = sum + n\n",
        "  n = n + 1\n",
        "print(sum)"
      ],
      "execution_count": null,
      "outputs": []
    }
  ]
}