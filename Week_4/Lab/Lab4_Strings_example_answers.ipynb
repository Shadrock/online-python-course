{
  "nbformat": 4,
  "nbformat_minor": 0,
  "metadata": {
    "kernelspec": {
      "display_name": "Python 3",
      "language": "python",
      "name": "python3"
    },
    "language_info": {
      "codemirror_mode": {
        "name": "ipython",
        "version": 3
      },
      "file_extension": ".py",
      "mimetype": "text/x-python",
      "name": "python",
      "nbconvert_exporter": "python",
      "pygments_lexer": "ipython3",
      "version": "3.6.6"
    },
    "colab": {
      "name": "Lab4_Strings_example_answers.ipynb",
      "provenance": [],
      "include_colab_link": true
    }
  },
  "cells": [
    {
      "cell_type": "markdown",
      "metadata": {
        "id": "view-in-github",
        "colab_type": "text"
      },
      "source": [
        "<a href=\"https://colab.research.google.com/github/Shadrock/online-python-course/blob/master/Week_5/Lab/Lab4_Strings_example_answers.ipynb\" target=\"_parent\"><img src=\"https://colab.research.google.com/assets/colab-badge.svg\" alt=\"Open In Colab\"/></a>"
      ]
    },
    {
      "cell_type": "markdown",
      "metadata": {
        "id": "3WUxOPllycOs",
        "colab_type": "text"
      },
      "source": [
        "# **Lab 4: Working with Strings** "
      ]
    },
    {
      "cell_type": "markdown",
      "metadata": {
        "id": "MRycVtyNycOt",
        "colab_type": "text"
      },
      "source": [
        "### Concepts from Chapter 8"
      ]
    },
    {
      "cell_type": "markdown",
      "metadata": {
        "id": "LsUBHHzBycOu",
        "colab_type": "text"
      },
      "source": [
        "#### Points:\n",
        "\n",
        "#### Due Date: \n",
        "\n",
        "#### Submit via:\n",
        "----------\n",
        "This week there are three short scripts: one to capitalize portions of a string; one to parse and manipulate a multi-line string, and one to extract a portion of a string and return in a way that is more understandable."
      ]
    },
    {
      "cell_type": "markdown",
      "metadata": {
        "id": "yE7sRzhAycOu",
        "colab_type": "text"
      },
      "source": [
        "### Exercise 1\n",
        "Write a function that capitalizes the first and fourth letters of a name, e.g.<br />\n",
        "> old_macdonald('macdonald') --> MacDonald <br />\n",
        "\n",
        "Add your code to exercise1.py <br />\n",
        "Note: there is a method called \"capitalize.\" The syntax for it is 'macdonald'.capitalize() and it returns 'Macdonald'<br />\n",
        "\n",
        "------"
      ]
    },
    {
      "cell_type": "markdown",
      "metadata": {
        "id": "UhkwgVOOycOv",
        "colab_type": "text"
      },
      "source": [
        "### Exercise 2\n",
        "The multi-line string was scraped from the National Weather Service Website.<br />\n",
        "Edit exercise2.py to produce the output below using string manipulation techniques:\n",
        "\n",
        "> _Tonight: Clear, Low: 55 F_  <br />\n",
        "_Thursday: Sunny then Chance Showers, High: 77 F_  <br />\n",
        "_Friday: Sunny, High: 73 F_  <br />\n",
        "_Saturday: Mostly Sunny, High: 77 F_  <br />\n",
        "_Sunday: Mostly Sunny, High: 71 F_  <br />\n",
        "\n",
        "\n",
        "Note: Copy the code from exercise2.py in the edit mode to retain the multi-line string formatting. There should be 39 lines of code when pasted in Python IDLE.\n",
        "\n",
        "\n"
      ]
    },
    {
      "cell_type": "markdown",
      "metadata": {
        "id": "jgUjo3YXycOv",
        "colab_type": "text"
      },
      "source": [
        "#### exercise2.py"
      ]
    },
    {
      "cell_type": "code",
      "metadata": {
        "id": "4IMaUp-SycOw",
        "colab_type": "code",
        "colab": {},
        "outputId": "87f82a0d-c60a-42bf-ea4e-c2621c2a3170"
      },
      "source": [
        "# -*- coding: utf-8 -*-\n",
        "# Keep the line above when running script\n",
        "# Tells python what encoding the string is stored in\n",
        "\n",
        "# Scraped multi-line String\n",
        "forecast = '''\n",
        "\n",
        "Tonight\n",
        "ClearLow: 55 F\n",
        "\n",
        "Thursday\n",
        "Sunny thenChanceShowersHigh: 77 F\n",
        "\n",
        "Friday\n",
        "SunnyHigh: 73 F\n",
        "\n",
        "Saturday\n",
        "Mostly SunnyHigh: 77 F\n",
        "\n",
        "Sunday\n",
        "Mostly SunnyHigh: 71 F\n",
        "'''\n",
        "\n",
        "# Split string into a list\n",
        "# Use two blank lines (\\n\\n) as the separator\n",
        "# Creates a list item at every instance of separator\n",
        "forecast_list = forecast.split('\\n\\n')\n",
        "\n",
        "# Loop through list to make string replacements to each item\n",
        "# Remove extra whitespaces or lines for a cleaner format\n",
        "for day in forecast_list:\n",
        "    day = day.replace('\\n',': ')\n",
        "    # add your code here\n",
        "    print day"
      ],
      "execution_count": null,
      "outputs": [
        {
          "output_type": "stream",
          "text": [
            "\n",
            "Tonight: ClearLow: 55 F\n",
            "Thursday: Sunny thenChanceShowersHigh: 77 F\n",
            "Friday: SunnyHigh: 73 F\n",
            "Saturday: Mostly SunnyHigh: 77 F\n",
            "Sunday: Mostly SunnyHigh: 71 F: \n"
          ],
          "name": "stdout"
        }
      ]
    },
    {
      "cell_type": "markdown",
      "metadata": {
        "id": "R607ZKw4ycO1",
        "colab_type": "text"
      },
      "source": [
        "------\n",
        "### Exercise 3\n",
        "Write code to extract the latitude and longitude from the URL in exercise3.py<br />\n",
        "Output should be text that reads:\n",
        "\n",
        "> Latitude: 42.2509428<br />\n",
        "Longitude: -71.8249939\n",
        "\n",
        "------\n",
        "\n",
        "Submit your script via Github: \n",
        "Clicking this link will create a private repository for you with instructions on how to edit the README file and your script. Remember to update the existing header in the python files. Be sure to include comments and documentation in your script to tell me what it’s doing!"
      ]
    },
    {
      "cell_type": "markdown",
      "metadata": {
        "id": "OUMagglTycO1",
        "colab_type": "text"
      },
      "source": [
        "### _Possible Solutions_"
      ]
    },
    {
      "cell_type": "markdown",
      "metadata": {
        "id": "GMdDiDEQycO2",
        "colab_type": "text"
      },
      "source": [
        "#### Exercise 1"
      ]
    },
    {
      "cell_type": "code",
      "metadata": {
        "id": "r1CBYc3lycO2",
        "colab_type": "code",
        "colab": {},
        "outputId": "0e095114-1dc0-4e2a-bf5e-8035925bef1d"
      },
      "source": [
        "def old_macdonald(name):\n",
        "  # to capitalize the first (index 0) and fourth (index 3) letters use capitalize funtion \n",
        "  # also need to include lower case letter inbetween  \n",
        "  print (name[0].capitalize() + name[1:3].lower() + name[3].capitalize() + name [4:].lower())\n",
        " \n",
        "#call function\n",
        "old_macdonald(\"macdonald\")"
      ],
      "execution_count": null,
      "outputs": [
        {
          "output_type": "stream",
          "text": [
            "MacDonald\n"
          ],
          "name": "stdout"
        }
      ]
    },
    {
      "cell_type": "markdown",
      "metadata": {
        "id": "7I-E6GdHycO5",
        "colab_type": "text"
      },
      "source": [
        "#### Exercise 2"
      ]
    },
    {
      "cell_type": "code",
      "metadata": {
        "id": "XS8TJFryycO5",
        "colab_type": "code",
        "colab": {},
        "outputId": "9b20745d-9cb6-44d0-bf27-205450c7fff2"
      },
      "source": [
        "# -*- coding: utf-8 -*-\n",
        "# Keep the line above when running script\n",
        "# Tells python what encoding the string is stored in\n",
        "\n",
        "# Scraped multi-line String\n",
        "forecast = '''\n",
        "\n",
        "Tonight\n",
        "ClearLow: 55 F\n",
        "\n",
        "Thursday\n",
        "Sunny thenChanceShowersHigh: 77 F\n",
        "\n",
        "Friday\n",
        "SunnyHigh: 73 F\n",
        "\n",
        "Saturday\n",
        "Mostly SunnyHigh: 77 F\n",
        "\n",
        "Sunday\n",
        "Mostly SunnyHigh: 71 F\n",
        "'''\n",
        "\n",
        "# Split string into a list\n",
        "# Use two blank lines (\\n\\n) as the separator\n",
        "# Creates a list item at every instance of separator\n",
        "forecast_list = forecast.split('\\n\\n')\n",
        "\n",
        "# Loop through list to make string replacements to each item\n",
        "# Remove extra whitespaces or lines for a cleaner format\n",
        "for day in forecast_list:\n",
        "    day = day.replace('\\n',': ')\n",
        "    day = day.replace('High', ' High')\n",
        "    day = day.replace('Sunny', 'Sunny, ')\n",
        "    day = day.replace('Clear', 'Clear, ')\n",
        "    day = day.replace('Sunny,  thenChanceShowers', 'Sunny then Chance Showers,')\n",
        "    day = day.replace('F:','F')\n",
        "    print day"
      ],
      "execution_count": null,
      "outputs": [
        {
          "output_type": "stream",
          "text": [
            "\n",
            "Tonight: Clear, Low: 55 F\n",
            "Thursday: Sunny then Chance Showers, High: 77 F\n",
            "Friday: Sunny,  High: 73 F\n",
            "Saturday: Mostly Sunny,  High: 77 F\n",
            "Sunday: Mostly Sunny,  High: 71 F \n"
          ],
          "name": "stdout"
        }
      ]
    },
    {
      "cell_type": "markdown",
      "metadata": {
        "id": "pFeiqZr-ycO8",
        "colab_type": "text"
      },
      "source": [
        "#### Exercise 3"
      ]
    },
    {
      "cell_type": "code",
      "metadata": {
        "id": "WF1RALgsycO9",
        "colab_type": "code",
        "colab": {},
        "outputId": "8a5569e5-0541-429d-9757-0424ef87f75d"
      },
      "source": [
        "url = 'https://www.google.com/maps/@42.2509428,-71.8249939,17z.'\n",
        "\n",
        "print ('Latitude: ' + url[29:39])\n",
        "print ('Longitude: ' + url[40:51])"
      ],
      "execution_count": null,
      "outputs": [
        {
          "output_type": "stream",
          "text": [
            "Latitude: 42.2509428\n",
            "Longitude: -71.8249939\n"
          ],
          "name": "stdout"
        }
      ]
    },
    {
      "cell_type": "code",
      "metadata": {
        "id": "gN5EKkI5ycO_",
        "colab_type": "code",
        "colab": {},
        "outputId": "b32f66e7-aeb9-49c3-a200-96a74ae1171d"
      },
      "source": [
        "# Another Possible Solution\n",
        "url = 'https://www.google.com/maps/@42.2509428,-71.8249939,17z.'\n",
        "# get the index ,the length of latitude is 11\n",
        "a = url.index('@')\n",
        "print ('Latitude:'+url[a+1:a+11])\n",
        "print ('Longitude:'+url[a+12:a+23])"
      ],
      "execution_count": null,
      "outputs": [
        {
          "output_type": "stream",
          "text": [
            "Latitude:42.2509428\n",
            "Longitude:-71.8249939\n"
          ],
          "name": "stdout"
        }
      ]
    }
  ]
}