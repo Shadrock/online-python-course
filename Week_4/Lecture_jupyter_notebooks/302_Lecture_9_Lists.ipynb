{
  "nbformat": 4,
  "nbformat_minor": 0,
  "metadata": {
    "colab": {
      "name": "302_Lecture_9_Lists.ipynb",
      "provenance": [],
      "collapsed_sections": [
        "vsYxqW3zGs36",
        "rcl0bgkpHGzE",
        "1iRzk1TlJciz",
        "IHHeggk6L5GU",
        "E_VVueKbN60X",
        "0CwyW4mSPqO7",
        "JuqqGQRt6Ilh",
        "MBpqIewD62QP",
        "kuqWKLQL7le8",
        "ZNfpj-929Ere",
        "-k7vxmZ39wsU",
        "_rMFgeWwst4A",
        "zMNKbSWL-vmK",
        "fpOoaN2w_eHA"
      ],
      "include_colab_link": true
    },
    "kernelspec": {
      "name": "python3",
      "display_name": "Python 3"
    }
  },
  "cells": [
    {
      "cell_type": "markdown",
      "metadata": {
        "id": "view-in-github",
        "colab_type": "text"
      },
      "source": [
        "<a href=\"https://colab.research.google.com/github/Shadrock/online-python-course/blob/master/Week_5/Lecture_jupyter_notebooks/302_Lecture_9_Lists.ipynb\" target=\"_parent\"><img src=\"https://colab.research.google.com/assets/colab-badge.svg\" alt=\"Open In Colab\"/></a>"
      ]
    },
    {
      "cell_type": "markdown",
      "metadata": {
        "id": "vsYxqW3zGs36",
        "colab_type": "text"
      },
      "source": [
        "# Creating Lists\n",
        "Lists in Python are used to store a collection of elements. In general they are homogenous but they don't have to be. Lists are mutable: you can change their content. \n",
        "The syntax for lists is square brackets that hold elements, which are spearated by a comma. \n",
        "\n",
        "E.g. `starwars_list = [\"Leia\", \"Han\", \"Chewie\", \"Luke\"]`"
      ]
    },
    {
      "cell_type": "code",
      "metadata": {
        "id": "CNh6KnwPGpF3",
        "colab_type": "code",
        "colab": {
          "base_uri": "https://localhost:8080/",
          "height": 35
        },
        "outputId": "83afc686-4196-4bcd-988f-3905c6d1bdb7"
      },
      "source": [
        "text = \"This is text from a #tweet.\"\n",
        "words = text.split() # The split method returns a list of all the words in a string.\n",
        "print(words)"
      ],
      "execution_count": null,
      "outputs": [
        {
          "output_type": "stream",
          "text": [
            "['This', 'is', 'text', 'from', 'a', '#tweet.']\n"
          ],
          "name": "stdout"
        }
      ]
    },
    {
      "cell_type": "markdown",
      "metadata": {
        "id": "IrRp9CV8vGMe",
        "colab_type": "text"
      },
      "source": [
        "Example of a homogenous list:"
      ]
    },
    {
      "cell_type": "code",
      "metadata": {
        "id": "_Yn-3_vDG_bD",
        "colab_type": "code",
        "colab": {}
      },
      "source": [
        "cities = [\"Jakarta\", \"Mumbai\", \"Nairobi\"]\n",
        "populations = [9608000, 1841000, 3134000]\n",
        "empty = [] # Sometimes, you will want to initialize an empty list into which things will be put. "
      ],
      "execution_count": null,
      "outputs": []
    },
    {
      "cell_type": "markdown",
      "metadata": {
        "id": "I4WdlDzZvGBg",
        "colab_type": "text"
      },
      "source": [
        "Heterogeneous lists:"
      ]
    },
    {
      "cell_type": "code",
      "metadata": {
        "id": "WcqgOBr9vrYp",
        "colab_type": "code",
        "colab": {}
      },
      "source": [
        "mixedlist = [\"Jakarta\", 9608000, [12,15]] # Is there anything odd about this list? "
      ],
      "execution_count": null,
      "outputs": []
    },
    {
      "cell_type": "markdown",
      "metadata": {
        "id": "h3n_DJs32920",
        "colab_type": "text"
      },
      "source": [
        "Lists are handy for grouping like items together."
      ]
    },
    {
      "cell_type": "code",
      "metadata": {
        "id": "fP0scqq12NUr",
        "colab_type": "code",
        "colab": {}
      },
      "source": [
        "import random # importing 'random' allows us to pick a random element from a list\n",
        "restaurant_list = ['Dominos Pizza', 'Mysore', 'Restaurant Thailande', 'Lemeac', 'Chez Leveque', 'Sushi', 'Italian', 'Poutineville']\n",
        "restaurant_item = random.choice(restaurant_list)\n",
        "print (\"Randomly selected item from list is \" + restaurant_item)"
      ],
      "execution_count": null,
      "outputs": []
    },
    {
      "cell_type": "markdown",
      "metadata": {
        "id": "rcl0bgkpHGzE",
        "colab_type": "text"
      },
      "source": [
        "#List Operations\n"
      ]
    },
    {
      "cell_type": "markdown",
      "metadata": {
        "id": "BJHGTNEYv579",
        "colab_type": "text"
      },
      "source": [
        "The `+` operations concatenates lists into one. Print 1 - 5 from the following:"
      ]
    },
    {
      "cell_type": "code",
      "metadata": {
        "id": "ccqRnQPZHDbv",
        "colab_type": "code",
        "colab": {
          "base_uri": "https://localhost:8080/",
          "height": 35
        },
        "outputId": "9e9fe6d5-3b23-4f2f-9f49-47d3bd7c1266"
      },
      "source": [
        "a = [1, 2, 3]\n",
        "b = [4, 5, 6]\n",
        "c = a + b\n",
        "print (c)"
      ],
      "execution_count": null,
      "outputs": [
        {
          "output_type": "stream",
          "text": [
            "[1, 2, 3, 4, 5, 6]\n"
          ],
          "name": "stdout"
        }
      ]
    },
    {
      "cell_type": "markdown",
      "metadata": {
        "id": "WIjxtNO_HQpl",
        "colab_type": "text"
      },
      "source": [
        "The `*` repeats a list a given number of times. Print list `a` in the above code block three times. \n",
        "\n",
        "\n"
      ]
    },
    {
      "cell_type": "code",
      "metadata": {
        "id": "KkgBKpqDHNM-",
        "colab_type": "code",
        "colab": {
          "base_uri": "https://localhost:8080/",
          "height": 35
        },
        "outputId": "e9fd8229-fbef-4173-b0a6-a8f126070652"
      },
      "source": [
        "[a] * 3 # What's the output? \n"
      ],
      "execution_count": null,
      "outputs": [
        {
          "output_type": "execute_result",
          "data": {
            "text/plain": [
              "[[1, 2, 3], [1, 2, 3], [1, 2, 3]]"
            ]
          },
          "metadata": {
            "tags": []
          },
          "execution_count": 15
        }
      ]
    },
    {
      "cell_type": "markdown",
      "metadata": {
        "id": "yMCPDFImH3sX",
        "colab_type": "text"
      },
      "source": [
        "The `in` operator can check membership of a list. It returns a boolean value.  "
      ]
    },
    {
      "cell_type": "code",
      "metadata": {
        "id": "VafLmPtBH3bl",
        "colab_type": "code",
        "colab": {
          "base_uri": "https://localhost:8080/",
          "height": 35
        },
        "outputId": "248efecd-bc99-4cd6-d48d-0612af09cb48"
      },
      "source": [
        "features = ['point', 'line', 'polygon']\n",
        "print(features)"
      ],
      "execution_count": null,
      "outputs": [
        {
          "output_type": "stream",
          "text": [
            "['point', 'line', 'polygon']\n"
          ],
          "name": "stdout"
        }
      ]
    },
    {
      "cell_type": "code",
      "metadata": {
        "id": "tOQ1ZvYvw6O1",
        "colab_type": "code",
        "colab": {
          "base_uri": "https://localhost:8080/",
          "height": 35
        },
        "outputId": "0311ed4c-d043-4e2e-e24e-eb842e524a26"
      },
      "source": [
        "'point' in features # What's the error?"
      ],
      "execution_count": null,
      "outputs": [
        {
          "output_type": "execute_result",
          "data": {
            "text/plain": [
              "True"
            ]
          },
          "metadata": {
            "tags": []
          },
          "execution_count": 18
        }
      ]
    },
    {
      "cell_type": "markdown",
      "metadata": {
        "id": "1iRzk1TlJciz",
        "colab_type": "text"
      },
      "source": [
        "# Strings & Lists\n",
        "Join list elements to form a string"
      ]
    },
    {
      "cell_type": "code",
      "metadata": {
        "id": "vzQR-8roJcN5",
        "colab_type": "code",
        "colab": {}
      },
      "source": [
        "historylist = ['Mumbai', 'was', 'formerly', 'Bombay.']\n",
        "mystr = ' '.join(historylist) # join method returns a string in which the elements of a sequence have been joined with a string separator.\n",
        "print(mystr)"
      ],
      "execution_count": null,
      "outputs": []
    },
    {
      "cell_type": "markdown",
      "metadata": {
        "id": "4iLcS6Z30h-Q",
        "colab_type": "text"
      },
      "source": [
        "How can we remove the underscores and get `Mumbais was formerly Bombay`?\n"
      ]
    },
    {
      "cell_type": "code",
      "metadata": {
        "id": "s2YomM_S8-9g",
        "colab_type": "code",
        "colab": {}
      },
      "source": [
        ""
      ],
      "execution_count": null,
      "outputs": []
    },
    {
      "cell_type": "code",
      "metadata": {
        "id": "PDNI5_2377q4",
        "colab_type": "code",
        "colab": {}
      },
      "source": [
        ""
      ],
      "execution_count": null,
      "outputs": []
    },
    {
      "cell_type": "markdown",
      "metadata": {
        "id": "JmzGhQnMLNrq",
        "colab_type": "text"
      },
      "source": [
        "# Accessing List Elements\n",
        "How can we access lists in a string? "
      ]
    },
    {
      "cell_type": "code",
      "metadata": {
        "id": "zCzTXSJwHl36",
        "colab_type": "code",
        "colab": {}
      },
      "source": [
        "cities = [\"Jakarta\", \"Mumbai\", \"Nairobi\"]"
      ],
      "execution_count": null,
      "outputs": []
    },
    {
      "cell_type": "code",
      "metadata": {
        "id": "baSKCleX9YG_",
        "colab_type": "code",
        "colab": {
          "base_uri": "https://localhost:8080/",
          "height": 35
        },
        "outputId": "9d35a6a3-98a0-410e-85be-90ae941e11f7"
      },
      "source": [
        "cities[2]"
      ],
      "execution_count": null,
      "outputs": [
        {
          "output_type": "execute_result",
          "data": {
            "text/plain": [
              "'Nairobi'"
            ]
          },
          "metadata": {
            "tags": []
          },
          "execution_count": 25
        }
      ]
    },
    {
      "cell_type": "markdown",
      "metadata": {
        "id": "IHHeggk6L5GU",
        "colab_type": "text"
      },
      "source": [
        "### Select the cities individually"
      ]
    },
    {
      "cell_type": "code",
      "metadata": {
        "id": "m9lpew9lL25-",
        "colab_type": "code",
        "colab": {
          "base_uri": "https://localhost:8080/",
          "height": 35
        },
        "outputId": "d0525cb9-c78a-4eaf-d30f-f842b5278ec4"
      },
      "source": [
        "cities[0]"
      ],
      "execution_count": null,
      "outputs": [
        {
          "output_type": "execute_result",
          "data": {
            "text/plain": [
              "'Jakarta'"
            ]
          },
          "metadata": {
            "tags": []
          },
          "execution_count": 26
        }
      ]
    },
    {
      "cell_type": "markdown",
      "metadata": {
        "id": "Qbog_x9rMUkE",
        "colab_type": "text"
      },
      "source": [
        "Accessing list elments: slicing a list with `[::-1]` produces a reversed copy. "
      ]
    },
    {
      "cell_type": "code",
      "metadata": {
        "id": "X5crwvnHML6Y",
        "colab_type": "code",
        "colab": {
          "base_uri": "https://localhost:8080/",
          "height": 35
        },
        "outputId": "f91672bd-8e06-4620-fbe2-8024669bba2a"
      },
      "source": [
        "print(cities[::-1])"
      ],
      "execution_count": null,
      "outputs": [
        {
          "output_type": "stream",
          "text": [
            "['Nairobi', 'Mumbai', 'Jakarta']\n"
          ],
          "name": "stdout"
        }
      ]
    },
    {
      "cell_type": "markdown",
      "metadata": {
        "id": "Eu2w-RiBNe_c",
        "colab_type": "text"
      },
      "source": [
        "But does that permanently change the list? "
      ]
    },
    {
      "cell_type": "code",
      "metadata": {
        "id": "G1gPoW1I181o",
        "colab_type": "code",
        "colab": {}
      },
      "source": [
        "print(cities)"
      ],
      "execution_count": null,
      "outputs": []
    },
    {
      "cell_type": "markdown",
      "metadata": {
        "id": "quq-bySINotS",
        "colab_type": "text"
      },
      "source": [
        "Using the `.reverse()` method reverses the list itself, until you reverse it again. "
      ]
    },
    {
      "cell_type": "code",
      "metadata": {
        "id": "HInhPmLe2HmA",
        "colab_type": "code",
        "colab": {
          "base_uri": "https://localhost:8080/",
          "height": 35
        },
        "outputId": "733c9c44-6308-4217-b57b-f484bc06939f"
      },
      "source": [
        "cities.reverse() # The list is now in reverse order\n",
        "print(cities)"
      ],
      "execution_count": null,
      "outputs": [
        {
          "output_type": "stream",
          "text": [
            "['Nairobi', 'Mumbai', 'Jakarta']\n"
          ],
          "name": "stdout"
        }
      ]
    },
    {
      "cell_type": "markdown",
      "metadata": {
        "id": "E_VVueKbN60X",
        "colab_type": "text"
      },
      "source": [
        "## Lists are mutable\n",
        "We can use indexing to change an element in a list with the following syntax: \n",
        "`variablename[index] = new value`\n",
        "\n",
        "Example: We want to rename one element in the following list using the arport code for the city. BOM is the airport code for Bombay. How, then, can we change the variable name in this list? "
      ]
    },
    {
      "cell_type": "code",
      "metadata": {
        "id": "2VS2CmhPM7RJ",
        "colab_type": "code",
        "colab": {
          "base_uri": "https://localhost:8080/",
          "height": 35
        },
        "outputId": "c0d4b93b-c887-4258-f505-685269413aee"
      },
      "source": [
        "cities = [\"Jakarta\", \"Mumbai\", \"Nairobi\"]\n",
        "cities[1] = 'BOM'\n",
        "print(cities)"
      ],
      "execution_count": null,
      "outputs": [
        {
          "output_type": "stream",
          "text": [
            "['Jakarta', 'BOM', 'Nairobi']\n"
          ],
          "name": "stdout"
        }
      ]
    },
    {
      "cell_type": "markdown",
      "metadata": {
        "id": "RXWhtNr1PG4A",
        "colab_type": "text"
      },
      "source": [
        "We can also using indexing to change an element in a list. \n"
      ]
    },
    {
      "cell_type": "code",
      "metadata": {
        "id": "2mJRESIKO2vm",
        "colab_type": "code",
        "colab": {}
      },
      "source": [
        "numbers = [17, 123]\n",
        "print(numbers)"
      ],
      "execution_count": null,
      "outputs": []
    },
    {
      "cell_type": "markdown",
      "metadata": {
        "id": "NSr9tYlZ3Wfq",
        "colab_type": "text"
      },
      "source": [
        "How would we change `123` to `5`? Remember where your index starts\n"
      ]
    },
    {
      "cell_type": "code",
      "metadata": {
        "id": "kvGkS1Ut3a2c",
        "colab_type": "code",
        "colab": {
          "base_uri": "https://localhost:8080/",
          "height": 34
        },
        "outputId": "c09c145a-0fed-4b3a-d772-cb0e50254bfa"
      },
      "source": [
        "numbers[1] =5\n",
        "print(numbers)"
      ],
      "execution_count": null,
      "outputs": [
        {
          "output_type": "stream",
          "text": [
            "[17, 5]\n"
          ],
          "name": "stdout"
        }
      ]
    },
    {
      "cell_type": "markdown",
      "metadata": {
        "id": "0CwyW4mSPqO7",
        "colab_type": "text"
      },
      "source": [
        "# More Mutating Lists\n",
        "Change the following list to be `a,x,y,d`"
      ]
    },
    {
      "cell_type": "code",
      "metadata": {
        "id": "yssKpHJyPP-p",
        "colab_type": "code",
        "colab": {
          "base_uri": "https://localhost:8080/",
          "height": 34
        },
        "outputId": "acfd05c2-7952-4792-f3c4-8b6d8e69a175"
      },
      "source": [
        "lamelist = ['a', 'b', 'c', 'd'] # Hint, slicing doesn't count the 'stop' index place.\n",
        "lamelist[1:3] = 'x','y'\n",
        "print(lamelist)"
      ],
      "execution_count": null,
      "outputs": [
        {
          "output_type": "stream",
          "text": [
            "['a', 'x', 'y', 'd']\n"
          ],
          "name": "stdout"
        }
      ]
    },
    {
      "cell_type": "markdown",
      "metadata": {
        "id": "ZX2bAFhTQDnL",
        "colab_type": "text"
      },
      "source": [
        "Briefly spell out for me how we're using the index. \n",
        "Insert `b` and `c` in their proper place in the list below. "
      ]
    },
    {
      "cell_type": "code",
      "metadata": {
        "id": "ff_28cROP1dx",
        "colab_type": "code",
        "colab": {
          "base_uri": "https://localhost:8080/",
          "height": 34
        },
        "outputId": "add59591-ee31-4ecc-df39-a2c159117007"
      },
      "source": [
        "letterlist = ['a', 'd', 'f']\n",
        "letterlist[1:1] = 'b', 'c'\n",
        "print(letterlist)"
      ],
      "execution_count": null,
      "outputs": [
        {
          "output_type": "stream",
          "text": [
            "['a', 'b', 'c', 'd', 'f']\n"
          ],
          "name": "stdout"
        }
      ]
    },
    {
      "cell_type": "markdown",
      "metadata": {
        "id": "rmNrb-XMQmy0",
        "colab_type": "text"
      },
      "source": [
        "Now add the letter `e`.\n",
        "\n",
        "We can delete elements from a list by reassigning them to `[]`. Remove `2` and `3` from the list below."
      ]
    },
    {
      "cell_type": "code",
      "metadata": {
        "id": "Xe9utVrHRGcI",
        "colab_type": "code",
        "colab": {
          "base_uri": "https://localhost:8080/",
          "height": 34
        },
        "outputId": "331a826f-d38b-48ff-dd27-5dc462e74322"
      },
      "source": [
        "numberlist = [1,2,3,4,5]\n",
        "numberlist[1:3] = []\n",
        "print(numberlist)\n"
      ],
      "execution_count": null,
      "outputs": [
        {
          "output_type": "stream",
          "text": [
            "[1, 4, 5]\n"
          ],
          "name": "stdout"
        }
      ]
    },
    {
      "cell_type": "markdown",
      "metadata": {
        "id": "GcgH03o1RG0u",
        "colab_type": "text"
      },
      "source": [
        "You can also use the `del` operator. "
      ]
    },
    {
      "cell_type": "code",
      "metadata": {
        "id": "rdonlzYfQV-M",
        "colab_type": "code",
        "colab": {
          "base_uri": "https://localhost:8080/",
          "height": 35
        },
        "outputId": "55cef514-ae8e-48c6-e43a-850adac209e2"
      },
      "source": [
        "statslist = ['mean', 'median', 'mode']\n",
        "del statslist[1] # which index deletes 'median'?\n",
        "print(statslist)"
      ],
      "execution_count": null,
      "outputs": [
        {
          "output_type": "stream",
          "text": [
            "['mean', 'mode']\n"
          ],
          "name": "stdout"
        }
      ]
    },
    {
      "cell_type": "markdown",
      "metadata": {
        "id": "JuqqGQRt6Ilh",
        "colab_type": "text"
      },
      "source": [
        "# Nested Lists"
      ]
    },
    {
      "cell_type": "markdown",
      "metadata": {
        "id": "iGEd3R94RlxN",
        "colab_type": "text"
      },
      "source": [
        "Use cases for nested lists might include lists of things you want to group e.g. "
      ]
    },
    {
      "cell_type": "code",
      "metadata": {
        "id": "IAR84M0wQzS6",
        "colab_type": "code",
        "colab": {}
      },
      "source": [
        "rhymes = [['cat', 'hat'], ['mouse', 'house']]"
      ],
      "execution_count": null,
      "outputs": []
    },
    {
      "cell_type": "markdown",
      "metadata": {
        "id": "iADOYsI5SAuo",
        "colab_type": "text"
      },
      "source": [
        "Or if you want to group things by condition, such as leaf colors, where each list is an observation in the field such as:"
      ]
    },
    {
      "cell_type": "code",
      "metadata": {
        "id": "822NDFHYR4Oh",
        "colab_type": "code",
        "colab": {}
      },
      "source": [
        "leaf_color = [['red', 'yellow'], ['green', 'yellow']]"
      ],
      "execution_count": null,
      "outputs": []
    },
    {
      "cell_type": "markdown",
      "metadata": {
        "id": "MBpqIewD62QP",
        "colab_type": "text"
      },
      "source": [
        "#Nested Lists and Indexing\n",
        "What are two ways to print `15` from this list? \n"
      ]
    },
    {
      "cell_type": "code",
      "metadata": {
        "id": "0S6ELJE5UZXn",
        "colab_type": "code",
        "colab": {}
      },
      "source": [
        "mixedlist = ['Jakarta', 9608000, [12,15]]\n",
        "# Create a variable using index to slice list\n",
        "sublist = mixedlist[2] \n",
        "# Get the index for \"15\"\n",
        "print(sublist[1])\n",
        "\n"
      ],
      "execution_count": null,
      "outputs": []
    },
    {
      "cell_type": "markdown",
      "metadata": {
        "id": "yNvj74dF7WX1",
        "colab_type": "text"
      },
      "source": [
        "There is a fast way... "
      ]
    },
    {
      "cell_type": "code",
      "metadata": {
        "id": "eIrR2ETY7Tk2",
        "colab_type": "code",
        "colab": {
          "base_uri": "https://localhost:8080/",
          "height": 34
        },
        "outputId": "3020894e-716c-4067-899b-d36af1fd5492"
      },
      "source": [
        "mixedlist[2][1]\n",
        "print(mixedlist[2][1]) # Use your indexes... "
      ],
      "execution_count": null,
      "outputs": [
        {
          "output_type": "stream",
          "text": [
            "15\n"
          ],
          "name": "stdout"
        }
      ]
    },
    {
      "cell_type": "markdown",
      "metadata": {
        "id": "kuqWKLQL7le8",
        "colab_type": "text"
      },
      "source": [
        "# Debugging Exercise\n",
        "First, walk me through the code: explain what it's doing. \n",
        "Code it up, check the output. \n",
        "Debug the list to print all regions.\n"
      ]
    },
    {
      "cell_type": "code",
      "metadata": {
        "id": "2GVqpdFK7dkj",
        "colab_type": "code",
        "colab": {}
      },
      "source": [
        "def printRegions():\n",
        "  regions = ['north', 'east', 'south', 'west']\n",
        "  i = 0\n",
        "  while i <= 3:\n",
        "    print(regions[i])\n",
        "    i = i + 1\n",
        "\n",
        "printRegions()"
      ],
      "execution_count": null,
      "outputs": []
    },
    {
      "cell_type": "markdown",
      "metadata": {
        "id": "ZNfpj-929Ere",
        "colab_type": "text"
      },
      "source": [
        "#Using `len()` on a list\n",
        "Create a function that prints a list of elements using `len`."
      ]
    },
    {
      "cell_type": "code",
      "metadata": {
        "id": "0TgdhXK980ch",
        "colab_type": "code",
        "colab": {
          "base_uri": "https://localhost:8080/",
          "height": 68
        },
        "outputId": "ae008c8d-318e-4e6b-c2ff-036e2d59924b"
      },
      "source": [
        "airports = ['DEN', 'LAX', 'BRU']\n",
        "\n",
        "def printList(listname):\n",
        "  i = 0\n",
        "  while i < len(listname):\n",
        "    print(listname[i])\n",
        "    i = i+1\n",
        "\n",
        "printList(airports)"
      ],
      "execution_count": null,
      "outputs": [
        {
          "output_type": "stream",
          "text": [
            "DEN\n",
            "LAX\n",
            "BRU\n"
          ],
          "name": "stdout"
        }
      ]
    },
    {
      "cell_type": "markdown",
      "metadata": {
        "id": "h6fIxCIY9ncx",
        "colab_type": "text"
      },
      "source": [
        "The nice thing about using `len` here is that we don't need to know how many elements there are. "
      ]
    },
    {
      "cell_type": "markdown",
      "metadata": {
        "id": "-k7vxmZ39wsU",
        "colab_type": "text"
      },
      "source": [
        "# Using `for` loops on a list\n",
        "Create a function called `printlist` that takes a list for an argument and uses a for loop to print every elment in that list. "
      ]
    },
    {
      "cell_type": "code",
      "metadata": {
        "id": "NQdT35L5sDaY",
        "colab_type": "code",
        "colab": {}
      },
      "source": [
        "# This function takes a list for an input and prints every element in that list. \n",
        "map_labels = [['red', 'green', 'blue'], ['yellow', 'cyan', 'magenta'], ['black', 'white', 'null']]\n",
        "\n"
      ],
      "execution_count": null,
      "outputs": []
    },
    {
      "cell_type": "markdown",
      "metadata": {
        "id": "_rMFgeWwst4A",
        "colab_type": "text"
      },
      "source": [
        "### `for` loop answer"
      ]
    },
    {
      "cell_type": "code",
      "metadata": {
        "id": "Xi4IS18g9Sgo",
        "colab_type": "code",
        "colab": {
          "base_uri": "https://localhost:8080/",
          "height": 51
        },
        "outputId": "d6e38699-3ed9-4ded-d5cf-bbc545628949"
      },
      "source": [
        "def printlist(listname):\n",
        "  for listItem in listname:\n",
        "    print(listItem)\n",
        "\n",
        "map_labels = [['red', 'green', 'blue'], ['yellow', 'cyan', 'magenta']]\n",
        "\n",
        "printlist(map_labels)"
      ],
      "execution_count": null,
      "outputs": [
        {
          "output_type": "stream",
          "text": [
            "['red', 'green', 'blue']\n",
            "['yellow', 'cyan', 'magenta']\n"
          ],
          "name": "stdout"
        }
      ]
    },
    {
      "cell_type": "markdown",
      "metadata": {
        "id": "zMNKbSWL-vmK",
        "colab_type": "text"
      },
      "source": [
        "# Exercise Data Munging\n",
        "Write a python function that takes a list as an argument and returns a new list with unique elements of the first list. E.g. \n",
        "\n",
        "* Sample input `thislist = [1, 2, 1, 1, 3, 4, 3, 3, 5]`\n",
        "* Sample output `unique_list = [1, 2, 3, 4, 5]`\n",
        "\n",
        "This is a common data munging problem: you want to know how many unique values exist in a given dataset. \n",
        "\n",
        "My solution uses `.append()` which can append a value to the end of something. E.g. "
      ]
    },
    {
      "cell_type": "code",
      "metadata": {
        "id": "9WJbYdGNAimA",
        "colab_type": "code",
        "colab": {}
      },
      "source": [
        "funlist = ['joy', 'happiness']\n",
        "funlist.append('mirth')\n",
        "print(funlist)"
      ],
      "execution_count": null,
      "outputs": []
    },
    {
      "cell_type": "markdown",
      "metadata": {
        "id": "fpOoaN2w_eHA",
        "colab_type": "text"
      },
      "source": [
        "# Data Munging Answer\n"
      ]
    },
    {
      "cell_type": "code",
      "metadata": {
        "id": "ZeKxsZdC-bpS",
        "colab_type": "code",
        "colab": {
          "base_uri": "https://localhost:8080/",
          "height": 170
        },
        "outputId": "09ddc998-e64f-461a-94cf-5d143ac13abc"
      },
      "source": [
        "def unique(list1):\n",
        "  unique_list = [] # Initialize an empty list to hold unique values.\n",
        "  for x in list1:\n",
        "    if x not in unique_list: # check if a value is already in the list \n",
        "      print(x)\n",
        "\n",
        "numlist = [1, 2, 1, 1, 3, 4, 3, 3, 5]\n",
        "unique(numlist)"
      ],
      "execution_count": null,
      "outputs": [
        {
          "output_type": "stream",
          "text": [
            "1\n",
            "2\n",
            "1\n",
            "1\n",
            "3\n",
            "4\n",
            "3\n",
            "3\n",
            "5\n"
          ],
          "name": "stdout"
        }
      ]
    },
    {
      "cell_type": "markdown",
      "metadata": {
        "id": "JLmFP4U1BG_2",
        "colab_type": "text"
      },
      "source": [
        "As always, there are methods that make it easier..."
      ]
    },
    {
      "cell_type": "code",
      "metadata": {
        "id": "baVkBilLAWjS",
        "colab_type": "code",
        "colab": {
          "base_uri": "https://localhost:8080/",
          "height": 34
        },
        "outputId": "8769a4b8-1e98-4bc5-9f2b-76628863081b"
      },
      "source": [
        ""
      ],
      "execution_count": null,
      "outputs": [
        {
          "output_type": "execute_result",
          "data": {
            "text/plain": [
              "{1, 2, 3, 4, 5}"
            ]
          },
          "metadata": {
            "tags": []
          },
          "execution_count": 10
        }
      ]
    },
    {
      "cell_type": "code",
      "metadata": {
        "id": "rTUIfxJKBAsK",
        "colab_type": "code",
        "colab": {}
      },
      "source": [
        ""
      ],
      "execution_count": null,
      "outputs": []
    }
  ]
}