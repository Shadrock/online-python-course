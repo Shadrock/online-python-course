{
  "nbformat": 4,
  "nbformat_minor": 0,
  "metadata": {
    "colab": {
      "name": "302_Lecture_6_Incremental_dev.ipynb",
      "provenance": [],
      "collapsed_sections": [],
      "authorship_tag": "ABX9TyOnQLiPl5d9/Ht+5bco+daJ",
      "include_colab_link": true
    },
    "kernelspec": {
      "name": "python3",
      "display_name": "Python 3"
    }
  },
  "cells": [
    {
      "cell_type": "markdown",
      "metadata": {
        "id": "view-in-github",
        "colab_type": "text"
      },
      "source": [
        "<a href=\"https://colab.research.google.com/github/Shadrock/online-python-course/blob/master/Week_3/Lecture_jupyter_notebooks/302_Lecture_6_Incremental_dev.ipynb\" target=\"_parent\"><img src=\"https://colab.research.google.com/assets/colab-badge.svg\" alt=\"Open In Colab\"/></a>"
      ]
    },
    {
      "cell_type": "markdown",
      "metadata": {
        "id": "rO6Cixfz0DPb",
        "colab_type": "text"
      },
      "source": [
        "# Incremental Development"
      ]
    },
    {
      "cell_type": "markdown",
      "metadata": {
        "id": "BbDOGKBT0Ndj",
        "colab_type": "text"
      },
      "source": [
        "Start coding by defining a function. We don't know what the arguments will be yet, but the return value will be a float. "
      ]
    },
    {
      "cell_type": "code",
      "metadata": {
        "id": "PPY7dpVfzhp3",
        "colab_type": "code",
        "colab": {}
      },
      "source": [
        "def distance(x1, y1, x2, y2):\n",
        "  return 0.0"
      ],
      "execution_count": null,
      "outputs": []
    },
    {
      "cell_type": "markdown",
      "metadata": {
        "id": "wd1V8GsP0gDx",
        "colab_type": "text"
      },
      "source": [
        "We can run this and see if it returns any errors or if it runs, but doesn't return anything (which is what we expect to see). Now call your function using sample values."
      ]
    },
    {
      "cell_type": "code",
      "metadata": {
        "id": "_8BSv4pa0F6Z",
        "colab_type": "code",
        "colab": {}
      },
      "source": [
        "print (distance(1,2,3,4))"
      ],
      "execution_count": null,
      "outputs": []
    },
    {
      "cell_type": "markdown",
      "metadata": {
        "id": "ALU4iFb407Vx",
        "colab_type": "text"
      },
      "source": [
        "What happens, and why? \n",
        "\n",
        "Next we'll add code that finds the differences in `x` and `y`. "
      ]
    },
    {
      "cell_type": "code",
      "metadata": {
        "id": "6z5e4D1N08CS",
        "colab_type": "code",
        "colab": {}
      },
      "source": [
        "def distance(x1, y1, x2, y2):\n",
        "  dx = x2 - x1 # distance between the x values\n",
        "  dy = y2 - y1 # distance between the y values\n",
        "  print (\"dx is\", dx) # testing\n",
        "  print (\"dy is\", dy) # testing\n"
      ],
      "execution_count": null,
      "outputs": []
    },
    {
      "cell_type": "markdown",
      "metadata": {
        "id": "Q5mO5NEZ1nOp",
        "colab_type": "text"
      },
      "source": [
        "Call the function. "
      ]
    },
    {
      "cell_type": "code",
      "metadata": {
        "id": "q32hAYPy1UE5",
        "colab_type": "code",
        "colab": {}
      },
      "source": [
        "distance(1,2,3,4,)"
      ],
      "execution_count": null,
      "outputs": []
    },
    {
      "cell_type": "markdown",
      "metadata": {
        "id": "D86oEziv1vIP",
        "colab_type": "text"
      },
      "source": [
        "What's the output? Is the code functioning so far? \n",
        "\n",
        "Now we can take out the print statements, and add the code that finds the differences in `x` and `y` coordinates. "
      ]
    },
    {
      "cell_type": "code",
      "metadata": {
        "id": "rHcyiu8c1x0o",
        "colab_type": "code",
        "colab": {}
      },
      "source": [
        "def distance(x1, y1, x2, y2):\n",
        "  dx = x2 - x1 # distance between the x values\n",
        "  dy = y2 - y1 # distance between the y values\n",
        "  dsquared = dx**2 + dy**2\n",
        "  print(\"dsquared is: \", dsquared) # another test"
      ],
      "execution_count": null,
      "outputs": []
    },
    {
      "cell_type": "markdown",
      "metadata": {
        "id": "0ZLA98P72RHQ",
        "colab_type": "text"
      },
      "source": [
        "Call the function."
      ]
    },
    {
      "cell_type": "code",
      "metadata": {
        "id": "eflvENDv2SeA",
        "colab_type": "code",
        "colab": {}
      },
      "source": [
        "distance(1,2,3,4)"
      ],
      "execution_count": null,
      "outputs": []
    },
    {
      "cell_type": "markdown",
      "metadata": {
        "id": "Z-TySxYt2jdu",
        "colab_type": "text"
      },
      "source": [
        "What's the output? Is the code functioning so far? \n",
        "\n",
        "Take out the print statements, and add the code that finds the final result. "
      ]
    },
    {
      "cell_type": "code",
      "metadata": {
        "id": "2yxQdnWB2U7_",
        "colab_type": "code",
        "colab": {}
      },
      "source": [
        "def distance(x1, y1, x2, y2):\n",
        "  dx = x2 - x1 # distance between the x values\n",
        "  dy = y2 - y1 # distance between the y values\n",
        "  dsquared = dx**2 + dy**2\n",
        "  result = math.sqrt(dsquared)\n",
        "  return result"
      ],
      "execution_count": null,
      "outputs": []
    },
    {
      "cell_type": "markdown",
      "metadata": {
        "id": "giYVIdNw2-2d",
        "colab_type": "text"
      },
      "source": [
        "Call the function."
      ]
    },
    {
      "cell_type": "code",
      "metadata": {
        "id": "Xjj2dFFf3BGk",
        "colab_type": "code",
        "colab": {}
      },
      "source": [
        "distance(1,2,3,4,)"
      ],
      "execution_count": null,
      "outputs": []
    },
    {
      "cell_type": "markdown",
      "metadata": {
        "id": "EzxpE2Sz25Ru",
        "colab_type": "text"
      },
      "source": [
        "Did we forget anything? \n",
        "Yep, we forgot to import the math library. Add `import math` above the first line of the function. \n"
      ]
    },
    {
      "cell_type": "markdown",
      "metadata": {
        "id": "cZP_Oc44dElD",
        "colab_type": "text"
      },
      "source": [
        "**Couldn't we just do that all on one line?** \n",
        "Yes! Often, I'm using several steps in example problems to walk through the code very explicitly. However, the more clean and compact you can make your code, the better! The code above could be simply written as:  "
      ]
    },
    {
      "cell_type": "code",
      "metadata": {
        "id": "R8x-jTgJc7GM",
        "colab_type": "code",
        "colab": {}
      },
      "source": [
        "import math\n",
        "def distance(x1, y1, x2, y2):\n",
        "  return math.sqrt(x2-x1)**2 + (y2-y1**2)\n",
        "\n",
        "distance(1,2,3,4)\n"
      ],
      "execution_count": null,
      "outputs": []
    }
  ]
}