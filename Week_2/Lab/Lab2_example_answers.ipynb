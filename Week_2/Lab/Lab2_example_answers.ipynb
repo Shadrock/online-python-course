{
  "nbformat": 4,
  "nbformat_minor": 0,
  "metadata": {
    "kernelspec": {
      "display_name": "Python 3",
      "language": "python",
      "name": "python3"
    },
    "language_info": {
      "codemirror_mode": {
        "name": "ipython",
        "version": 3
      },
      "file_extension": ".py",
      "mimetype": "text/x-python",
      "name": "python",
      "nbconvert_exporter": "python",
      "pygments_lexer": "ipython3",
      "version": "3.6.6"
    },
    "colab": {
      "name": "Lab2_example_answers.ipynb",
      "provenance": [],
      "include_colab_link": true
    }
  },
  "cells": [
    {
      "cell_type": "markdown",
      "metadata": {
        "id": "view-in-github",
        "colab_type": "text"
      },
      "source": [
        "<a href=\"https://colab.research.google.com/github/Shadrock/online-python-course/blob/master/Week_3/Lab/Lab2_example_answers.ipynb\" target=\"_parent\"><img src=\"https://colab.research.google.com/assets/colab-badge.svg\" alt=\"Open In Colab\"/></a>"
      ]
    },
    {
      "cell_type": "markdown",
      "metadata": {
        "id": "VA8KglxCXVBF",
        "colab_type": "text"
      },
      "source": [
        "# **Lab 2: Classifying Data with Functions & if/elif/else Statements** "
      ]
    },
    {
      "cell_type": "markdown",
      "metadata": {
        "id": "2BfWR2zcXVBI",
        "colab_type": "text"
      },
      "source": [
        "#### Points:\n",
        "\n",
        "#### Due Date: \n",
        "\n",
        "#### Submit via: \n",
        "----------"
      ]
    },
    {
      "cell_type": "markdown",
      "metadata": {
        "id": "XssHnzW0XVBJ",
        "colab_type": "text"
      },
      "source": [
        "Write a function, called feelTemp, that converts a given temperature (in Fahrenheit) into four categorical levels, hot, warm, cool, and cold using the following criteria: \n",
        "\n",
        "> - if the temperature is 100 or above, the functions returns “It is hot.”;\n",
        "- if the temperature is between 70 and 100, the function returns “It is warm.”;\n",
        "- if the temperature is between 32 and 70, the functions returns “It is cool.”;\n",
        "- if the temperature is below 32, it returns “It is cold.”\n",
        "- The function feelTemp will take one value for the temperature, and then returns a category as a string.\n",
        "\n",
        "When running the program, the user is prompted to input a temperature, then the program print one of the four categorical levels (hot, warm, cool, and cold) that the given temperature falls into.\n",
        "\n",
        "Use if/elif/else structure to classify the input numerical values into one of the four categories; use input to get an input from the keyboard. Be sure to include comments and documentation in your script to tell me what it’s doing!\n",
        "\n",
        "----------"
      ]
    },
    {
      "cell_type": "markdown",
      "metadata": {
        "id": "tcu_SP0eXVBL",
        "colab_type": "text"
      },
      "source": [
        "### _Possible Solutions_"
      ]
    },
    {
      "cell_type": "code",
      "metadata": {
        "id": "hcxSiScxXVBM",
        "colab_type": "code",
        "colab": {
          "base_uri": "https://localhost:8080/",
          "height": 51
        },
        "outputId": "bdf753b3-b672-47b0-8d15-b64361c06c8d"
      },
      "source": [
        "# prompt user for temprature\n",
        "temp=int(input(\"Enter temperature in Fahrenheit: \"))\n",
        "\n",
        "def feelTemp(x):\n",
        "    if x>=100: # Temperature over 100 is hot\n",
        "     print(\"It is hot.\")  \n",
        "    elif x>=70 and x<100: # Temperatures between 70 and 100 is warm \n",
        "     print(\"It is warm.\") \n",
        "    elif x>=32 and x<70: # Temperatures between 32 and 70 is cool\n",
        "     print(\"it is cool.\")\n",
        "    else: # All remaining temperatures are cold\n",
        "         print(\"It is cold!\")\n",
        " \n",
        "# call function\n",
        "feelTemp(temp)"
      ],
      "execution_count": null,
      "outputs": [
        {
          "output_type": "stream",
          "text": [
            "Enter temperature in Fahrenheit: 10\n",
            "It is cold!\n"
          ],
          "name": "stdout"
        }
      ]
    },
    {
      "cell_type": "code",
      "metadata": {
        "id": "rbQynrSRXVBQ",
        "colab_type": "code",
        "colab": {
          "base_uri": "https://localhost:8080/",
          "height": 51
        },
        "outputId": "b197f0c5-ca3f-4e0d-eb17-d0f0eb109239"
      },
      "source": [
        "#prompt user for temprature \n",
        "temp=int(input (\"Insert temperture value in Fahrenheit here:\"))\n",
        "\n",
        "#assign temperature category to input\n",
        "def feelTemp (temp):\n",
        "  if temp>=100:\n",
        "    return \"It is hot.\"\n",
        "  elif temp>=70 and x<100:\n",
        "    return \"It is warm.\"\n",
        "  elif temp>=32 and temp<70:\n",
        "   return \"It is cool.\"\n",
        "  else:\n",
        "    return \"It is cold.\"\n",
        "\n",
        "#print answer\n",
        "print(feelTemp(temp))"
      ],
      "execution_count": null,
      "outputs": [
        {
          "output_type": "stream",
          "text": [
            "Insert temperture value in Fahrenheit here:4\n",
            "It is cold.\n"
          ],
          "name": "stdout"
        }
      ]
    }
  ]
}