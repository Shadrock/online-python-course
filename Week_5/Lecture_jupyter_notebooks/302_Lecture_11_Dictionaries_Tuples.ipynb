{
  "nbformat": 4,
  "nbformat_minor": 0,
  "metadata": {
    "colab": {
      "name": "302_Lecture_11_Dictionaries_Tuples.ipynb",
      "provenance": [],
      "collapsed_sections": [
        "tsdmVaaV9bBi",
        "904vxjNvecgp",
        "V9MeioUzewpR",
        "QZKhSbFDf88A",
        "MIUaJgbYh6aw"
      ],
      "authorship_tag": "ABX9TyON0mblGA9f7AAve9gQFNEe",
      "include_colab_link": true
    },
    "kernelspec": {
      "name": "python3",
      "display_name": "Python 3"
    }
  },
  "cells": [
    {
      "cell_type": "markdown",
      "metadata": {
        "id": "view-in-github",
        "colab_type": "text"
      },
      "source": [
        "<a href=\"https://colab.research.google.com/github/Shadrock/online-python-course/blob/master/Week_5/Lecture_jupyter_notebooks/302_Lecture_11_Dictionaries_Tuples.ipynb\" target=\"_parent\"><img src=\"https://colab.research.google.com/assets/colab-badge.svg\" alt=\"Open In Colab\"/></a>"
      ]
    },
    {
      "cell_type": "markdown",
      "metadata": {
        "id": "ylxXQDVn82lT",
        "colab_type": "text"
      },
      "source": [
        "# Dictionary Exercise\n",
        "Create a histogram (shows the frequency of data) to show how many letters appear in a word. The output should be a ditionary in which the key is the letter, and the value is the number of times that letter appears in the word passed to the function. The method `dict()` creates an empty dictionary. \n",
        "\n",
        "So if you make a variable `d = dict()` then anything you put into `d` will be output into a dictionary. Remember, the way to add to   things to a dictionary (in this case) would be `d['key'] = 'value'` (no quotes needed if you use integers). \n",
        "\n",
        "I also used reassignment to count the world the letter the first time with a value of `1` then used `+=1` to add one to the value and reassign each time. \n",
        "\n",
        "I started my answer as follows: \n"
      ]
    },
    {
      "cell_type": "code",
      "metadata": {
        "id": "MmoasIvTcuoD",
        "colab_type": "code",
        "colab": {}
      },
      "source": [
        "def histogram(word):      # create the function\n",
        "  d = dict()              # initialize an empty dictionary "
      ],
      "execution_count": null,
      "outputs": []
    },
    {
      "cell_type": "markdown",
      "metadata": {
        "id": "tsdmVaaV9bBi",
        "colab_type": "text"
      },
      "source": [
        "## Answer"
      ]
    },
    {
      "cell_type": "code",
      "metadata": {
        "id": "RZeTYlW08qrB",
        "colab_type": "code",
        "colab": {}
      },
      "source": [
        "def histogram(word):      # create the function\n",
        "  d = dict()              # initialize an empty dictionary \n",
        "  for letter in word:\n",
        "    if letter not in d:   # If the letter is not yet in the dictionary... \n",
        "      d[letter] = 1       # this counts first occurence of the letter.\n",
        "    else:\n",
        "      d[letter] +=1       # Adds a value and the variable then assigns the new result to that variable.\n",
        "  return d                # Returns the output of a dictionary"
      ],
      "execution_count": null,
      "outputs": []
    },
    {
      "cell_type": "code",
      "metadata": {
        "id": "37KE7NIZ97KD",
        "colab_type": "code",
        "colab": {
          "base_uri": "https://localhost:8080/",
          "height": 35
        },
        "outputId": "32733068-5d9b-4d30-ab42-4e160a1201db"
      },
      "source": [
        "histogram(\"Mississippi\")"
      ],
      "execution_count": null,
      "outputs": [
        {
          "output_type": "execute_result",
          "data": {
            "text/plain": [
              "{'M': 1, 'i': 4, 'p': 2, 's': 4}"
            ]
          },
          "metadata": {
            "tags": []
          },
          "execution_count": 6
        }
      ]
    },
    {
      "cell_type": "markdown",
      "metadata": {
        "id": "904vxjNvecgp",
        "colab_type": "text"
      },
      "source": [
        "## Dictionary Exercise 2\n",
        "Create a function that counts the number of occurences of a word in a string. The output should be a dictionary with the word as the key and the number of occurences as a value. "
      ]
    },
    {
      "cell_type": "code",
      "metadata": {
        "id": "bRhy06N0ewLu",
        "colab_type": "code",
        "colab": {}
      },
      "source": [
        "def word_count(str):              # Define a function that takes a string as an argument\n",
        "    counts = dict()               # Initialize an empty dictionary.\n",
        "    words = str.lower().split()   # invoke methods to lower case all words in string then split them out"
      ],
      "execution_count": null,
      "outputs": []
    },
    {
      "cell_type": "markdown",
      "metadata": {
        "id": "V9MeioUzewpR",
        "colab_type": "text"
      },
      "source": [
        "### Answer"
      ]
    },
    {
      "cell_type": "code",
      "metadata": {
        "id": "CqQRqGTy-CMw",
        "colab_type": "code",
        "colab": {}
      },
      "source": [
        "def word_count(str):\n",
        "    counts = dict()\n",
        "    words = str.lower().split()\n",
        "\n",
        "    for word in words:\n",
        "        if word not in counts:\n",
        "            counts[word] = 1\n",
        "        else:\n",
        "            counts[word] += 1\n",
        "    return counts\n",
        "\n",
        "word_count('The quick brown fox jumps over the lazy dog.')"
      ],
      "execution_count": null,
      "outputs": []
    },
    {
      "cell_type": "markdown",
      "metadata": {
        "id": "0oO0qyiPfuNY",
        "colab_type": "text"
      },
      "source": [
        "# Tuples (pronounced \"Tuh-pull\")\n",
        "A tuple is similar to a list *except* that it is **immutable**: it cannot change. This means that methods like sort and reverse won’t work on a tuple! Lists are more common the tuples. But there are some cases in which you will want a tuple: the primary reason being if you don't want the dataset to change. \n",
        "Tuple is defined within parentheses and the syntax is: \n",
        "\n",
        "`Tuple = ('a', 'b', 'c', 'd', 'e')`\n",
        "\n",
        "Note that a Tuple with a single element must include the final comma, such as: `real_tuple = ('a',)`. Any idea why? what is the `type` of the example I just gave and this one, `fake_tuple = ('a')`?"
      ]
    },
    {
      "cell_type": "code",
      "metadata": {
        "id": "fN5unvmMfwYZ",
        "colab_type": "code",
        "colab": {}
      },
      "source": [
        "real_tuple = ('a',)\n",
        "fake_tuple = ('a')\n",
        "\n",
        "type(fake_tuple) # Then try fake_tuple"
      ],
      "execution_count": null,
      "outputs": []
    },
    {
      "cell_type": "markdown",
      "metadata": {
        "id": "QZKhSbFDf88A",
        "colab_type": "text"
      },
      "source": [
        "## Accessing Elements\n",
        "Similar to a list: use the index. "
      ]
    },
    {
      "cell_type": "code",
      "metadata": {
        "id": "BcvBLK8fhepS",
        "colab_type": "code",
        "colab": {}
      },
      "source": [
        "mytuple = ('a', 'b', 'c', 'd', 'e')"
      ],
      "execution_count": null,
      "outputs": []
    },
    {
      "cell_type": "markdown",
      "metadata": {
        "id": "elT2bQibhyxc",
        "colab_type": "text"
      },
      "source": [
        "How would I get just `a` from the tupple? How about `b, c`?"
      ]
    },
    {
      "cell_type": "markdown",
      "metadata": {
        "id": "MIUaJgbYh6aw",
        "colab_type": "text"
      },
      "source": [
        "## Answer"
      ]
    },
    {
      "cell_type": "code",
      "metadata": {
        "id": "tAGLxnvohkIH",
        "colab_type": "code",
        "colab": {
          "base_uri": "https://localhost:8080/",
          "height": 35
        },
        "outputId": "fbfb90df-6615-4905-f798-26343085aa99"
      },
      "source": [
        "mytuple[0] # Gets a"
      ],
      "execution_count": null,
      "outputs": [
        {
          "output_type": "execute_result",
          "data": {
            "text/plain": [
              "'a'"
            ]
          },
          "metadata": {
            "tags": []
          },
          "execution_count": 11
        }
      ]
    },
    {
      "cell_type": "code",
      "metadata": {
        "id": "CVELPVUkhmkz",
        "colab_type": "code",
        "colab": {}
      },
      "source": [
        "mytuple[1:3] # Gets b & c."
      ],
      "execution_count": null,
      "outputs": []
    }
  ]
}