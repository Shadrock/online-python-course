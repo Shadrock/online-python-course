{
  "nbformat": 4,
  "nbformat_minor": 0,
  "metadata": {
    "colab": {
      "name": "302_Lecture_5_conditionals_recursion.ipynb",
      "provenance": [],
      "collapsed_sections": [
        "NIMkYnLgHCaa",
        "faGjLzbqLEW6",
        "wd35WjmgL-QP",
        "h_J_W-qrTSKb",
        "tfpZKs2XVW07",
        "orgFxoU8W6wa",
        "EOun03YDX0fr",
        "GeP8TkckYcnE",
        "U06hKH9f6rab",
        "Tkq6l1pOSP43",
        "DCK4MuwpUIGY",
        "863m510zUrxf"
      ],
      "include_colab_link": true
    },
    "kernelspec": {
      "name": "python3",
      "display_name": "Python 3"
    }
  },
  "cells": [
    {
      "cell_type": "markdown",
      "metadata": {
        "id": "view-in-github",
        "colab_type": "text"
      },
      "source": [
        "<a href=\"https://colab.research.google.com/github/Shadrock/online-python-course/blob/master/Week_3/Lecture_jupyter_notebooks/302_Lecture_5_conditionals_recursion.ipynb\" target=\"_parent\"><img src=\"https://colab.research.google.com/assets/colab-badge.svg\" alt=\"Open In Colab\"/></a>"
      ]
    },
    {
      "cell_type": "markdown",
      "metadata": {
        "id": "FrL4EEgAupuJ",
        "colab_type": "text"
      },
      "source": [
        "#**Conditionals & Recursion** "
      ]
    },
    {
      "cell_type": "markdown",
      "metadata": {
        "id": "NIMkYnLgHCaa",
        "colab_type": "text"
      },
      "source": [
        "## **Modulus Operator**"
      ]
    },
    {
      "cell_type": "markdown",
      "metadata": {
        "id": "kW5B1phWVHbD",
        "colab_type": "text"
      },
      "source": [
        "% divides two numbers and returns the remainder."
      ]
    },
    {
      "cell_type": "code",
      "metadata": {
        "id": "rdJdpoCnIPar",
        "colab_type": "code",
        "colab": {}
      },
      "source": [
        "quotient = 7/3\n",
        "print(quotient)"
      ],
      "execution_count": null,
      "outputs": []
    },
    {
      "cell_type": "code",
      "metadata": {
        "id": "jn0JfJacGscK",
        "colab_type": "code",
        "colab": {}
      },
      "source": [
        "remainder = 7 % 3\n",
        "print(remainder)"
      ],
      "execution_count": null,
      "outputs": []
    },
    {
      "cell_type": "code",
      "metadata": {
        "id": "KUoukXIXIWx7",
        "colab_type": "code",
        "colab": {}
      },
      "source": [
        ""
      ],
      "execution_count": null,
      "outputs": []
    },
    {
      "cell_type": "markdown",
      "metadata": {
        "id": "faGjLzbqLEW6",
        "colab_type": "text"
      },
      "source": [
        "## **Boolean Expressions**"
      ]
    },
    {
      "cell_type": "markdown",
      "metadata": {
        "id": "ZBYMvyEuwIM2",
        "colab_type": "text"
      },
      "source": [
        "In Python, `True` & `False` (notice caps!) are boolean values. With relational operators I can create a boolean expression. For example, I may have a long list of values and only need to find ones that are at a certain threshold, such as how many students are scoring over 80%. "
      ]
    },
    {
      "cell_type": "code",
      "metadata": {
        "id": "JkjqE4NeLGtZ",
        "colab_type": "code",
        "colab": {}
      },
      "source": [
        "x == y # x is equal to y. "
      ],
      "execution_count": null,
      "outputs": []
    },
    {
      "cell_type": "code",
      "metadata": {
        "id": "SHpkCI9gLPUr",
        "colab_type": "code",
        "colab": {}
      },
      "source": [
        "x != y # x is not equal to y"
      ],
      "execution_count": null,
      "outputs": []
    },
    {
      "cell_type": "code",
      "metadata": {
        "id": "1zB6_0G3LReO",
        "colab_type": "code",
        "colab": {}
      },
      "source": [
        "x > y # x is greater than y"
      ],
      "execution_count": null,
      "outputs": []
    },
    {
      "cell_type": "markdown",
      "metadata": {
        "id": "M_6R6NKPxH2q",
        "colab_type": "text"
      },
      "source": [
        "With our friend Modulus we can see if one value is divisble by another. "
      ]
    },
    {
      "cell_type": "code",
      "metadata": {
        "id": "A6OZBWYKxN06",
        "colab_type": "code",
        "colab": {}
      },
      "source": [
        "6 % 3 == 0 # What's the output?"
      ],
      "execution_count": null,
      "outputs": []
    },
    {
      "cell_type": "code",
      "metadata": {
        "id": "n4nZkEyyxZU3",
        "colab_type": "code",
        "colab": {}
      },
      "source": [
        "7 % 3 == 0 # What's the output? "
      ],
      "execution_count": null,
      "outputs": []
    },
    {
      "cell_type": "markdown",
      "metadata": {
        "id": "yta-cf9Dxp2o",
        "colab_type": "text"
      },
      "source": [
        "Remember, `0` is only telling you if there is a remainder or not... there is no \"O remainder.\" "
      ]
    },
    {
      "cell_type": "markdown",
      "metadata": {
        "id": "wd35WjmgL-QP",
        "colab_type": "text"
      },
      "source": [
        "## **Logical Operators**"
      ]
    },
    {
      "cell_type": "markdown",
      "metadata": {
        "id": "iNiEkyLax_Sm",
        "colab_type": "text"
      },
      "source": [
        "Three logical that can help build Boolean expressions: `and`, `or`, `not`."
      ]
    },
    {
      "cell_type": "code",
      "metadata": {
        "id": "-UdopU_dMA6i",
        "colab_type": "code",
        "colab": {}
      },
      "source": [
        "5 > 0 and 5 < 10 # What's the output? \n"
      ],
      "execution_count": null,
      "outputs": []
    },
    {
      "cell_type": "code",
      "metadata": {
        "id": "b5j_O80tJocg",
        "colab_type": "code",
        "colab": {}
      },
      "source": [
        "6 % 2 == 0 or 6 % 3 == 0 # True if either or both is true."
      ],
      "execution_count": null,
      "outputs": []
    },
    {
      "cell_type": "markdown",
      "metadata": {
        "id": "IRKQt6_2NMEv",
        "colab_type": "text"
      },
      "source": [
        "**Example Use Case** Think about GIS and land classification. How would I build a Boolean expression to find a plot of land gretaer in area than 155 unite that has a suitability index of 0.9 or greater?"
      ]
    },
    {
      "cell_type": "code",
      "metadata": {
        "id": "GLBmyDD2MDvl",
        "colab_type": "code",
        "colab": {}
      },
      "source": [
        "x == area > 154 and suitability > 0.8"
      ],
      "execution_count": null,
      "outputs": []
    },
    {
      "cell_type": "markdown",
      "metadata": {
        "id": "PjEX04jBQNfE",
        "colab_type": "text"
      },
      "source": [
        "`not` can negate a Boolean expression."
      ]
    },
    {
      "cell_type": "code",
      "metadata": {
        "id": "Npi8XnDOQPM6",
        "colab_type": "code",
        "colab": {}
      },
      "source": [
        "not (5 > 10) #only true if 5 > 10 is false. "
      ],
      "execution_count": null,
      "outputs": []
    },
    {
      "cell_type": "markdown",
      "metadata": {
        "colab_type": "text",
        "id": "h_J_W-qrTSKb"
      },
      "source": [
        "## **Conditional Execution**\n",
        "We often need to check conditions and change the behavior of a program accourdingly. `if` statements have the same structure as function defitions: header followed by indented body. "
      ]
    },
    {
      "cell_type": "code",
      "metadata": {
        "id": "4Of41auJTRls",
        "colab_type": "code",
        "colab": {}
      },
      "source": [
        "# The following is an if statement. \n",
        "water_per_person = 20 # in liters per day according to SPHERE standards.\n",
        "if water_per_person > 19: \n",
        "  print(water_per_person,\":post emergency levels.\")"
      ],
      "execution_count": null,
      "outputs": []
    },
    {
      "cell_type": "code",
      "metadata": {
        "id": "8SLLG8e9TsBN",
        "colab_type": "code",
        "colab": {}
      },
      "source": [
        "water_per_person = 13 # in liters per day\n",
        "if water_per_person < 15:\n",
        "  print (water_per_person, \":EMERGENCY LEVEL.\")"
      ],
      "execution_count": null,
      "outputs": []
    },
    {
      "cell_type": "markdown",
      "metadata": {
        "id": "q-gJQXQTUNGg",
        "colab_type": "text"
      },
      "source": [
        "`else` statement are used when there are two possiblilities and the condition determines which one runs."
      ]
    },
    {
      "cell_type": "code",
      "metadata": {
        "id": "sI0pWOyMUPdg",
        "colab_type": "code",
        "colab": {}
      },
      "source": [
        "x = 15\n",
        "if x % 2 == 0: \n",
        "  print(\"x is even.\")\n",
        "else:\n",
        "  print(\"x is odd.\")\n"
      ],
      "execution_count": null,
      "outputs": []
    },
    {
      "cell_type": "markdown",
      "metadata": {
        "id": "zuna_42H10KD",
        "colab_type": "text"
      },
      "source": [
        "What is one character you could change in the code above to keep x odd, but get a different result? "
      ]
    },
    {
      "cell_type": "markdown",
      "metadata": {
        "id": "tfpZKs2XVW07",
        "colab_type": "text"
      },
      "source": [
        "# Exercise 1"
      ]
    },
    {
      "cell_type": "markdown",
      "metadata": {
        "id": "NqPhRElFVYsY",
        "colab_type": "text"
      },
      "source": [
        "Define a function to do what you've just done. The function should take an argument in the form of an integer and tell you if it is even or odd. "
      ]
    },
    {
      "cell_type": "code",
      "metadata": {
        "id": "A0WhlLH6VYFc",
        "colab_type": "code",
        "colab": {}
      },
      "source": [
        "# Comment about what the code is for.\n",
        "# Define a new function and give it a good name. It will take a value for an argument.\n",
        "  # start first condition here\n",
        "    # it makes something happen\n",
        "  # start second condition here\n",
        "    # it makes something else happen. "
      ],
      "execution_count": null,
      "outputs": []
    },
    {
      "cell_type": "markdown",
      "metadata": {
        "id": "orgFxoU8W6wa",
        "colab_type": "text"
      },
      "source": [
        "# Exercise 1 Answer\n",
        "\n"
      ]
    },
    {
      "cell_type": "code",
      "metadata": {
        "id": "rFQsqWpCW8Kz",
        "colab_type": "code",
        "colab": {}
      },
      "source": [
        "# This function takes a value and tells you if it is even or odd. \n",
        "def print_parity(n):\n",
        "  if x % 2 == 0:\n",
        "    print (n, \"is an even number.\")\n",
        "  else:\n",
        "    print (n, \"is an odd number.\")\n",
        "\n",
        "print_parity(5) # shell or script may require (print x, \"is an even / odd number\")\n"
      ],
      "execution_count": null,
      "outputs": []
    },
    {
      "cell_type": "markdown",
      "metadata": {
        "id": "IBFJqZJYXxMw",
        "colab_type": "text"
      },
      "source": [
        "## **Alternative Exectution & Chained Conditionals**\n",
        "If there are multiple possibilities, we can use `else` and `elif` statements. There is no limit to the number of `elif` statements you can use, but the `else` statement must come at the end. "
      ]
    },
    {
      "cell_type": "markdown",
      "metadata": {
        "id": "EOun03YDX0fr",
        "colab_type": "text"
      },
      "source": [
        "# Exercise 2\n",
        "Define a function called `ifequal` that takes two values and prints out if one is greater than the other, less than the other, or that they are equal. "
      ]
    },
    {
      "cell_type": "code",
      "metadata": {
        "id": "qlm0zgo9XFKr",
        "colab_type": "code",
        "colab": {}
      },
      "source": [
        "# Comment code...\n",
        "def ifequal(x,y):\n",
        "  if"
      ],
      "execution_count": null,
      "outputs": []
    },
    {
      "cell_type": "markdown",
      "metadata": {
        "id": "GeP8TkckYcnE",
        "colab_type": "text"
      },
      "source": [
        "# Exercise 2 Answer"
      ]
    },
    {
      "cell_type": "markdown",
      "metadata": {
        "id": "HrdjIuVOmw_S",
        "colab_type": "text"
      },
      "source": [
        "This is one, possible, answer. "
      ]
    },
    {
      "cell_type": "code",
      "metadata": {
        "id": "GP5wlDkWYeHt",
        "colab_type": "code",
        "colab": {}
      },
      "source": [
        "def ifequal(x,y):\n",
        "  if x < y:\n",
        "    print(x, \"is less than\", y)\n",
        "  elif x > y:\n",
        "    print(x, \"is greater than\", y)\n",
        "  else:\n",
        "    print(x, \"is equal to\", y)\n",
        "\n",
        "ifequal(9,10)"
      ],
      "execution_count": null,
      "outputs": []
    },
    {
      "cell_type": "markdown",
      "metadata": {
        "id": "U06hKH9f6rab",
        "colab_type": "text"
      },
      "source": [
        "# **Recursion**\n",
        "Functions can call themselves to recur."
      ]
    },
    {
      "cell_type": "code",
      "metadata": {
        "id": "ffVTWeLs6a6i",
        "colab_type": "code",
        "colab": {}
      },
      "source": [
        "def countdown(n):\n",
        "    if n == 0: # This is the 'base case'\n",
        "      print(\"Blastoff!\")\n",
        "    else:\n",
        "      print(n)\n",
        "      countdown(n-1)\n",
        "\n",
        "countdown(10)"
      ],
      "execution_count": null,
      "outputs": []
    },
    {
      "cell_type": "markdown",
      "metadata": {
        "id": "tSqX0vfCSDj2",
        "colab_type": "text"
      },
      "source": [
        "Beware of \"infinite recursion\": what happens if we remove the \"-1\" `from countdown(n-1)`? "
      ]
    },
    {
      "cell_type": "markdown",
      "metadata": {
        "id": "Tkq6l1pOSP43",
        "colab_type": "text"
      },
      "source": [
        "# **The Return Statement**\n",
        "The `return` statement will end a function and \"return\" or \"give back\" any value to whatever called it in the first place. "
      ]
    },
    {
      "cell_type": "code",
      "metadata": {
        "id": "y91-UWZz7Y6S",
        "colab_type": "code",
        "colab": {}
      },
      "source": [
        "def cube(num):\n",
        "  num*num*num\n",
        "\n",
        "print(cube(3)) # What's the result?"
      ],
      "execution_count": null,
      "outputs": []
    },
    {
      "cell_type": "markdown",
      "metadata": {
        "id": "DlfYxDd8Syr2",
        "colab_type": "text"
      },
      "source": [
        "Without a return, the `print` statement has nothing to print! Try adding `return num*num*num`..."
      ]
    },
    {
      "cell_type": "markdown",
      "metadata": {
        "id": "gxzjuyTWTMeZ",
        "colab_type": "text"
      },
      "source": [
        "Sometimes the `return` statement will end a function without returning a value. \n",
        "\n"
      ]
    },
    {
      "cell_type": "code",
      "metadata": {
        "id": "AahYFBABStoY",
        "colab_type": "code",
        "colab": {}
      },
      "source": [
        "# Input: this function takes two integers as an argument. \n",
        "# Output: it prints \"s\" n times.\n",
        "def print_n(s,n):\n",
        "  if n <= 0:\n",
        "    return # This stops the function if n is less than or equal to zero!\n",
        "  print(s)\n",
        "  print_n(s, n-1)\n"
      ],
      "execution_count": null,
      "outputs": []
    },
    {
      "cell_type": "code",
      "metadata": {
        "id": "9TgELgEpTxE2",
        "colab_type": "code",
        "colab": {}
      },
      "source": [
        "print_n(10,5)"
      ],
      "execution_count": null,
      "outputs": []
    },
    {
      "cell_type": "markdown",
      "metadata": {
        "id": "DCK4MuwpUIGY",
        "colab_type": "text"
      },
      "source": [
        "# Exercise 3\n",
        "Write a recursive Python function that returns the factorial of a positive integer. Example of a factorial using the integer 4: 4+3+2+1 = 10.\n",
        "Here's a hint: "
      ]
    },
    {
      "cell_type": "code",
      "metadata": {
        "id": "Zzi-0ov9Tz64",
        "colab_type": "code",
        "colab": {}
      },
      "source": [
        "def sumInt(num):\n",
        "  if num == 0:\n",
        "    # write one line of code here\n",
        "  else: \n",
        "    # write one line of code here"
      ],
      "execution_count": null,
      "outputs": []
    },
    {
      "cell_type": "markdown",
      "metadata": {
        "id": "863m510zUrxf",
        "colab_type": "text"
      },
      "source": [
        "# Exercise 3 Answer\n"
      ]
    },
    {
      "cell_type": "code",
      "metadata": {
        "id": "VMmpHyTUUxfg",
        "colab_type": "code",
        "colab": {}
      },
      "source": [
        "def sumInt(num):\n",
        "  if num == 0:\n",
        "    return 0 # If the integer entered equals 0, then there isn't a factorial, so the result is also 0. \n",
        "  else: return num + sumInt(num-1) # This line returns the number is entered & runs the function again subtracting 1 from the number and adding it to the previous each time. \n",
        "\n",
        "print(sumInt(4))"
      ],
      "execution_count": null,
      "outputs": []
    }
  ]
}