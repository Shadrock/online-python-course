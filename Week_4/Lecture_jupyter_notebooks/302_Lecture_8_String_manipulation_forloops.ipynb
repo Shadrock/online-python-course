{
  "nbformat": 4,
  "nbformat_minor": 0,
  "metadata": {
    "colab": {
      "name": "302_Lecture_8_String_manipulation_forloops.ipynb",
      "provenance": [],
      "collapsed_sections": [
        "vsYxqW3zGs36",
        "rcl0bgkpHGzE",
        "1iRzk1TlJciz",
        "JmzGhQnMLNrq",
        "E_VVueKbN60X",
        "0CwyW4mSPqO7"
      ],
      "authorship_tag": "ABX9TyPYjGocoUwLkMVX+SQRGKAN",
      "include_colab_link": true
    },
    "kernelspec": {
      "name": "python3",
      "display_name": "Python 3"
    }
  },
  "cells": [
    {
      "cell_type": "markdown",
      "metadata": {
        "id": "view-in-github",
        "colab_type": "text"
      },
      "source": [
        "<a href=\"https://colab.research.google.com/github/Shadrock/online-python-course/blob/master/Week_4/Lecture_jupyter_notebooks/302_Lecture_8_String_manipulation_forloops.ipynb\" target=\"_parent\"><img src=\"https://colab.research.google.com/assets/colab-badge.svg\" alt=\"Open In Colab\"/></a>"
      ]
    },
    {
      "cell_type": "markdown",
      "metadata": {
        "id": "vsYxqW3zGs36",
        "colab_type": "text"
      },
      "source": [
        "# Revisiting Values & Types"
      ]
    },
    {
      "cell_type": "code",
      "metadata": {
        "id": "CNh6KnwPGpF3",
        "colab_type": "code",
        "colab": {}
      },
      "source": [
        "type(4)"
      ],
      "execution_count": null,
      "outputs": []
    },
    {
      "cell_type": "code",
      "metadata": {
        "id": "37dalYdIG6xY",
        "colab_type": "code",
        "colab": {}
      },
      "source": [
        "type(3.14159)"
      ],
      "execution_count": null,
      "outputs": []
    },
    {
      "cell_type": "code",
      "metadata": {
        "id": "_Yn-3_vDG_bD",
        "colab_type": "code",
        "colab": {}
      },
      "source": [
        "type(\"LOOK OUT FOR THE BADGER.\")"
      ],
      "execution_count": null,
      "outputs": []
    },
    {
      "cell_type": "markdown",
      "metadata": {
        "id": "rcl0bgkpHGzE",
        "colab_type": "text"
      },
      "source": [
        "#Length Function; Indexes; and Slices"
      ]
    },
    {
      "cell_type": "code",
      "metadata": {
        "id": "ccqRnQPZHDbv",
        "colab_type": "code",
        "colab": {}
      },
      "source": [
        "fruit = \"apple\"\n",
        "len(fruit) # What's the output? "
      ],
      "execution_count": null,
      "outputs": []
    },
    {
      "cell_type": "markdown",
      "metadata": {
        "id": "WIjxtNO_HQpl",
        "colab_type": "text"
      },
      "source": [
        "We can manipulate strings in all kinds of ways. You may only want to the first or last part of a set of coordinates for example. "
      ]
    },
    {
      "cell_type": "code",
      "metadata": {
        "id": "KkgBKpqDHNM-",
        "colab_type": "code",
        "colab": {}
      },
      "source": [
        "length = len(fruit)\n",
        "last = fruit[length-1]\n",
        "print(last) # What's the output? "
      ],
      "execution_count": null,
      "outputs": []
    },
    {
      "cell_type": "code",
      "metadata": {
        "id": "7xWHXDOhLJE-",
        "colab_type": "code",
        "colab": {}
      },
      "source": [
        "fruit = \"mandarin\"\n",
        "print(fruit[-1])"
      ],
      "execution_count": null,
      "outputs": []
    },
    {
      "cell_type": "markdown",
      "metadata": {
        "id": "yMCPDFImH3sX",
        "colab_type": "text"
      },
      "source": [
        "Python counts the \"spaces\" using an index. A *slice* is a segment of a string, which we get with the operator `[x:y]` where `x` and `y` define the start and end points of the slice. Be careful: using the same index point for start and end, such as `[3:3]` will result in an \"empty string\" with a length of zero. "
      ]
    },
    {
      "cell_type": "code",
      "metadata": {
        "id": "VafLmPtBH3bl",
        "colab_type": "code",
        "colab": {}
      },
      "source": [
        "greeting = \"hello\"\n",
        "letter = greeting[:3]\n",
        "print(letter) # What's the output? "
      ],
      "execution_count": null,
      "outputs": []
    },
    {
      "cell_type": "markdown",
      "metadata": {
        "id": "cp3NcrinIxUI",
        "colab_type": "text"
      },
      "source": [
        "If you omit the first index (before the colon) the slice starts at the beginning of the string or a the zero place. And if you omit the second index (after the colon) the slice goes to the end of the string. "
      ]
    },
    {
      "cell_type": "code",
      "metadata": {
        "id": "CHfBQ274IxC6",
        "colab_type": "code",
        "colab": {}
      },
      "source": [
        "greeting2 = \"Bonjour\"\n",
        "lettre = greeting2[3:]\n",
        "print(lettre) # What's the output? "
      ],
      "execution_count": null,
      "outputs": []
    },
    {
      "cell_type": "markdown",
      "metadata": {
        "id": "1iRzk1TlJciz",
        "colab_type": "text"
      },
      "source": [
        "# Traversal using a `while` loop\n",
        "Print each letter of a string. Use a while loop to \"traverse\" each character. "
      ]
    },
    {
      "cell_type": "code",
      "metadata": {
        "id": "vzQR-8roJcN5",
        "colab_type": "code",
        "colab": {}
      },
      "source": [
        "fruit = \"banana\"            # Define our variable as a string. \n",
        "index = 0                   # Starting at index 0\n",
        "while index < len(fruit):   # As long as the index is lesser than the length of the string, which is 6\n",
        "  letter = fruit[index]     # when index is equal to the length of the string, the condition is false, and the body of the loop isn't executed. \n",
        "  print(letter)             # print the character in the string at the index point. \n",
        "  index = index + 1         # incrementally move to the next character in the index. "
      ],
      "execution_count": null,
      "outputs": []
    },
    {
      "cell_type": "markdown",
      "metadata": {
        "id": "JmzGhQnMLNrq",
        "colab_type": "text"
      },
      "source": [
        "# `for` loops: more iteration!\n",
        "The general format of a for loop is: "
      ]
    },
    {
      "cell_type": "code",
      "metadata": {
        "id": "zCzTXSJwHl36",
        "colab_type": "code",
        "colab": {}
      },
      "source": [
        "for item in object: # where \"item\" is a variable and \"object\" is the thing you want to run the for loop on. \n",
        "  statements to do stuff # there is where you say what's going to happen in each loop. "
      ],
      "execution_count": null,
      "outputs": []
    },
    {
      "cell_type": "markdown",
      "metadata": {
        "id": "IHHeggk6L5GU",
        "colab_type": "text"
      },
      "source": [
        "Start by adding letters to suffixes. "
      ]
    },
    {
      "cell_type": "code",
      "metadata": {
        "id": "m9lpew9lL25-",
        "colab_type": "code",
        "colab": {}
      },
      "source": [
        "letter = \"LB\"\n",
        "suffix = \"ike\"\n",
        "for character in letter:\n",
        "  print(character + suffix)"
      ],
      "execution_count": null,
      "outputs": []
    },
    {
      "cell_type": "markdown",
      "metadata": {
        "id": "Qbog_x9rMUkE",
        "colab_type": "text"
      },
      "source": [
        "In the example above I've used the variable name \"characters\" because that makes sense when talking about strings and letters... but anything you put in that space will work the same way... it's a bit like when we worked with `bruce`. "
      ]
    },
    {
      "cell_type": "code",
      "metadata": {
        "id": "X5crwvnHML6Y",
        "colab_type": "code",
        "colab": {}
      },
      "source": [
        "letters = \"LMBC\"\n",
        "suffix = \"ake\"\n",
        "for bruce in letters:\n",
        "  print (bruce + suffix)"
      ],
      "execution_count": null,
      "outputs": []
    },
    {
      "cell_type": "markdown",
      "metadata": {
        "id": "Eu2w-RiBNe_c",
        "colab_type": "text"
      },
      "source": [
        "You will often see code that's written, `for i in` or `for x in`..."
      ]
    },
    {
      "cell_type": "markdown",
      "metadata": {
        "id": "quq-bySINotS",
        "colab_type": "text"
      },
      "source": [
        "So what's the difference between using `while` and using a `for` loop? The for loop goes through each item in the object until it's done. The while runs so long as some condition is met. "
      ]
    },
    {
      "cell_type": "markdown",
      "metadata": {
        "id": "E_VVueKbN60X",
        "colab_type": "text"
      },
      "source": [
        "## for loops using `range`\n",
        "In loops, the `range()` function controls how many times the loop repeats. You can pass three arguments into it start, stop, and step. E.g. `range(0, 100, 1) `. \n",
        "\n",
        "*   start states the integer value at which the sequence begins: if this is no included then start begins at zero. \n",
        "*   Stop is the endpoint of the sequence: this item will *not* be included in the sequence. E.g. a stop of 100 will include 99, but not 100. \n",
        "*   step is the integer that is counted up, but not included. \n",
        "\n",
        "Example: "
      ]
    },
    {
      "cell_type": "code",
      "metadata": {
        "id": "2VS2CmhPM7RJ",
        "colab_type": "code",
        "colab": {}
      },
      "source": [
        "for i in range(0,6):\n",
        "  print(i)            # What's the output and why? "
      ],
      "execution_count": null,
      "outputs": []
    },
    {
      "cell_type": "markdown",
      "metadata": {
        "id": "RXWhtNr1PG4A",
        "colab_type": "text"
      },
      "source": [
        "What if I replace `i` with \"jelly?\"\n"
      ]
    },
    {
      "cell_type": "code",
      "metadata": {
        "id": "2mJRESIKO2vm",
        "colab_type": "code",
        "colab": {}
      },
      "source": [
        "for jelly in range(1,9):\n",
        "  print(jelly)"
      ],
      "execution_count": null,
      "outputs": []
    },
    {
      "cell_type": "markdown",
      "metadata": {
        "id": "0CwyW4mSPqO7",
        "colab_type": "text"
      },
      "source": [
        "# String Comparison"
      ]
    },
    {
      "cell_type": "code",
      "metadata": {
        "id": "yssKpHJyPP-p",
        "colab_type": "code",
        "colab": {}
      },
      "source": [
        "str1 = \"Mary\"\n",
        "str2 = \"mac\"\n",
        "print(str1 < str2)  # What's the output? What if we changed \"Mac\" to \"mac\""
      ],
      "execution_count": null,
      "outputs": []
    },
    {
      "cell_type": "markdown",
      "metadata": {
        "id": "ZX2bAFhTQDnL",
        "colab_type": "text"
      },
      "source": [
        "Given this can make such a big difference: it's important that we standardize our data. Here, we can do this by invoking the `.lower()` or `.upper()` methods. "
      ]
    },
    {
      "cell_type": "code",
      "metadata": {
        "id": "ff_28cROP1dx",
        "colab_type": "code",
        "colab": {}
      },
      "source": [
        "str3 = \"Cat\"\n",
        "str4 = \"hat\"\n",
        "print(str3.lower() < str4.lower())"
      ],
      "execution_count": null,
      "outputs": []
    },
    {
      "cell_type": "code",
      "metadata": {
        "id": "EcvbefVHUEcf",
        "colab_type": "code",
        "colab": {}
      },
      "source": [
        "word = \"BawerBaeqberQ\"\n",
        "print(word.upper())"
      ],
      "execution_count": null,
      "outputs": []
    },
    {
      "cell_type": "markdown",
      "metadata": {
        "id": "rmNrb-XMQmy0",
        "colab_type": "text"
      },
      "source": [
        "strings are mutable! Then can be changed! Turn \"Hello world!\" into \"Jello World!\""
      ]
    },
    {
      "cell_type": "code",
      "metadata": {
        "id": "Xe9utVrHRGcI",
        "colab_type": "code",
        "colab": {}
      },
      "source": [
        "greeting4 = \"hello world\"\n",
        "greeting4[0] = \"J\""
      ],
      "execution_count": null,
      "outputs": []
    },
    {
      "cell_type": "markdown",
      "metadata": {
        "id": "GcgH03o1RG0u",
        "colab_type": "text"
      },
      "source": [
        "What's the output? \n",
        "\n",
        "\n",
        "The fix is making a new string! "
      ]
    },
    {
      "cell_type": "code",
      "metadata": {
        "id": "rdonlzYfQV-M",
        "colab_type": "code",
        "colab": {}
      },
      "source": [
        "greeting3 = \"Hello World!\"\n",
        "newgreeting = \"J\" + greeting3[1:]\n",
        "print(newgreeting)"
      ],
      "execution_count": null,
      "outputs": []
    },
    {
      "cell_type": "markdown",
      "metadata": {
        "id": "iGEd3R94RlxN",
        "colab_type": "text"
      },
      "source": [
        "Let's use a for loop to count all the time the letter z appears in the word Zanzibar. "
      ]
    },
    {
      "cell_type": "markdown",
      "metadata": {
        "id": "9uPNBRn2SxoS",
        "colab_type": "text"
      },
      "source": [
        ""
      ]
    },
    {
      "cell_type": "code",
      "metadata": {
        "id": "IAR84M0wQzS6",
        "colab_type": "code",
        "colab": {}
      },
      "source": [
        "word = \"Zanzibar\"\n",
        "count = 0\n",
        "for letter in word.lower():   # for each letter in the string\n",
        "  if letter == \"z\":     # if the letter equals 'z'\n",
        "    count = count + 1   # the counter is incrementally advanced. \n",
        "\n",
        "print(count)            # print the total count"
      ],
      "execution_count": null,
      "outputs": []
    },
    {
      "cell_type": "markdown",
      "metadata": {
        "id": "iADOYsI5SAuo",
        "colab_type": "text"
      },
      "source": [
        "What's the result? What's the fix? \n",
        "Hint... invoke ______ on ______. "
      ]
    },
    {
      "cell_type": "code",
      "metadata": {
        "id": "822NDFHYR4Oh",
        "colab_type": "code",
        "colab": {}
      },
      "source": [
        "\"\"\"\n",
        "This function takes two words (strings) as inputs; it compares the characters at each index and \n",
        "returns True if one of the words is a reverse of the other. \n",
        "\"\"\"\n",
        "def is_reverse (word1, word2):      # Function takes two arguments, which are words. \n",
        "  if len(word1) != len(word2):      # If the length of the words are not equal... \n",
        "    return False                    # return false (since the words are automatically different)\n",
        "  i = 0                             # start one of our counters at index zero\n",
        "  j = len(word2) -1                 # start another counter at the last index of the second word\n",
        "  while j > -1:                     # j traverses word2 backwards\n",
        "    print(i,j)                      # We don't need this but it's nice to see the indices compared. \n",
        "    if word1[i] != word2[j]:        # if the indexes don't match\n",
        "      return False                  # return false\n",
        "    i = i + 1                       # first counter incrementally moves forward by one. \n",
        "    j = j - 1                       # second counter decrementally moves backwards by one. \n",
        "  return True                       # If we get through the whole loop, and each letter matches, return true! \n",
        "\n",
        "is_reverse(\"stop\", \"pots\")                       "
      ],
      "execution_count": null,
      "outputs": []
    },
    {
      "cell_type": "code",
      "metadata": {
        "id": "0S6ELJE5UZXn",
        "colab_type": "code",
        "colab": {}
      },
      "source": [
        ""
      ],
      "execution_count": null,
      "outputs": []
    }
  ]
}