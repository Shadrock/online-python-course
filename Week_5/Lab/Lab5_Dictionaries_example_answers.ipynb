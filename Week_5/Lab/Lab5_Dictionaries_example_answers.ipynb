{
  "nbformat": 4,
  "nbformat_minor": 0,
  "metadata": {
    "kernelspec": {
      "display_name": "Python 3",
      "language": "python",
      "name": "python3"
    },
    "language_info": {
      "codemirror_mode": {
        "name": "ipython",
        "version": 3
      },
      "file_extension": ".py",
      "mimetype": "text/x-python",
      "name": "python",
      "nbconvert_exporter": "python",
      "pygments_lexer": "ipython3",
      "version": "3.6.6"
    },
    "colab": {
      "name": "Lab5_Dictionaries_example_answers.ipynb",
      "provenance": [],
      "include_colab_link": true
    }
  },
  "cells": [
    {
      "cell_type": "markdown",
      "metadata": {
        "id": "view-in-github",
        "colab_type": "text"
      },
      "source": [
        "<a href=\"https://colab.research.google.com/github/Shadrock/online-python-course/blob/master/Week_5/Lab/Lab5_Dictionaries_example_answers.ipynb\" target=\"_parent\"><img src=\"https://colab.research.google.com/assets/colab-badge.svg\" alt=\"Open In Colab\"/></a>"
      ]
    },
    {
      "cell_type": "markdown",
      "metadata": {
        "id": "rqgEodTKxucz",
        "colab_type": "text"
      },
      "source": [
        "# **Lab 5: Refugee Stats with Dictionaries** \n",
        "### Concepts from Chapter 11: Dictionaries"
      ]
    },
    {
      "cell_type": "markdown",
      "metadata": {
        "id": "aSnHUqdLxuc0",
        "colab_type": "text"
      },
      "source": [
        "#### Points: \n",
        "\n",
        "#### Due Date: \n",
        "\n",
        "#### Submit via: \n",
        "----------"
      ]
    },
    {
      "cell_type": "markdown",
      "metadata": {
        "id": "ISubE6i7xuc1",
        "colab_type": "text"
      },
      "source": [
        "1. Review the data table located under the Refugee camps by country and population section: https://en.wikipedia.org/wiki/Refugee_camp\n",
        "\n",
        "2. Create a dictionary with 5 key-value pairs consisting of a country name and an integer that represents the number of refugees in refugee camps in the selected country, for a year of your choice. The dictionary should represent country names as keys and the population as values.\n",
        "\n",
        "3. Define a function that will print out just the countries' names, by looping through the keys of your dictionary.\n",
        "\n",
        "4. Define a function that will print out just the populations, by looping through the values of your dictionary.\n",
        "\n",
        "5. Print out a series of statements telling how many refugees are in each country: \"CountryX has 1234567 refugees.\" \n",
        "\n",
        "Revise your output, if necessary. Make sure there is an introductory sentence or comment describing the output for each loop you write."
      ]
    },
    {
      "cell_type": "code",
      "metadata": {
        "id": "8jVRnG0sxuc1",
        "colab_type": "code",
        "colab": {}
      },
      "source": [
        "refugee_camp_pop = {'Kenya': 433163, 'Uganda': 163617, 'India':65057, 'Algeria': 90000, 'Jordan': 84773} # Data pulled for 2014"
      ],
      "execution_count": null,
      "outputs": []
    },
    {
      "cell_type": "code",
      "metadata": {
        "id": "brocpFgrxuc5",
        "colab_type": "code",
        "colab": {},
        "outputId": "be8505e6-89e7-4465-9ed8-0479519d743e"
      },
      "source": [
        "def printKeys(dicInput):\n",
        "    for key in dicInput.keys():\n",
        "        print key\n",
        "printKeys(refugee_camp_pop)"
      ],
      "execution_count": null,
      "outputs": [
        {
          "output_type": "stream",
          "text": [
            "Kenya\n",
            "Jordan\n",
            "India\n",
            "Algeria\n",
            "Uganda\n"
          ],
          "name": "stdout"
        }
      ]
    },
    {
      "cell_type": "code",
      "metadata": {
        "id": "jasGbPBixuc8",
        "colab_type": "code",
        "colab": {},
        "outputId": "faa19196-0fce-4dad-eefe-d67f652eda87"
      },
      "source": [
        "def printValues(dicInput):\n",
        "    for value in dicInput.values():\n",
        "        print value\n",
        "\n",
        "printValues(refugee_camp_pop)"
      ],
      "execution_count": null,
      "outputs": [
        {
          "output_type": "stream",
          "text": [
            "433163\n",
            "84773\n",
            "65057\n",
            "90000\n",
            "163617\n"
          ],
          "name": "stdout"
        }
      ]
    },
    {
      "cell_type": "code",
      "metadata": {
        "id": "OEUSVyqgxuc_",
        "colab_type": "code",
        "colab": {},
        "outputId": "ffc36c3f-c71b-4317-b085-d685b0d8f53e"
      },
      "source": [
        "def print_sentence(dictionary_input):\n",
        "    for k,v in dictionary_input():\n",
        "        print k, 'has', v, 'refugees.'\n",
        "        \n",
        "print_sentence(refugee_camp_pop.items)"
      ],
      "execution_count": null,
      "outputs": [
        {
          "output_type": "stream",
          "text": [
            "Kenya has 433163 refugees.\n",
            "Jordan has 84773 refugees.\n",
            "India has 65057 refugees.\n",
            "Algeria has 90000 refugees.\n",
            "Uganda has 163617 refugees.\n"
          ],
          "name": "stdout"
        }
      ]
    }
  ]
}