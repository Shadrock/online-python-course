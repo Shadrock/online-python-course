{
  "nbformat": 4,
  "nbformat_minor": 0,
  "metadata": {
    "kernelspec": {
      "display_name": "Python 3",
      "language": "python",
      "name": "python3"
    },
    "language_info": {
      "codemirror_mode": {
        "name": "ipython",
        "version": 3
      },
      "file_extension": ".py",
      "mimetype": "text/x-python",
      "name": "python",
      "nbconvert_exporter": "python",
      "pygments_lexer": "ipython3",
      "version": "3.6.6"
    },
    "colab": {
      "name": "Lab2_if_elif_else_example_answers.ipynb",
      "provenance": [],
      "collapsed_sections": [
        "tcu_SP0eXVBL",
        "2smdbnZjHXYl",
        "Pe2p6JUNHdbX"
      ],
      "include_colab_link": true
    }
  },
  "cells": [
    {
      "cell_type": "markdown",
      "metadata": {
        "id": "view-in-github",
        "colab_type": "text"
      },
      "source": [
        "<a href=\"https://colab.research.google.com/github/Shadrock/online-python-course/blob/master/Week_2/Lab/Lab2_if_elif_else_example_answers.ipynb\" target=\"_parent\"><img src=\"https://colab.research.google.com/assets/colab-badge.svg\" alt=\"Open In Colab\"/></a>"
      ]
    },
    {
      "cell_type": "markdown",
      "metadata": {
        "id": "VA8KglxCXVBF",
        "colab_type": "text"
      },
      "source": [
        "# **Lab 2: Classifying Data with Functions & if/elif/else Statements** "
      ]
    },
    {
      "cell_type": "markdown",
      "metadata": {
        "id": "2BfWR2zcXVBI",
        "colab_type": "text"
      },
      "source": [
        "#### Points:\n",
        "\n",
        "#### Due Date: \n",
        "\n",
        "#### Submit via: \n",
        "----------"
      ]
    },
    {
      "cell_type": "markdown",
      "metadata": {
        "id": "XssHnzW0XVBJ",
        "colab_type": "text"
      },
      "source": [
        "## Script 1 - Classify Data\n",
        "Write a function, called feelTemp, that converts a given temperature (in Fahrenheit) into four categorical levels, hot, warm, cool, and cold using the following criteria: \n",
        "\n",
        "> - if the temperature is 100 or above, the functions returns “It is hot.”;\n",
        "- if the temperature is between 70 and 100, the function returns “It is warm.”;\n",
        "- if the temperature is between 32 and 70, the functions returns “It is cool.”;\n",
        "- if the temperature is below 32, it returns “It is cold.”\n",
        "- The function feelTemp will take one value for the temperature, and then returns a category as a string.\n",
        "\n",
        "When running the program, the user is prompted to input a temperature, then the program print one of the four categorical levels (hot, warm, cool, and cold) that the given temperature falls into.\n",
        "\n",
        "Use if/elif/else structure to classify the input numerical values into one of the four categories; use input to get an input from the keyboard. Be sure to include comments and documentation in your script to tell me what it’s doing!\n",
        "\n",
        "----------"
      ]
    },
    {
      "cell_type": "markdown",
      "metadata": {
        "id": "tcu_SP0eXVBL",
        "colab_type": "text"
      },
      "source": [
        "### Script 1 - Possible Solutions"
      ]
    },
    {
      "cell_type": "code",
      "metadata": {
        "id": "hcxSiScxXVBM",
        "colab_type": "code",
        "colab": {}
      },
      "source": [
        "# prompt user for temprature\n",
        "temp=int(input(\"Enter temperature in Fahrenheit: \"))\n",
        "\n",
        "def feelTemp(x):\n",
        "    if x>=100: # Temperature over 100 is hot\n",
        "     print(\"It is hot.\")  \n",
        "    elif x>=70 and x<100: # Temperatures between 70 and 100 is warm \n",
        "     print(\"It is warm.\") \n",
        "    elif x>=32 and x<70: # Temperatures between 32 and 70 is cool\n",
        "     print(\"it is cool.\")\n",
        "    else: # All remaining temperatures are cold\n",
        "         print(\"It is cold!\")\n",
        " \n",
        "# call function\n",
        "feelTemp(temp)"
      ],
      "execution_count": null,
      "outputs": []
    },
    {
      "cell_type": "code",
      "metadata": {
        "id": "rbQynrSRXVBQ",
        "colab_type": "code",
        "colab": {}
      },
      "source": [
        "#prompt user for temprature \n",
        "temp=int(input (\"Insert temperture value in Fahrenheit here:\"))\n",
        "\n",
        "#assign temperature category to input\n",
        "def feelTemp (temp):\n",
        "  if temp>=100:\n",
        "    return \"It is hot.\"\n",
        "  elif temp>=70 and x<100:\n",
        "    return \"It is warm.\"\n",
        "  elif temp>=32 and temp<70:\n",
        "   return \"It is cool.\"\n",
        "  else:\n",
        "    return \"It is cold.\"\n",
        "\n",
        "#print answer\n",
        "print(feelTemp(temp))"
      ],
      "execution_count": null,
      "outputs": []
    },
    {
      "cell_type": "markdown",
      "metadata": {
        "id": "GJHhJ8DC9li5",
        "colab_type": "text"
      },
      "source": [
        "## Script 2 - create your first chatbot!\n",
        "\n",
        "The internet is full of amazing \"intelligent\" [chatbots](https://en.wikipedia.org/wiki/Chatbot) that use things like neural networks to train their chatbots to talk like a certain person: many of these chatbot applications are written in Python. Simple chatbots follow [decision trees](https://www.dummies.com/programming/python/using-nested-decision-statements-python/) by looking for specific keywords using things like `if, elif, else` statements. Some chatbots may use `input()` to capture input from a user, including numbers.\n",
        "\n",
        "Write a chat bot that *either* uses `if, elif, else` to respond back to the user *or* collects a number from the user then employs [type conversion](https://www.digitalocean.com/community/tutorials/how-to-convert-data-types-in-python-3) to change the number (remember that `input()` only returns string values) and perform some sort of computation. \n",
        "\n",
        "If you're feeling really motivated, you can write a script that combines the two. A good first step is to write out a \"script\" for the user and the program. For example: \n",
        "\n",
        "**Sample script for `input` chatbot**\n",
        "- Computer: \"Hi, what's your name?\"\n",
        "- User: \"Pat\"\n",
        "- Computer: \"Hi Pat. How old are you?\"\n",
        "- User: \"20\"\n",
        "- Computer: \"Pat, in ten years you'll be 30.\"\n",
        "\n",
        "**Sample script for `if, else, elif` chatbot**\n",
        "- If the function is run using the name `Shadrock` as an argument the computer will display: \"Hey, Shadrock!\"\n",
        "- If the function is run using the name `Shashank` as an argument the computer will display: \"Hi, Shashank!\"\n",
        "- ... or `else` if the function is run using another `name` the computer will display \"Hi, `name`. I don't believe we've met yet.\"\n",
        "\n",
        "Once you know what you want the inputs and outputs of your code to be, based on the script, you can start. Happy coding!"
      ]
    },
    {
      "cell_type": "markdown",
      "metadata": {
        "id": "2smdbnZjHXYl",
        "colab_type": "text"
      },
      "source": [
        "### Script 2 - Possible solution using input and type conversion\n",
        "\n"
      ]
    },
    {
      "cell_type": "code",
      "metadata": {
        "id": "rdcxCHyGB_4A",
        "colab_type": "code",
        "colab": {}
      },
      "source": [
        "# This line gathers user input\n",
        "username = input(\"Hi, What's your name?\")\n",
        "\n",
        "# This function print a greeting, takes more user input and converts it. \n",
        "def hi(name):\n",
        "  print(\"Hi, \", name, )\n",
        "  age = input(\"How old are you?\")\n",
        "  age_num = int(age)\n",
        "  print (\"In 10 years, you'll be \", age_num + 10)\n",
        "\n",
        "# To call the function, run this line of code\n",
        "hi(username)"
      ],
      "execution_count": null,
      "outputs": []
    },
    {
      "cell_type": "markdown",
      "metadata": {
        "id": "Pe2p6JUNHdbX",
        "colab_type": "text"
      },
      "source": [
        "### Script 2 - Possible solution using if, else, elif\n"
      ]
    },
    {
      "cell_type": "code",
      "metadata": {
        "id": "XA55lG9aHjQd",
        "colab_type": "code",
        "colab": {}
      },
      "source": [
        "# This function takes a string value as an input and outputs a greeting.\n",
        "def hello(name):\n",
        "  if name == \"Shadrock\":\n",
        "    print(\"Hey, Shadrock!\")\n",
        "  elif name == \"Shashank\":\n",
        "    print(\"Hi, Shashank!\")\n",
        "  else:\n",
        "    print(\"Hi,\", name, \". I don't believe we've met yet\")\n",
        "\n",
        "# Call the function using a string value / name. \n",
        "hello(\"Jim\")"
      ],
      "execution_count": null,
      "outputs": []
    }
  ]
}