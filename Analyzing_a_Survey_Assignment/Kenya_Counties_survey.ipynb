{
  "nbformat": 4,
  "nbformat_minor": 0,
  "metadata": {
    "colab": {
      "name": "Kenya_Counties_survey.ipynb",
      "provenance": [],
      "collapsed_sections": [
        "0mg62wD5ZnR1",
        "pZYPuTfoZx9h",
        "NuQxgKfrE4WR",
        "FLlvUJ0afP6k",
        "Ia7onLbzgkpI",
        "Ffuq0L77EdMf",
        "5kw919ItFDtP",
        "-IA6xwdavJ4Y",
        "Kt5YjsDnETar",
        "6OMvPHo9xEhY",
        "DJTAnWQKzAOJ",
        "wYJXBk8N0DYo",
        "6P3tTR-k2BC2",
        "xJDwb-fU2scL",
        "nOz7NvS19kVZ",
        "wEzZAVIODK7D"
      ],
      "authorship_tag": "ABX9TyN6WKIoqM2kDaBmyBN34yNJ",
      "include_colab_link": true
    },
    "kernelspec": {
      "name": "python3",
      "display_name": "Python 3"
    }
  },
  "cells": [
    {
      "cell_type": "markdown",
      "metadata": {
        "id": "view-in-github",
        "colab_type": "text"
      },
      "source": [
        "<a href=\"https://colab.research.google.com/github/Shadrock/online-python-course/blob/master/Analyzing_a_Survey_Assignment/Kenya_Counties_survey.ipynb\" target=\"_parent\"><img src=\"https://colab.research.google.com/assets/colab-badge.svg\" alt=\"Open In Colab\"/></a>"
      ]
    },
    {
      "cell_type": "markdown",
      "metadata": {
        "id": "v9aUJkVoWwNm",
        "colab_type": "text"
      },
      "source": [
        "# **Analyzing a Survey**\n",
        "\n",
        "**Context:** You work in a very large humanitarian organizations with a large number of programs spread throughout [Kenya's counties](https://en.wikipedia.org/wiki/Counties_of_Kenya#:~:text=As%20of%202013%20general%20elections,legally%20recognised%20Districts%20of%20Kenya.). Due to the a significant drop in funding from donors who have decided that funding humanitarian work is no longer a priority, the head of your organization has decided to start closing down programs and shift resources to the counties where: \n",
        "1. Ongoing programs are deemed critical and\n",
        "2. there remain significant resources in terms of local funding, volunteer support, etc. \n",
        "\n",
        "In an effort to be completely transparent, the head of your organization has asked each staff member working on programs to consider these paramaters and vote for the *one* county in which operations should continue. Each person gets one vote. \n",
        "\n",
        "As the GIS analyst for this organiztaion, you're tasked with developing some different ways to explore and communicate the results. \n",
        "\n",
        "This doesn't sound like a very complicated job, but you go to a few planning meetings anyways and are *assured* that the survey is being structred well and that it will be very easy for you to manipulate. Everyone seems very confident that they understand \"data structure\", \"file format\", and \"transcription errors\" (if you don't know the [last one](https://en.wikipedia.org/wiki/Transcription_error), you should look it up).\n",
        "\n",
        "Of course, none of this happens as planned and when you do receive the final survey it is in the form of a `.txt` file that is formatted as a name, a hyphen, and a prefered county to work in. Example: `Shadrock Roberts - Nairobi County`. \n",
        "\n",
        "When asked how the survey was collected, the response is, \"somebody wrote it up in Word. Jeez, can't you work with that? I thought you were supposed to be \"technical.\"\"\n",
        "\n",
        "Note: this is based on not just one, but hundreds of true stories where something just like this happened. \n",
        "\n",
        "Oh well. Looks like you're going to need some Python. "
      ]
    },
    {
      "cell_type": "markdown",
      "metadata": {
        "id": "gb24XH-vZjfZ",
        "colab_type": "text"
      },
      "source": [
        "## Upload the Survey\n",
        ">It was important to right-click on the link and select \"save as.\" When I opened the `html` and copied/pasted the resulting file kept throwing Unicode errors. I've created a new script by the original one came from This script comes from http://opentechschool.github.io/python-data-intro/core/survey.html"
      ]
    },
    {
      "cell_type": "code",
      "metadata": {
        "id": "r4_GvHtLXRl0",
        "colab_type": "code",
        "colab": {}
      },
      "source": [
        "# Upload local script to Colab - running this creates a \"choose file\" button to upload local files. \n",
        "from google.colab import files\n",
        "uploaded = files.upload()"
      ],
      "execution_count": null,
      "outputs": []
    },
    {
      "cell_type": "markdown",
      "metadata": {
        "id": "44Ib5KnQl8_W",
        "colab_type": "text"
      },
      "source": [
        "For more examples of ways to upload surveys to Colab see [this blogpost](https://towardsdatascience.com/3-ways-to-load-csv-files-into-colab-7c14fcbdcb92). If you are working locally, it's important to make sure that you are working in the right directory. For more information on opening and reading files locally see [this web page from Stanford University](http://www.compciv.org/guides/python/fileio/open-and-read-text-files/#how-to-fix-a-filenotfounderror). [Google's documentation for Colab](https://colab.research.google.com/notebooks/io.ipynb) also has a lot of good information about working with files, including how to use Google drive or Google sheets."
      ]
    },
    {
      "cell_type": "markdown",
      "metadata": {
        "id": "0mg62wD5ZnR1",
        "colab_type": "text"
      },
      "source": [
        "## Reading the Survey\n",
        "This section of code opens the files, processes the file, and outputs the different parts of the string into a sentence for each line in the `.txt` file. This code uses the [`split()` method](https://docs.python.org/3.3/library/stdtypes.html#str.split) to split each line in the file on the hyphen. Before running the whole code block, experiment with the split method. \n",
        "\n",
        "What do you think will happen if you run `\"1,2,3,4,5\".split(\",\")` Or what about `\"Jin Li - Nairobi County\".split(\"-\")` Try it and see!"
      ]
    },
    {
      "cell_type": "code",
      "metadata": {
        "id": "mzBP8ZEqbz3z",
        "colab_type": "code",
        "colab": {}
      },
      "source": [
        "# Experiment with split method here. \n"
      ],
      "execution_count": null,
      "outputs": []
    },
    {
      "cell_type": "markdown",
      "metadata": {
        "id": "A4PBjGm3b3l6",
        "colab_type": "text"
      },
      "source": [
        "Now use `split()` to help process your code. "
      ]
    },
    {
      "cell_type": "code",
      "metadata": {
        "id": "pyuxb1_iWs5U",
        "colab_type": "code",
        "colab": {}
      },
      "source": [
        "with open(\"KEcounty_votes.txt\") as file:\n",
        "  for line in file:\n",
        "    line = line.strip()                 # strips the newline from the end\n",
        "    parts = line.split(\" - \")           # Splits the string on the hyphen and outputs a list. E.g. ['field1', 'field2']\n",
        "    name = parts[0]                     # These two lines store each field in a named variable. Since name and vote were the files in the file. The 0 and 1 values are the indexes!\n",
        "    vote = parts[1]\n",
        "    print(name + \" voted for \" + vote)  # This concatenates the strings to form a sentence. "
      ],
      "execution_count": null,
      "outputs": []
    },
    {
      "cell_type": "markdown",
      "metadata": {
        "id": "g8oWmXR-cJo4",
        "colab_type": "text"
      },
      "source": [
        "In the code above, note that we've created a variable called `parts` to store the output of the split. After this line runs, parts has the value `['Jin Li', 'Nairobi County']`. In other words, the output is a list called `parts` that contains two elements. We store the name in a variable called `name` that pulls the first element (at the `0`) index. Then we store the second element (at the `1` index) using the variable name `vote`."
      ]
    },
    {
      "cell_type": "markdown",
      "metadata": {
        "id": "pZYPuTfoZx9h",
        "colab_type": "text"
      },
      "source": [
        "# **Inspecting Votes**\n",
        "Now write code prints only the names of people who voted for Nairobi County. You may find `if vote  == \"Nairobi County\"` helpful. "
      ]
    },
    {
      "cell_type": "markdown",
      "metadata": {
        "id": "NuQxgKfrE4WR",
        "colab_type": "text"
      },
      "source": [
        "### Solution\n",
        "One possiblilty. "
      ]
    },
    {
      "cell_type": "code",
      "metadata": {
        "id": "pH7mz83oaElL",
        "colab_type": "code",
        "colab": {}
      },
      "source": [
        "with open(\"KEcounty_votes.txt\") as file:\n",
        "  for line in file:\n",
        "    line = line.strip()                 # strips the newline from the end\n",
        "    parts = line.split(\" - \")           # Splits the string on the hyphen and outputs a list. E.g. ['field1', 'field2']\n",
        "    name, vote = parts                  #  “multiple assignment” assigns each variable to the corresponding item in the list.\n",
        "    if vote  == \"Nairobi County\":\n",
        "      print(name + \" prefers Nairobi County!\")  # This concatenates the strings to form a sentence. "
      ],
      "execution_count": null,
      "outputs": []
    },
    {
      "cell_type": "markdown",
      "metadata": {
        "id": "ep4TdETfeB0i",
        "colab_type": "text"
      },
      "source": [
        "The code splitting the line has become even shorter here. Previously we assigned each element of parts separately (e.g. `name = parts[0]`) but here we assign them together using a technique called “multiple assignment”. The line `name, vote = parts` means to assign each variable to the corresponding item in the list. Also, note that we use the \"equal\", or `==` to only print the results containing `Nairobi County`."
      ]
    },
    {
      "cell_type": "markdown",
      "metadata": {
        "id": "FLlvUJ0afP6k",
        "colab_type": "text"
      },
      "source": [
        "## More about Multiple Assignment\n",
        "Notice that multiple assignment only works when the number of elements being assigned on the left hand side of the “ = “ matches the number on the right. Try running the following code:"
      ]
    },
    {
      "cell_type": "code",
      "metadata": {
        "id": "3BQDC19veu0K",
        "colab_type": "code",
        "colab": {}
      },
      "source": [
        "a, b, c = [1, 2, 3]\n",
        "print(b)\n",
        "print(a)"
      ],
      "execution_count": null,
      "outputs": []
    },
    {
      "cell_type": "code",
      "metadata": {
        "id": "L0XuAYd1fnJz",
        "colab_type": "code",
        "colab": {}
      },
      "source": [
        "Nairobi, Boston, London = \"NBO,BOS,LON\".split(\",\")\n",
        "print(Boston)"
      ],
      "execution_count": null,
      "outputs": []
    },
    {
      "cell_type": "markdown",
      "metadata": {
        "id": "moWlSwn-f4wA",
        "colab_type": "text"
      },
      "source": [
        "Now what about `Nairobi, Boston, London = \"NBO,BOS,LON,LAX\".split(\",\")\n",
        "print(Boston)`?"
      ]
    },
    {
      "cell_type": "code",
      "metadata": {
        "id": "C5rTSlvXf-gs",
        "colab_type": "code",
        "colab": {}
      },
      "source": [
        "# Run your code here.\n"
      ],
      "execution_count": null,
      "outputs": []
    },
    {
      "cell_type": "markdown",
      "metadata": {
        "id": "Ia7onLbzgkpI",
        "colab_type": "text"
      },
      "source": [
        "# **Counting Votes**\n",
        "Write a program that counts the total number of votes for Nairobi County. Use your previous code as a base. You’ll need a variable to hold the number of votes recorded for Nairobi County, which you increment (i.e add one to) as part of the loop."
      ]
    },
    {
      "cell_type": "markdown",
      "metadata": {
        "id": "Ffuq0L77EdMf",
        "colab_type": "text"
      },
      "source": [
        "### Solution\n",
        "Here's one possible solution. "
      ]
    },
    {
      "cell_type": "code",
      "metadata": {
        "id": "QD0KPCrVg167",
        "colab_type": "code",
        "colab": {
          "base_uri": "https://localhost:8080/",
          "height": 51
        },
        "outputId": "5c9db563-1062-40c6-9897-d0fb28eba0bf"
      },
      "source": [
        "print(\"Counting votes for Nairobi County...\")\n",
        "count = 0\n",
        "with open(\"KEcounty_votes.txt\") as file:\n",
        "  for line in file:\n",
        "    line = line.strip()\n",
        "    name, vote = line.split(\" - \")\n",
        "    if vote == \"Nairobi County\":\n",
        "      count = count + 1\n",
        "print(count)"
      ],
      "execution_count": null,
      "outputs": [
        {
          "output_type": "stream",
          "text": [
            "Counting votes for Nairobi County...\n",
            "60\n"
          ],
          "name": "stdout"
        }
      ]
    },
    {
      "cell_type": "markdown",
      "metadata": {
        "id": "5vzM6Xxmt-8b",
        "colab_type": "text"
      },
      "source": [
        "## Making a Generic Function\n",
        "Rewrite the code above as a function definition where you specify an argument with the name of the county you want to count votes for, and the function returns the number of votes for that particular county."
      ]
    },
    {
      "cell_type": "markdown",
      "metadata": {
        "id": "5kw919ItFDtP",
        "colab_type": "text"
      },
      "source": [
        "### Solution\n",
        "Here's one possible solution. "
      ]
    },
    {
      "cell_type": "code",
      "metadata": {
        "id": "RdOtTLVRuOIm",
        "colab_type": "code",
        "colab": {}
      },
      "source": [
        "def count_votes(kecounties):\n",
        "  print(\"Counting votes for \" + kecounties + \"...\")\n",
        "  count = 0\n",
        "  with open(\"KEcounty_votes.txt\") as file:\n",
        "    for line in file:\n",
        "      line = line.strip()\n",
        "      name, vote = line.split(\" - \")\n",
        "      if vote == kecounties:\n",
        "        count = count + 1\n",
        "  return count"
      ],
      "execution_count": null,
      "outputs": []
    },
    {
      "cell_type": "markdown",
      "metadata": {
        "id": "4g59_y28u20s",
        "colab_type": "text"
      },
      "source": [
        "Once you've run your function, you can pass it an argument to get a count. "
      ]
    },
    {
      "cell_type": "code",
      "metadata": {
        "id": "iG9C5iPruqVs",
        "colab_type": "code",
        "colab": {}
      },
      "source": [
        "print(count_votes(\"Nairobi County\"))"
      ],
      "execution_count": null,
      "outputs": []
    },
    {
      "cell_type": "markdown",
      "metadata": {
        "id": "-IA6xwdavJ4Y",
        "colab_type": "text"
      },
      "source": [
        "# **Counting All the Votes**\n",
        "Counting votes for each county is a bit time consuming, you have to know all the names in advance and you have to loop through the file multiple times. How about if you could automatically find all the varieties that were voted for, and count them all in one pass?\n",
        "\n",
        "You’ll need a data structure where you can associate a county name with the number of votes counted for it. A dictionary would be perfect!\n",
        "\n",
        "Imagine a program that can count votes to create a dictionary with contents like this:\n",
        "\n",
        "`\n",
        "{\n",
        "    'Nairobi County': 65,\n",
        "    'Uasin Gishu': 63,\n",
        "    'Turkana': 76,\n",
        "    'Mombasa County': 58,\n",
        "    'Nyeri': 63,\n",
        "    'Kisumu': 72,\n",
        "    'Marsabit': 72,\n",
        "    'West Pokot': 57,\n",
        "    'Elgeyo Marakwet': 56,\n",
        "    'Taita Taveta': 56,\n",
        "    'Homa Bay': 72\n",
        "}\n",
        "`\n",
        "\n",
        "Meaning the key ‘Nairobi County’ is associated with the value of 65 votes, the key ‘Uasin Gishu’ is associated with the value of 63 votes, ‘Turkana’ has 76 votes, etc, etc. Can you create such a program? Start with one of your previous vote-counting programs and try to modify it to count all varieties.\n",
        "\n",
        "Here are two snippets of code you might find useful:\n",
        "\n",
        "Create an empty dictionary for associating county names with vote counts using `counts = {}` and the following code: "
      ]
    },
    {
      "cell_type": "code",
      "metadata": {
        "id": "SdjFU2hSv20K",
        "colab_type": "code",
        "colab": {}
      },
      "source": [
        "if vote not in counts:\n",
        "    # First vote for this variety\n",
        "    counts[vote] = 1\n",
        "else:\n",
        "    # Increment the vote count\n",
        "    counts[vote] = counts[vote] + 1"
      ],
      "execution_count": null,
      "outputs": []
    },
    {
      "cell_type": "markdown",
      "metadata": {
        "id": "fc-Iik2Yv8Q3",
        "colab_type": "text"
      },
      "source": [
        "Remember that for dictionaries `counts[vote]` means \"the value in `counts` which is associated with the key `vote`”. In this case, the key is a string (radish name) and the value is a number (vote count.)"
      ]
    },
    {
      "cell_type": "markdown",
      "metadata": {
        "id": "Kt5YjsDnETar",
        "colab_type": "text"
      },
      "source": [
        "### Solution\n",
        "This is one possible way to solve this. "
      ]
    },
    {
      "cell_type": "code",
      "metadata": {
        "id": "iXW_7UwmwZON",
        "colab_type": "code",
        "colab": {}
      },
      "source": [
        "# Create an empty dictionary for associating county names with vote counts\n",
        "counts = {}\n",
        "\n",
        "# Open and process file\n",
        "with open(\"KEcounty_votes.txt\") as file:\n",
        "  for line in file:\n",
        "    line = line.strip()\n",
        "    name, vote = line.split(\" - \")\n",
        "    if vote not in counts:\n",
        "      # First vote for this county\n",
        "      counts[vote] = 1\n",
        "    else:\n",
        "      # Increment the vote count\n",
        "      counts[vote] = counts[vote] + 1\n",
        "print(counts)"
      ],
      "execution_count": null,
      "outputs": []
    },
    {
      "cell_type": "markdown",
      "metadata": {
        "id": "6OMvPHo9xEhY",
        "colab_type": "text"
      },
      "source": [
        "## Formatting More Readable Output\n",
        "When you run this program the output is pretty hard for a person to read, even though it’s all there. What we want is to print the data in a way which is easy for people to read.\n",
        "\n",
        "Instead of `print(counts)` we could try:"
      ]
    },
    {
      "cell_type": "code",
      "metadata": {
        "id": "O8GPwOavxQo3",
        "colab_type": "code",
        "colab": {}
      },
      "source": [
        "for name in counts:\n",
        "  count = counts[name]\n",
        "  print(name + \": \" + str(count))\n"
      ],
      "execution_count": null,
      "outputs": []
    },
    {
      "cell_type": "markdown",
      "metadata": {
        "id": "nltvfnXdx41o",
        "colab_type": "text"
      },
      "source": [
        "So, how does the output look? It might look a little odd. First, let's understand what the code is doing. \n",
        "\n",
        "The code above prints each vote on its own line. Iterating through a dictionary (ie `for name in counts`) means iterating through the _keys_ (county names), so we still need to look up each _value_ (the vote count) with `count = counts[name]`\n",
        "\n",
        "Why do we use `str(count)` here? Try removing the `str()` call and see what Python tells you! `str()` returns the string equivalent of the number, ie `str(12)` returns `\"12\"`.\n",
        "\n",
        "Python needs to distinguish between strings and numbers for lots of reasons. For example, using numbers `12+1` is 13. Using strings, `\"12\" + \"1\"` concatenates the strings to give you `\"121\"`."
      ]
    },
    {
      "cell_type": "markdown",
      "metadata": {
        "id": "DJTAnWQKzAOJ",
        "colab_type": "text"
      },
      "source": [
        "# **Data \"Munging\"**\n",
        "Inspect the output and you'll notice some funny things. There appear to be a lot of duplicates! This is a result of unclean data. To a computer, `\"Nairobi County\"` and `\"nairobi county\"` look different because of the different capitalisation. So do `\"Taita Taveta\"` and `\" Taita Taveta\"` because of the leading space. We need to clean up our data, which is sometimes referred to as \"data munging.\"\n",
        "\n",
        "We already know one munging function, `strip()`. Try applying `strip()` to each voting choice, to remove distinctions like `\" Taita Taveta\"` and `\"Taita Taveta\"`.\n",
        "\n",
        "How about `\"Nairobi County\"` and `\"nairobi county\"`? Take a look at the [Python string functions reference](https://docs.python.org/3/library/stdtypes.html#string-methods) and see if you can find a function that could transform these two so they look the same to the computer."
      ]
    },
    {
      "cell_type": "markdown",
      "metadata": {
        "id": "wYJXBk8N0DYo",
        "colab_type": "text"
      },
      "source": [
        "### Solution\n",
        "There are lots of functions which could remove the case distinction. `str.lower()` would convert all the names to all lower case, `str.upper()` would CONVERT THEM ALL TO UPPER CASE, or `str.capitalize()` would Capitalise the first letter only. Here’s one way:"
      ]
    },
    {
      "cell_type": "code",
      "metadata": {
        "id": "DILU8DR7yyj9",
        "colab_type": "code",
        "colab": {}
      },
      "source": [
        "# Create an empty dictionary for associating county names with vote counts\n",
        "counts = {}\n",
        "\n",
        "with open(\"KEcounty_votes.txt\") as file:\n",
        "  for line in file:\n",
        "    line = line.strip()\n",
        "    name, vote = line.split(\" - \")\n",
        "    # munge the vote string to clean it up\n",
        "    vote = vote.strip().capitalize()\n",
        "    if not vote in counts:\n",
        "      # First vote for this variety\n",
        "      counts[vote] = 1\n",
        "    else:\n",
        "      # Increment the vote count\n",
        "      counts[vote] = counts[vote] + 1\n",
        "print(counts)"
      ],
      "execution_count": null,
      "outputs": []
    },
    {
      "cell_type": "markdown",
      "metadata": {
        "id": "XYkYqZmb0rWn",
        "colab_type": "text"
      },
      "source": [
        "See the comment to see the \"munging\" line we've added. This basically says, “take the variable called `vote`, and call the `strip()` function on it, and then call the `capitalize()` function on the result, and then assign that result back to the variable `vote`.\n",
        "\n",
        "Now, there are still some funny votes counted in the output of this program! They all have something in common, a double space “ “ between the first and second words. BLAHRG! Stupid typos! The `strip()` only cleaned up additional whitespace at the start and end of the string. We can use the `replace` function can be used to replace all double spaces with a single space. Try plugging the following code into your program so those last few votes get counted correctly: `vote = vote.replace(\"  \", \" \")` The first set of quotes has *two* spaces, while the second only has one!"
      ]
    },
    {
      "cell_type": "markdown",
      "metadata": {
        "id": "6P3tTR-k2BC2",
        "colab_type": "text"
      },
      "source": [
        "# **Vote Checking**\n",
        "So far we’ve counted votes without paying attention to the name of the person who voted. Can you modify your program so it also prints out a warning if anyone voted twice?\n",
        "\n",
        "You will need to start making a list of the names of everyone who has voted so far. Each time you see a new name, check if it is already in the list of names. Starting with an empty list of names, you can use `voterlist.append(newentry)` to append a new entry to the end.\n",
        "\n",
        "You’ll need to apply the same data munging techniques to clean up people’s names, so that “Joanne Smith” and “joanne smith” are counted as the same person."
      ]
    },
    {
      "cell_type": "markdown",
      "metadata": {
        "id": "xJDwb-fU2scL",
        "colab_type": "text"
      },
      "source": [
        "### Solution \n",
        "This is just one way to solve this. \n",
        "\n"
      ]
    },
    {
      "cell_type": "code",
      "metadata": {
        "id": "ip8RXuhJ035o",
        "colab_type": "code",
        "colab": {}
      },
      "source": [
        "# Create an empty dictionary for associating radish names with vote counts\n",
        "counts = {}\n",
        "\n",
        "# Create an empty list with the names of everyone who voted\n",
        "voted = []\n",
        "\n",
        "with open(\"KEcounty_votes.txt\") as file:\n",
        "  for line in file:\n",
        "    line = line.strip() \n",
        "    name, vote = line.split(\" - \") \n",
        "    # clean up the person’s name \n",
        "    name = name.strip().capitalize().replace(\" \",\" \") \n",
        "    # check if this person already voted \n",
        "    if name in voted:\n",
        "      print(name + \" has already voted! Fraud!\")\n",
        "      continue\n",
        "    voted.append(name)\n",
        "    # munge the vote string to clean it up \n",
        "    vote = vote.strip().capitalize().replace(\"  \",\" \")\n",
        "    if not vote in counts: \n",
        "      # First vote for this variety\n",
        "      counts[vote] = 1 \n",
        "    else: \n",
        "      # Increment the vote count \n",
        "      counts[vote] += 1\n",
        "\n",
        "print(\"Results:\")\n",
        "print()\n",
        "for name in counts:\n",
        "  print(name + \": \" + str(counts[name]))"
      ],
      "execution_count": null,
      "outputs": []
    },
    {
      "cell_type": "markdown",
      "metadata": {
        "id": "PHiBegv068o5",
        "colab_type": "text"
      },
      "source": [
        "There’s two new concepts in the code above:\n",
        "\n",
        "`continue` means \"stop whatever you were doing and go to the next iteration of the loop\". In this case, if the person has already voted then we don’t want to count their invalid vote - instead we `continue` and start the next iteration, with the next vote on the next line of the file.\n",
        "\n",
        "`counts[vote] += 1` is a shorthand for `counts[vote] = counts[vote] + 1`."
      ]
    },
    {
      "cell_type": "markdown",
      "metadata": {
        "id": "nOz7NvS19kVZ",
        "colab_type": "text"
      },
      "source": [
        "### Solution with Functions\n",
        "Let's split our code into functions to make it easier to read. We'll need functions to:\n",
        "* clean up (munge) a string to make it easy to \n",
        "match against (because we do the exact same thing to clean up names as we do to clean up the vote choice.),\n",
        "* check if someone has voted before, and\n",
        "* count a vote.\n"
      ]
    },
    {
      "cell_type": "code",
      "metadata": {
        "id": "m10B3LD07KG1",
        "colab_type": "code",
        "colab": {}
      },
      "source": [
        "# Create an empty dictionary for associating radish names with vote counts\n",
        "counts = {}\n",
        "\n",
        "# Create an empty list with the names of everyone who voted\n",
        "voted = []\n",
        "\n",
        "# Clean up (munge) a string so it's easy to match against other strings\n",
        "def clean_string(s):\n",
        "  return s.strip().capitalize().replace(\"  \",\" \")\n",
        "\n",
        "# Check if someone has voted already and return True or False\n",
        "def has_already_voted(name):\n",
        "  if name in voted:\n",
        "    print(name + \" has already voted! Fraud!\")\n",
        "    return True\n",
        "  return False\n",
        "\n",
        "# Count a vote for the county named 'counties'\n",
        "def count_vote(counties):\n",
        "  if not counties in counts:\n",
        "    # First vote for this variety\n",
        "    counts[counties] = 1\n",
        "  else:\n",
        "    # Increment the county count\n",
        "    counts[counties] = counts[counties] + 1\n",
        "\n",
        "with open(\"KEcounty_votes.txt\") as file:\n",
        "  for line in file:\n",
        "    line = line.strip()\n",
        "    name, vote = line.split(\" - \")\n",
        "    name = clean_string(name)\n",
        "    vote = clean_string(vote)\n",
        "    \n",
        "    if not has_already_voted(name):\n",
        "      count_vote(vote)\n",
        "    voted.append(name)\n",
        "\n",
        "print(\"Results:\")\n",
        "print()\n",
        "for name in counts:\n",
        "    print(name + \": \" + str(counts[name]))\n"
      ],
      "execution_count": null,
      "outputs": []
    },
    {
      "cell_type": "markdown",
      "metadata": {
        "id": "LGjZW3DmDmSO",
        "colab_type": "text"
      },
      "source": [
        "### Finding a Winner Add On"
      ]
    },
    {
      "cell_type": "markdown",
      "metadata": {
        "id": "wEzZAVIODK7D",
        "colab_type": "text"
      },
      "source": [
        "# **Finding a Winner**\n",
        "Our program prints the number of votes cast for each county, but it doesn’t declare a winner. Can you update the program so it goes through the votes counted and finds the one with the most votes?\n",
        "\n",
        "(You may want to add this as a totally separate cell, after the previous cells, rather than modifying your existing loops.)"
      ]
    },
    {
      "cell_type": "code",
      "metadata": {
        "id": "tphyWwEUDlCO",
        "colab_type": "code",
        "colab": {}
      },
      "source": [
        "# Record the winning name and the votes cast for it\n",
        "winner_name = \"No winner\"\n",
        "winner_votes = 0\n",
        "\n",
        "for name in counts:\n",
        "  if counts[name] > winner_votes:\n",
        "    winner_votes = counts[name]\n",
        "    winner_name = name\n",
        "\n",
        "print(\"The winner is: \" + winner_name)"
      ],
      "execution_count": null,
      "outputs": []
    },
    {
      "cell_type": "markdown",
      "metadata": {
        "id": "CYB6iyJYD42N",
        "colab_type": "text"
      },
      "source": [
        "The loop shown above keeps track of one name, `winner_name`, and the number of votes cast for it. Each iteration through the loop it checks if there is a name with more votes than the current winner, and updates it if so."
      ]
    }
  ]
}