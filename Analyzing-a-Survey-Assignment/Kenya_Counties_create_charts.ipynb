{
  "nbformat": 4,
  "nbformat_minor": 0,
  "metadata": {
    "colab": {
      "name": "Kenya_Counties_create_charts.ipynb",
      "provenance": [],
      "collapsed_sections": [
        "kBLLwvPZi_gj"
      ],
      "authorship_tag": "ABX9TyODyvYbJ11z4Fp8Ka1ZNrCl",
      "include_colab_link": true
    },
    "kernelspec": {
      "name": "python3",
      "display_name": "Python 3"
    }
  },
  "cells": [
    {
      "cell_type": "markdown",
      "metadata": {
        "id": "view-in-github",
        "colab_type": "text"
      },
      "source": [
        "<a href=\"https://colab.research.google.com/github/Shadrock/online-python-course/blob/master/Analyzing_a_Survey_Assignment/Kenya_Counties_create_charts.ipynb\" target=\"_parent\"><img src=\"https://colab.research.google.com/assets/colab-badge.svg\" alt=\"Open In Colab\"/></a>"
      ]
    },
    {
      "cell_type": "markdown",
      "metadata": {
        "id": "kBLLwvPZi_gj",
        "colab_type": "text"
      },
      "source": [
        "# **Creating Charts in Python**\n",
        "So far we've done some processing on our survey of counties in Kenya, but we can take things further and explore some more features using a Jupyter notbook. We’re going to use a Python library called [Matplotlib](https://matplotlib.org/) to create some graphical charts based on our data."
      ]
    },
    {
      "cell_type": "markdown",
      "metadata": {
        "id": "9cR_YpR2jpjd",
        "colab_type": "text"
      },
      "source": [
        "Try the simple code below and you’ll see that the output is a line chart is plotted in the notebook, under the code cell. matplotlib can also output charts in other formats like image files, but being able to edit the code and regenerate the chart inline is one of the nice features of Jupyter notebooks."
      ]
    },
    {
      "cell_type": "code",
      "metadata": {
        "id": "rcK_OT7cffvh",
        "colab_type": "code",
        "colab": {}
      },
      "source": [
        "import matplotlib.pyplot as plt\n",
        "vals = [3,2,5,0,1]\n",
        "plt.plot(vals)"
      ],
      "execution_count": null,
      "outputs": []
    },
    {
      "cell_type": "markdown",
      "metadata": {
        "id": "UdYuMMr0kAg9",
        "colab_type": "text"
      },
      "source": [
        "If you want to use matplotlib directly from Python instead of via a Notebook, you just need to add one final line to each of your programs: `plt.show()` will display a window with the chart you created, and pause the script until you close it.\n",
        "\n",
        "All the examples here assume you’re using matplotlib with a Notebook, so remember this additional line if you're not. "
      ]
    },
    {
      "cell_type": "markdown",
      "metadata": {
        "id": "ECdvIJZ5kfO0",
        "colab_type": "text"
      },
      "source": [
        "## Load Your Data\n",
        "Load the survey using the same code you did previously."
      ]
    },
    {
      "cell_type": "code",
      "metadata": {
        "id": "IZCp0etrkVtm",
        "colab_type": "code",
        "colab": {}
      },
      "source": [
        "# Upload local script to Colab - running this creates a \"choose file\" button to upload local files. \n",
        "from google.colab import files\n",
        "uploaded = files.upload()"
      ],
      "execution_count": null,
      "outputs": []
    },
    {
      "cell_type": "markdown",
      "metadata": {
        "id": "HeX3AlYul7WQ",
        "colab_type": "text"
      },
      "source": [
        "We'll use matplotlib to generate a bar graph to display the vote counts from the Kenya Counties program we wrote.\n",
        "\n",
        "If you already have the counties program loaded in Colab, then you can add the following code to it. Otherwise, we'll need to run some of the old code here to generate some of the variables we created including `counts`, which holds a dictionary mapping each county name to the vote count. Let’s use that to plot the vote counts. Previously, we used the code below, which we created at the very end of the Notebook to \"munge\" our data and create different functions for really clean code. "
      ]
    },
    {
      "cell_type": "code",
      "metadata": {
        "id": "klkkSgKjmdeq",
        "colab_type": "code",
        "colab": {}
      },
      "source": [
        "# Create an empty dictionary for associating county names with vote counts\n",
        "counts = {}\n",
        "\n",
        "# Create an empty list with the names of everyone who voted\n",
        "voted = []\n",
        "\n",
        "# Clean up (munge) a string so it's easy to match against other strings\n",
        "def clean_string(s):\n",
        "  return s.strip().capitalize().replace(\"  \",\" \")\n",
        "\n",
        "# Check if someone has voted already and return True or False\n",
        "def has_already_voted(name):\n",
        "  if name in voted:\n",
        "    print(name + \" has already voted! Fraud!\")\n",
        "    return True\n",
        "  return False\n",
        "\n",
        "# Count a vote for the county variety named 'county'\n",
        "def count_vote(county):\n",
        "  if not county in counts:\n",
        "    # First vote for this county\n",
        "    counts[county] = 1\n",
        "  else:\n",
        "    # Increment the county count\n",
        "    counts[county] = counts[county] + 1\n",
        "\n",
        "with open(\"KEcounty_votes.txt\") as file:\n",
        "  for line in file:\n",
        "    line = line.strip()\n",
        "    name, vote = line.split(\" - \")\n",
        "    name = clean_string(name)\n",
        "    vote = clean_string(vote)\n",
        "    \n",
        "    if not has_already_voted(name):\n",
        "      count_vote(vote)\n",
        "    voted.append(name)\n",
        "\n",
        "print(\"Results:\")\n",
        "print()\n",
        "for name in counts:\n",
        "    print(name + \": \" + str(counts[name]))"
      ],
      "execution_count": null,
      "outputs": []
    },
    {
      "cell_type": "markdown",
      "metadata": {
        "id": "wj8hq6FpnCnP",
        "colab_type": "text"
      },
      "source": [
        "Start by importing two modules - pyplot is one way to plot graph data with Matplotlib. It’s modelled on the way charting works in another popular commercial program, MATLab. NumPy is a module providing lots of numeric functions for Python."
      ]
    },
    {
      "cell_type": "code",
      "metadata": {
        "id": "FRYqiEdSnE-x",
        "colab_type": "code",
        "colab": {}
      },
      "source": [
        "import matplotlib.pyplot as plt\n",
        "import numpy as np"
      ],
      "execution_count": null,
      "outputs": []
    },
    {
      "cell_type": "markdown",
      "metadata": {
        "id": "9tPo8zeCopYp",
        "colab_type": "text"
      },
      "source": [
        "This loop processes the dictionary into a format that’s easy to send to matplotlib - a list of radish names (for the labels on the bars) and a list of vote counts (for the actual graph.)"
      ]
    },
    {
      "cell_type": "code",
      "metadata": {
        "id": "pQy2qbMvooz8",
        "colab_type": "code",
        "colab": {}
      },
      "source": [
        "names = []\n",
        "votes = []\n",
        "# Split the dictionary of names->votes into two lists, one holding names and the other holding vote counts\n",
        "for county in counts:\n",
        "    names.append(county)\n",
        "    votes.append(counts[county])"
      ],
      "execution_count": null,
      "outputs": []
    },
    {
      "cell_type": "markdown",
      "metadata": {
        "id": "x_KQfJMho7yR",
        "colab_type": "text"
      },
      "source": [
        "We create a range of indexes for the X values in the graph, one entry for each entry in the “counts” dictionary (ie `len(counts)`), numbered 0,1,2,3,etc. This will spread out the graph bars evenly across the X axis on the plot.\n",
        "\n",
        "`np.arange` is a NumPy function like the `range()` function in Python, only the result it produces is a “NumPy array”. We’ll see why this is useful in a second."
      ]
    },
    {
      "cell_type": "code",
      "metadata": {
        "id": "YB-boLodpEoH",
        "colab_type": "code",
        "colab": {}
      },
      "source": [
        "# The X axis can just be numbered 0,1,2,3...\n",
        "x = np.arange(len(counts))"
      ],
      "execution_count": null,
      "outputs": []
    },
    {
      "cell_type": "markdown",
      "metadata": {
        "id": "aXwjriR2pMqm",
        "colab_type": "text"
      },
      "source": [
        "`plt.bar()` creates a bar graph, using the \"x\" values as the X axis positions and the values in the votes array (ie the vote counts) as the height of each bar. \n",
        "\n",
        "`plt.xticks()` specifies a range of values to use as labels (\"ticks\") for the X axis.\n",
        "\n",
        "Finally, `rotation=90` ensures that the labels are drawn sideways (90 degree angle) not straight. You can experiment with different rotations to create different effects."
      ]
    },
    {
      "cell_type": "code",
      "metadata": {
        "id": "yki2bBGIpQS1",
        "colab_type": "code",
        "colab": {}
      },
      "source": [
        "plt.bar(x, votes)\n",
        "plt.xticks(x + 0, names, rotation=90)\n"
      ],
      "execution_count": null,
      "outputs": []
    },
    {
      "cell_type": "markdown",
      "metadata": {
        "id": "vJIa1XkGpfpm",
        "colab_type": "text"
      },
      "source": [
        "# **Challenge**\n",
        "There’s no label on the Y axis showing that it represents the vote count.\n",
        "\n",
        "Can you update your bar graph code so it does this? Take a look at the [ylabel() function in the pyplot documentation](https://matplotlib.org/api/pyplot_api.html#matplotlib.pyplot.ylabel)."
      ]
    }
  ]
}