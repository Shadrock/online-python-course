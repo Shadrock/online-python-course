{
  "nbformat": 4,
  "nbformat_minor": 0,
  "metadata": {
    "colab": {
      "name": "302_Summary_Python_Data_structures.ipynb",
      "provenance": [],
      "authorship_tag": "ABX9TyOQeNDT2ec3lj50oqj7Pl2M",
      "include_colab_link": true
    },
    "kernelspec": {
      "name": "python3",
      "display_name": "Python 3"
    }
  },
  "cells": [
    {
      "cell_type": "markdown",
      "metadata": {
        "id": "view-in-github",
        "colab_type": "text"
      },
      "source": [
        "<a href=\"https://colab.research.google.com/github/Shadrock/online-python-course/blob/master/Week_5/Lecture_jupyter_notebooks/302_Summary_Python_Data_structures.ipynb\" target=\"_parent\"><img src=\"https://colab.research.google.com/assets/colab-badge.svg\" alt=\"Open In Colab\"/></a>"
      ]
    },
    {
      "cell_type": "markdown",
      "metadata": {
        "id": "-zH-PY2Y2AN_",
        "colab_type": "text"
      },
      "source": [
        "# Data Structures in Python\n",
        "When working with data, we need ways to store it in variables so we can manipulate it. The most common structures we use in this class are `lists` and `dictionaries`. Below is a refresher with some examples. \n",
        "\n"
      ]
    },
    {
      "cell_type": "markdown",
      "metadata": {
        "id": "f_xgW2gY2aeT",
        "colab_type": "text"
      },
      "source": [
        "## Understanding Data Structures\n",
        "Early on, we introduced three of the most common data types used in programming: numbers, strings and booleans. We assigned those data types to variables one-by-one, like so:\n",
        "```\n",
        "x = 3          # numbers\n",
        "a = \"gorillas\" # strings\n",
        "t = True       # booleans\n",
        "```\n",
        "But what if we need something more complicated? Imagine creating a list for items needed in a refugee camp: assigning a variable for every item in the list would makes things very complicated:\n",
        "\n",
        "```\n",
        "item_1 = \"beds\"\n",
        "item_2 = \"medical_supplies\"\n",
        "item_3 = \"water\"\n",
        "```"
      ]
    },
    {
      "cell_type": "markdown",
      "metadata": {
        "id": "Sz7fsqxAFK6r",
        "colab_type": "text"
      },
      "source": [
        "###*Lists*\n",
        "\n",
        "Instead of assigning every single thing to a variable, we can use the `list` data type. An empty list is simply `[]` Let's create a new, empty, list by running the code block below. "
      ]
    },
    {
      "cell_type": "code",
      "metadata": {
        "id": "6UoFlCGH14LH",
        "colab_type": "code",
        "colab": {}
      },
      "source": [
        "camp_needs_list = []"
      ],
      "execution_count": 1,
      "outputs": []
    },
    {
      "cell_type": "markdown",
      "metadata": {
        "id": "kAKTCQxN3vIZ",
        "colab_type": "text"
      },
      "source": [
        "You can see what is inside a list by just typing the name of the list. Run the code below. "
      ]
    },
    {
      "cell_type": "code",
      "metadata": {
        "id": "znVskuHa3yqV",
        "colab_type": "code",
        "colab": {}
      },
      "source": [
        "camp_needs_list"
      ],
      "execution_count": null,
      "outputs": []
    },
    {
      "cell_type": "markdown",
      "metadata": {
        "id": "uZ5zh3We8hHP",
        "colab_type": "text"
      },
      "source": [
        "We can add items to `camp_needs_list` by using `.append`. Try typing the following commands into the Python interpreter."
      ]
    },
    {
      "cell_type": "code",
      "metadata": {
        "id": "tZOz1h9M81Fk",
        "colab_type": "code",
        "colab": {}
      },
      "source": [
        "camp_needs_list.append(\"beds\")\n",
        "camp_needs_list.append(\"medical_supplies\")\n",
        "camp_needs_list.append(\"water\")"
      ],
      "execution_count": 5,
      "outputs": []
    },
    {
      "cell_type": "markdown",
      "metadata": {
        "id": "H-C_j35e9HS8",
        "colab_type": "text"
      },
      "source": [
        "What is in the shopping list? What happens when you append numbers or booleans to the list?"
      ]
    },
    {
      "cell_type": "code",
      "metadata": {
        "id": "Ds1Y1uN-9J0I",
        "colab_type": "code",
        "colab": {}
      },
      "source": [
        ""
      ],
      "execution_count": null,
      "outputs": []
    },
    {
      "cell_type": "markdown",
      "metadata": {
        "id": "KfB2Hfj_9NnJ",
        "colab_type": "text"
      },
      "source": [
        "\n",
        "You can also assign a list with some items in it all in a single line. Run the code below and check it to see. "
      ]
    },
    {
      "cell_type": "code",
      "metadata": {
        "id": "kd8v0KHy9MIN",
        "colab_type": "code",
        "colab": {}
      },
      "source": [
        "shopping_list = [\"milk\", \"cheese\", \"bread\"]"
      ],
      "execution_count": 10,
      "outputs": []
    },
    {
      "cell_type": "markdown",
      "metadata": {
        "id": "o6L6MoMc9e1P",
        "colab_type": "text"
      },
      "source": [
        "To remove an item from the list we use `remove()`: run the code below to see what happens. "
      ]
    },
    {
      "cell_type": "code",
      "metadata": {
        "id": "DupocOaR9jct",
        "colab_type": "code",
        "colab": {}
      },
      "source": [
        "shopping_list.remove(\"milk\")\n",
        "print(shopping_list)"
      ],
      "execution_count": null,
      "outputs": []
    },
    {
      "cell_type": "markdown",
      "metadata": {
        "id": "-wjacHT597kq",
        "colab_type": "text"
      },
      "source": [
        "Lists can easily be processed in a `for` loop. Have a look at this example which prints each item of the list in a new row:"
      ]
    },
    {
      "cell_type": "code",
      "metadata": {
        "id": "OPMRMuI29_Xb",
        "colab_type": "code",
        "colab": {}
      },
      "source": [
        "for item in camp_needs_list:\n",
        "    print(item)"
      ],
      "execution_count": null,
      "outputs": []
    },
    {
      "cell_type": "markdown",
      "metadata": {
        "id": "H1zqjuhR-FHU",
        "colab_type": "text"
      },
      "source": [
        "It's also easy to check if something is in a list or not:"
      ]
    },
    {
      "cell_type": "code",
      "metadata": {
        "id": "tNCf_He3-Jzy",
        "colab_type": "code",
        "colab": {}
      },
      "source": [
        "if \"beds\" in camp_needs_list:   # Checks list to see if something is present\n",
        "    print(\"In list.\")\n",
        "\n",
        "if \"food_rations\" not in camp_needs_list: # Checks list to see if somethign is absent.\n",
        "    print(\"Needed item!\")\n",
        "    camp_needs_list.append(\"food_rations\") # If the item is absent, it is appended to the list. "
      ],
      "execution_count": null,
      "outputs": []
    },
    {
      "cell_type": "markdown",
      "metadata": {
        "id": "kgW4e5pj-yVp",
        "colab_type": "text"
      },
      "source": [
        "Lists are the most common data structure in programming. There are lots of other things you can do with lists, and all languages have their own subtly different interpretation. However, they are all fundamentally very similar."
      ]
    },
    {
      "cell_type": "markdown",
      "metadata": {
        "id": "9ROgvuix_A4b",
        "colab_type": "text"
      },
      "source": [
        "###*Dictionaries*\n",
        "\n",
        "The other main data type is the dictionary. The dictionary allows you to associate one piece of data (a \"key\") with another (a \"value\"). The analogy comes from real-life dictionaries, where we associate a word (the \"key\") with its meaning. It's a little harder to understand than a list, but Python makes them very easy to deal with.\n",
        "\n",
        "You can create a dictionary with `{}`. Run the code block below to initialize a new list.  "
      ]
    },
    {
      "cell_type": "code",
      "metadata": {
        "id": "PRI7GdNx-7IO",
        "colab_type": "code",
        "colab": {}
      },
      "source": [
        "refugee_camps = {}"
      ],
      "execution_count": 14,
      "outputs": []
    },
    {
      "cell_type": "markdown",
      "metadata": {
        "id": "22tKha0kASBL",
        "colab_type": "text"
      },
      "source": [
        "You can add items to the dictionary like so: "
      ]
    },
    {
      "cell_type": "code",
      "metadata": {
        "id": "IIgJgVcdAUU0",
        "colab_type": "code",
        "colab": {}
      },
      "source": [
        "refugee_camps[\"Kakuma\"] = \"Kenya\"\n",
        "refugee_camps[\"Zaatari\"] = \"Jordan\"\n"
      ],
      "execution_count": 16,
      "outputs": []
    },
    {
      "cell_type": "markdown",
      "metadata": {
        "id": "fVbd-_1HAm8A",
        "colab_type": "text"
      },
      "source": [
        "The keys in this example are \"Kakuma\" and \"Zaatari\", and the values are the things that we assign to them. You can use any data type that won.t change as a dictionary key. Check it out by using a number, a boolean value, and a list as keys in a dictionary. What does this say about strings?\n",
        "\n",
        "As with lists, you can always see what is inside a dictionary by running the name of the dictionary:"
      ]
    },
    {
      "cell_type": "code",
      "metadata": {
        "id": "JvorvX-rA1YA",
        "colab_type": "code",
        "colab": {}
      },
      "source": [
        "refugee_camps"
      ],
      "execution_count": null,
      "outputs": []
    },
    {
      "cell_type": "markdown",
      "metadata": {
        "id": "vNiaZSdoA5iS",
        "colab_type": "text"
      },
      "source": [
        "You can look up any entry in the dictionary by its key. Run the code block below."
      ]
    },
    {
      "cell_type": "code",
      "metadata": {
        "id": "od5lrv9PA7o5",
        "colab_type": "code",
        "colab": {}
      },
      "source": [
        "refugee_camps[\"Kakuma\"]"
      ],
      "execution_count": null,
      "outputs": []
    },
    {
      "cell_type": "markdown",
      "metadata": {
        "id": "LZmV7AOIBBnr",
        "colab_type": "text"
      },
      "source": [
        "If the key isn’t found in the dictionary, a `KeyError` occurs:"
      ]
    },
    {
      "cell_type": "code",
      "metadata": {
        "id": "7rZIDGltBHJ7",
        "colab_type": "code",
        "colab": {}
      },
      "source": [
        "refugee_camps[\"Adjumani\"]"
      ],
      "execution_count": null,
      "outputs": []
    },
    {
      "cell_type": "markdown",
      "metadata": {
        "id": "CGypU3hoBRR4",
        "colab_type": "text"
      },
      "source": [
        "As we did with lists, you can test whether a key is in the dictionary or not, by using the keyword `in` or `not in`:"
      ]
    },
    {
      "cell_type": "code",
      "metadata": {
        "id": "JDqrACOJBYKt",
        "colab_type": "code",
        "colab": {}
      },
      "source": [
        "if \"Kakuma\" in refugee_camps:\n",
        "    print(\"The following camp is included:\")\n",
        "    print(refugee_camps[\"Kakuma\"])\n"
      ],
      "execution_count": null,
      "outputs": []
    },
    {
      "cell_type": "markdown",
      "metadata": {
        "id": "qaLfT5KjBnJZ",
        "colab_type": "text"
      },
      "source": [
        "You can delete from a dictionary as well. Run the code below then check to see what remains in the dictionary. "
      ]
    },
    {
      "cell_type": "code",
      "metadata": {
        "id": "4JCZycPyBqyT",
        "colab_type": "code",
        "colab": {}
      },
      "source": [
        "del refugee_camps[\"Zaatari\"]"
      ],
      "execution_count": 21,
      "outputs": []
    },
    {
      "cell_type": "code",
      "metadata": {
        "id": "nvZJZsUMB0wl",
        "colab_type": "code",
        "colab": {}
      },
      "source": [
        "refugee_camps"
      ],
      "execution_count": null,
      "outputs": []
    },
    {
      "cell_type": "code",
      "metadata": {
        "id": "jHaeCTBgB1c9",
        "colab_type": "code",
        "colab": {}
      },
      "source": [
        ""
      ],
      "execution_count": null,
      "outputs": []
    },
    {
      "cell_type": "markdown",
      "metadata": {
        "id": "3R3LEc4iB6Hk",
        "colab_type": "text"
      },
      "source": [
        "What makes dictionaries so useful is that we can give meaning to the items within them. A list is just a bag of things, but a dictionary is a specific mapping of something to something else. By combining lists and dictionaries you can describe basically any data structure used in computing.\n",
        "\n",
        "For example, you can easily add a list to a dictionary. The following code would allow you to create a dictionary of refugee camp names, associated with a list of the supplies they have."
      ]
    },
    {
      "cell_type": "code",
      "metadata": {
        "id": "5cnkE27yCBHd",
        "colab_type": "code",
        "colab": {}
      },
      "source": [
        "Kenyan_refugeecamp_supplies = {}\n",
        "Kenyan_refugeecamp_supplies[\"Kakuma\"] = [\"water\", \"beds\", \"medical_supplies\"]"
      ],
      "execution_count": 23,
      "outputs": []
    },
    {
      "cell_type": "code",
      "metadata": {
        "id": "moG6Qz4dCZeu",
        "colab_type": "code",
        "colab": {}
      },
      "source": [
        "# Insert code to display supplies in Kakuma. \n",
        "\n"
      ],
      "execution_count": null,
      "outputs": []
    },
    {
      "cell_type": "markdown",
      "metadata": {
        "id": "6OdfqcPhC93E",
        "colab_type": "text"
      },
      "source": [
        "You create a new key\\value pair on a dictionary by assigning a value to that key. If the key doesn't exist, it's added and points to that value. If it exists, the current value it points to is overwritten."
      ]
    },
    {
      "cell_type": "code",
      "metadata": {
        "id": "I8PQb9GtCc7j",
        "colab_type": "code",
        "colab": {}
      },
      "source": [
        "Kenyan_refugeecamp_supplies['Zaatari'] = [\"water\", \"food_rations\"]"
      ],
      "execution_count": 26,
      "outputs": []
    },
    {
      "cell_type": "code",
      "metadata": {
        "id": "iJoYdGRKDXfm",
        "colab_type": "code",
        "colab": {}
      },
      "source": [
        "# Insert code to display supplies in Zaatari. \n"
      ],
      "execution_count": null,
      "outputs": []
    },
    {
      "cell_type": "markdown",
      "metadata": {
        "id": "JJY6FCKsDkTW",
        "colab_type": "text"
      },
      "source": [
        "You can also add dictionaries to lists:"
      ]
    },
    {
      "cell_type": "code",
      "metadata": {
        "id": "W38lJuffDr6z",
        "colab_type": "code",
        "colab": {}
      },
      "source": [
        "refugee_camp_population = []\n",
        "kenya = {\"name\": \"Kakuma\", \"population_2014\": 153959}\n",
        "refugee_camp_population.append(kenya)\n",
        "jordan = {\"name\": \"Zaatari\", \"population_2014\": 84773}\n",
        "refugee_camp_population.append(jordan)"
      ],
      "execution_count": 31,
      "outputs": []
    },
    {
      "cell_type": "markdown",
      "metadata": {
        "id": "1S3mrApLEpNH",
        "colab_type": "text"
      },
      "source": [
        "Unlike dictionaries, lists are *ordered* so to access the information for `kenya` we need to use it's proper index value: "
      ]
    },
    {
      "cell_type": "code",
      "metadata": {
        "id": "ly8zLmKDDzNj",
        "colab_type": "code",
        "colab": {}
      },
      "source": [
        "refugee_camp_population[0]"
      ],
      "execution_count": null,
      "outputs": []
    },
    {
      "cell_type": "markdown",
      "metadata": {
        "id": "7UBUd1A7E7VF",
        "colab_type": "text"
      },
      "source": [
        "In other programming languages dictionaries are sometimes called called \"hash tables\", \"hash maps\" or just \"maps.\""
      ]
    }
  ]
}